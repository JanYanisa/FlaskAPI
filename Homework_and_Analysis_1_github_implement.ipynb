{
  "nbformat": 4,
  "nbformat_minor": 0,
  "metadata": {
    "colab": {
      "name": "Homework and Analysis 1_github_implement.ipynb",
      "provenance": [],
      "collapsed_sections": [
        "9DhGNESMF9T2",
        "9NWxtGjxF1DP"
      ],
      "toc_visible": true,
      "authorship_tag": "ABX9TyPl+HXOugADj0lek6HswCnX"
    },
    "kernelspec": {
      "name": "python3",
      "display_name": "Python 3"
    },
    "language_info": {
      "name": "python"
    }
  },
  "cells": [
    {
      "cell_type": "markdown",
      "metadata": {
        "id": "Rw7i7uQsWVV4"
      },
      "source": [
        "# enviroment set-up"
      ]
    },
    {
      "cell_type": "code",
      "metadata": {
        "colab": {
          "base_uri": "https://localhost:8080/"
        },
        "id": "dSy0nvMXMmT-",
        "outputId": "973fd363-9125-41a9-a174-fbc053672b1b"
      },
      "source": [
        "import numpy as np\n",
        "import matplotlib.pyplot as plt\n",
        "import scipy.stats\n",
        "import pylab \n",
        "import statsmodels.api as sm\n",
        "import pandas as pd"
      ],
      "execution_count": 1,
      "outputs": [
        {
          "output_type": "stream",
          "name": "stderr",
          "text": [
            "/usr/local/lib/python3.7/dist-packages/statsmodels/tools/_testing.py:19: FutureWarning: pandas.util.testing is deprecated. Use the functions in the public API at pandas.testing instead.\n",
            "  import pandas.util.testing as tm\n"
          ]
        }
      ]
    },
    {
      "cell_type": "markdown",
      "metadata": {
        "id": "-VUhI3avL--F"
      },
      "source": [
        "# Problem 1.2"
      ]
    },
    {
      "cell_type": "code",
      "metadata": {
        "colab": {
          "base_uri": "https://localhost:8080/",
          "height": 417
        },
        "id": "E2qTPvfvL-AV",
        "outputId": "43ca30e3-451a-4020-d809-854121f0a170"
      },
      "source": [
        "FILE_SOURCE = \"https://raw.githubusercontent.com/Rotehut/mitx_sds_analysis/main/Module1_Review_Statistics_Correlation_Regression_Gradient%20Descent/HW/data_and%20materials/gamma-ray.csv?token=AM5AEFCMBNK3LIFSZGUGBGLBIWBRA\"\n",
        "df = pd.read_csv(FILE_SOURCE)\n",
        "df"
      ],
      "execution_count": 2,
      "outputs": [
        {
          "output_type": "execute_result",
          "data": {
            "text/html": [
              "<div>\n",
              "<style scoped>\n",
              "    .dataframe tbody tr th:only-of-type {\n",
              "        vertical-align: middle;\n",
              "    }\n",
              "\n",
              "    .dataframe tbody tr th {\n",
              "        vertical-align: top;\n",
              "    }\n",
              "\n",
              "    .dataframe thead th {\n",
              "        text-align: right;\n",
              "    }\n",
              "</style>\n",
              "<table border=\"1\" class=\"dataframe\">\n",
              "  <thead>\n",
              "    <tr style=\"text-align: right;\">\n",
              "      <th></th>\n",
              "      <th>seconds</th>\n",
              "      <th>count</th>\n",
              "    </tr>\n",
              "  </thead>\n",
              "  <tbody>\n",
              "    <tr>\n",
              "      <th>0</th>\n",
              "      <td>116.0</td>\n",
              "      <td>0.0</td>\n",
              "    </tr>\n",
              "    <tr>\n",
              "      <th>1</th>\n",
              "      <td>112.0</td>\n",
              "      <td>0.0</td>\n",
              "    </tr>\n",
              "    <tr>\n",
              "      <th>2</th>\n",
              "      <td>160.0</td>\n",
              "      <td>0.0</td>\n",
              "    </tr>\n",
              "    <tr>\n",
              "      <th>3</th>\n",
              "      <td>51.5</td>\n",
              "      <td>0.0</td>\n",
              "    </tr>\n",
              "    <tr>\n",
              "      <th>4</th>\n",
              "      <td>102.0</td>\n",
              "      <td>1.0</td>\n",
              "    </tr>\n",
              "    <tr>\n",
              "      <th>...</th>\n",
              "      <td>...</td>\n",
              "      <td>...</td>\n",
              "    </tr>\n",
              "    <tr>\n",
              "      <th>95</th>\n",
              "      <td>38.7</td>\n",
              "      <td>1.0</td>\n",
              "    </tr>\n",
              "    <tr>\n",
              "      <th>96</th>\n",
              "      <td>41.8</td>\n",
              "      <td>0.0</td>\n",
              "    </tr>\n",
              "    <tr>\n",
              "      <th>97</th>\n",
              "      <td>81.7</td>\n",
              "      <td>0.0</td>\n",
              "    </tr>\n",
              "    <tr>\n",
              "      <th>98</th>\n",
              "      <td>88.3</td>\n",
              "      <td>0.0</td>\n",
              "    </tr>\n",
              "    <tr>\n",
              "      <th>99</th>\n",
              "      <td>37.4</td>\n",
              "      <td>0.0</td>\n",
              "    </tr>\n",
              "  </tbody>\n",
              "</table>\n",
              "<p>100 rows × 2 columns</p>\n",
              "</div>"
            ],
            "text/plain": [
              "    seconds  count\n",
              "0     116.0    0.0\n",
              "1     112.0    0.0\n",
              "2     160.0    0.0\n",
              "3      51.5    0.0\n",
              "4     102.0    1.0\n",
              "..      ...    ...\n",
              "95     38.7    1.0\n",
              "96     41.8    0.0\n",
              "97     81.7    0.0\n",
              "98     88.3    0.0\n",
              "99     37.4    0.0\n",
              "\n",
              "[100 rows x 2 columns]"
            ]
          },
          "metadata": {},
          "execution_count": 2
        }
      ]
    },
    {
      "cell_type": "code",
      "metadata": {
        "colab": {
          "base_uri": "https://localhost:8080/"
        },
        "id": "1DDjGrAKMLcP",
        "outputId": "25fe8bbe-cd40-4f75-e58b-7e2849e72851"
      },
      "source": [
        "df.info()"
      ],
      "execution_count": 3,
      "outputs": [
        {
          "output_type": "stream",
          "name": "stdout",
          "text": [
            "<class 'pandas.core.frame.DataFrame'>\n",
            "RangeIndex: 100 entries, 0 to 99\n",
            "Data columns (total 2 columns):\n",
            " #   Column   Non-Null Count  Dtype  \n",
            "---  ------   --------------  -----  \n",
            " 0   seconds  100 non-null    float64\n",
            " 1   count    100 non-null    float64\n",
            "dtypes: float64(2)\n",
            "memory usage: 1.7 KB\n"
          ]
        }
      ]
    },
    {
      "cell_type": "code",
      "metadata": {
        "colab": {
          "base_uri": "https://localhost:8080/",
          "height": 282
        },
        "id": "mD-q6SIQMXeC",
        "outputId": "9744b278-51d0-4b88-a568-fc7ad5510b4d"
      },
      "source": [
        "plt.scatter(df[\"seconds\"], df[\"count\"])"
      ],
      "execution_count": 4,
      "outputs": [
        {
          "output_type": "execute_result",
          "data": {
            "text/plain": [
              "<matplotlib.collections.PathCollection at 0x7f6ba9c69890>"
            ]
          },
          "metadata": {},
          "execution_count": 4
        },
        {
          "output_type": "display_data",
          "data": {
            "image/png": "[encoded data removed]",
            "text/plain": [
              "<Figure size 432x288 with 1 Axes>"
            ]
          },
          "metadata": {
            "needs_background": "light"
          }
        }
      ]
    },
    {
      "cell_type": "code",
      "metadata": {
        "colab": {
          "base_uri": "https://localhost:8080/",
          "height": 284
        },
        "id": "5vYjakYQNfIh",
        "outputId": "29f80325-b5d4-4c4a-f1f3-c623d2222b42"
      },
      "source": [
        "plt.scatter(df[\"count\"], df[\"seconds\"])"
      ],
      "execution_count": 5,
      "outputs": [
        {
          "output_type": "execute_result",
          "data": {
            "text/plain": [
              "<matplotlib.collections.PathCollection at 0x7f6ba9c0c810>"
            ]
          },
          "metadata": {},
          "execution_count": 5
        },
        {
          "output_type": "display_data",
          "data": {
            "image/png": "[encoded data removed]",
            "text/plain": [
              "<Figure size 432x288 with 1 Axes>"
            ]
          },
          "metadata": {
            "needs_background": "light"
          }
        }
      ]
    },
    {
      "cell_type": "code",
      "metadata": {
        "colab": {
          "base_uri": "https://localhost:8080/"
        },
        "id": "BPjfjpV5Ntif",
        "outputId": "7e9c82df-dc90-4c9c-bd0c-6e26a7df1688"
      },
      "source": [
        "1-scipy.stats.chi2.cdf(123 , 99)"
      ],
      "execution_count": 6,
      "outputs": [
        {
          "output_type": "execute_result",
          "data": {
            "text/plain": [
              "0.051444916997488765"
            ]
          },
          "metadata": {},
          "execution_count": 6
        }
      ]
    },
    {
      "cell_type": "code",
      "metadata": {
        "id": "P2xNZOLMQozn"
      },
      "source": [
        "G = np.array(df[\"count\"])\n",
        "t = np.array(df[\"seconds\"])"
      ],
      "execution_count": 7,
      "outputs": []
    },
    {
      "cell_type": "code",
      "metadata": {
        "id": "n0ae2l6rQ3aa"
      },
      "source": [
        "l = G/t"
      ],
      "execution_count": 8,
      "outputs": []
    },
    {
      "cell_type": "code",
      "metadata": {
        "colab": {
          "base_uri": "https://localhost:8080/"
        },
        "id": "SmjpZNV1Q7m-",
        "outputId": "68d4ee35-36f2-4ac5-cba0-c077c75d6ba6"
      },
      "source": [
        "l.shape"
      ],
      "execution_count": 9,
      "outputs": [
        {
          "output_type": "execute_result",
          "data": {
            "text/plain": [
              "(100,)"
            ]
          },
          "metadata": {},
          "execution_count": 9
        }
      ]
    },
    {
      "cell_type": "code",
      "metadata": {
        "colab": {
          "base_uri": "https://localhost:8080/"
        },
        "id": "iWnoyuDFRFRw",
        "outputId": "d1d6bef3-bab0-4587-9cba-e66ef82c35c3"
      },
      "source": [
        "u = np.array([])\n",
        "b = np.array([])\n",
        "for i in range(len(G)):\n",
        "  u = np.append(u, scipy.stats.poisson.pmf(G[i], 0.0039))\n",
        "  b = np.append(b, scipy.stats.poisson.pmf(G[i], l[i]))\n",
        "\n",
        "-2*np.log(u.prod()/b.prod())"
      ],
      "execution_count": 10,
      "outputs": [
        {
          "output_type": "execute_result",
          "data": {
            "text/plain": [
              "103.73607106898356"
            ]
          },
          "metadata": {},
          "execution_count": 10
        }
      ]
    },
    {
      "cell_type": "code",
      "metadata": {
        "id": "BrU04OUERADk"
      },
      "source": [
        "# -2 * np.log((binom.pmf(63,31000,102/62000)*binom.pmf(39, 31000, 102/62000))/(binom.pmf(39,31000,39/31000)*binom.pmf(63,31000,63/31000)))"
      ],
      "execution_count": null,
      "outputs": []
    },
    {
      "cell_type": "code",
      "metadata": {
        "colab": {
          "base_uri": "https://localhost:8080/"
        },
        "id": "J-xy1FEkU70u",
        "outputId": "2f05062d-c490-4eb4-b887-43ec852477a8"
      },
      "source": [
        "1-scipy.stats.chi2.cdf(-2*np.log(u.prod()/b.prod()) , 99)"
      ],
      "execution_count": null,
      "outputs": [
        {
          "output_type": "execute_result",
          "data": {
            "text/plain": [
              "0.3525033297237604"
            ]
          },
          "metadata": {},
          "execution_count": 143
        }
      ]
    },
    {
      "cell_type": "code",
      "metadata": {
        "colab": {
          "base_uri": "https://localhost:8080/"
        },
        "id": "zd54PYjPB_Mc",
        "outputId": "3c8816fe-699d-4f65-ce04-6996da7a14d9"
      },
      "source": [
        "2*(1-scipy.stats.chi2.cdf(-2*np.log(u.prod()/b.prod()) , 99))"
      ],
      "execution_count": null,
      "outputs": [
        {
          "output_type": "execute_result",
          "data": {
            "text/plain": [
              "0.7050066594475208"
            ]
          },
          "metadata": {},
          "execution_count": 146
        }
      ]
    },
    {
      "cell_type": "code",
      "metadata": {
        "colab": {
          "base_uri": "https://localhost:8080/"
        },
        "id": "I-jLpcOUCbsb",
        "outputId": "6297e1e9-fb6c-43c5-cfff-2f4fad0e00ec"
      },
      "source": [
        "(1-scipy.stats.chi2.cdf(-2*np.log(u.prod()/b.prod()) , 99))/2"
      ],
      "execution_count": null,
      "outputs": [
        {
          "output_type": "execute_result",
          "data": {
            "text/plain": [
              "0.1762516648618802"
            ]
          },
          "metadata": {},
          "execution_count": 147
        }
      ]
    },
    {
      "cell_type": "markdown",
      "metadata": {
        "id": "hHAt4X6yTiiG"
      },
      "source": [
        "# Problem 1.4"
      ]
    },
    {
      "cell_type": "code",
      "metadata": {
        "id": "ALrt47XnXBhM"
      },
      "source": [
        "FILE_SOURCE = \"https://raw.githubusercontent.com/Rotehut/mitx_sds_analysis/main/Module1_Review_Statistics_Correlation_Regression_Gradient%20Descent/HW/data_and%20materials/golub_data/golub.csv?token=AM5AEFGKCZC6EH2IAKEANF3BIWBYW\"\n",
        "golub_data = pd.read_csv(FILE_SOURCE)"
      ],
      "execution_count": 13,
      "outputs": []
    },
    {
      "cell_type": "code",
      "metadata": {
        "colab": {
          "base_uri": "https://localhost:8080/",
          "height": 454
        },
        "id": "mkTx_F98YSxw",
        "outputId": "1eb215f3-2dc5-4354-d7d3-440220f7e062"
      },
      "source": [
        "golub_data"
      ],
      "execution_count": 14,
      "outputs": [
        {
          "output_type": "execute_result",
          "data": {
            "text/html": [
              "<div>\n",
              "<style scoped>\n",
              "    .dataframe tbody tr th:only-of-type {\n",
              "        vertical-align: middle;\n",
              "    }\n",
              "\n",
              "    .dataframe tbody tr th {\n",
              "        vertical-align: top;\n",
              "    }\n",
              "\n",
              "    .dataframe thead th {\n",
              "        text-align: right;\n",
              "    }\n",
              "</style>\n",
              "<table border=\"1\" class=\"dataframe\">\n",
              "  <thead>\n",
              "    <tr style=\"text-align: right;\">\n",
              "      <th></th>\n",
              "      <th>Unnamed: 0</th>\n",
              "      <th>V1</th>\n",
              "      <th>V2</th>\n",
              "      <th>V3</th>\n",
              "      <th>V4</th>\n",
              "      <th>V5</th>\n",
              "      <th>V6</th>\n",
              "      <th>V7</th>\n",
              "      <th>V8</th>\n",
              "      <th>V9</th>\n",
              "      <th>V10</th>\n",
              "      <th>V11</th>\n",
              "      <th>V12</th>\n",
              "      <th>V13</th>\n",
              "      <th>V14</th>\n",
              "      <th>V15</th>\n",
              "      <th>V16</th>\n",
              "      <th>V17</th>\n",
              "      <th>V18</th>\n",
              "      <th>V19</th>\n",
              "      <th>V20</th>\n",
              "      <th>V21</th>\n",
              "      <th>V22</th>\n",
              "      <th>V23</th>\n",
              "      <th>V24</th>\n",
              "      <th>V25</th>\n",
              "      <th>V26</th>\n",
              "      <th>V27</th>\n",
              "      <th>V28</th>\n",
              "      <th>V29</th>\n",
              "      <th>V30</th>\n",
              "      <th>V31</th>\n",
              "      <th>V32</th>\n",
              "      <th>V33</th>\n",
              "      <th>V34</th>\n",
              "      <th>V35</th>\n",
              "      <th>V36</th>\n",
              "      <th>V37</th>\n",
              "      <th>V38</th>\n",
              "    </tr>\n",
              "  </thead>\n",
              "  <tbody>\n",
              "    <tr>\n",
              "      <th>0</th>\n",
              "      <td>1</td>\n",
              "      <td>-1.45769</td>\n",
              "      <td>-1.39420</td>\n",
              "      <td>-1.42779</td>\n",
              "      <td>-1.40715</td>\n",
              "      <td>-1.42668</td>\n",
              "      <td>-1.21719</td>\n",
              "      <td>-1.37386</td>\n",
              "      <td>-1.36832</td>\n",
              "      <td>-1.47649</td>\n",
              "      <td>-1.21583</td>\n",
              "      <td>-1.28137</td>\n",
              "      <td>-1.03209</td>\n",
              "      <td>-1.36149</td>\n",
              "      <td>-1.39979</td>\n",
              "      <td>0.17628</td>\n",
              "      <td>-1.40095</td>\n",
              "      <td>-1.56783</td>\n",
              "      <td>-1.20466</td>\n",
              "      <td>-1.24482</td>\n",
              "      <td>-1.60767</td>\n",
              "      <td>-1.06221</td>\n",
              "      <td>-1.12665</td>\n",
              "      <td>-1.20963</td>\n",
              "      <td>-1.48332</td>\n",
              "      <td>-1.25268</td>\n",
              "      <td>-1.27619</td>\n",
              "      <td>-1.23051</td>\n",
              "      <td>-1.43337</td>\n",
              "      <td>-1.08902</td>\n",
              "      <td>-1.29865</td>\n",
              "      <td>-1.26183</td>\n",
              "      <td>-1.44434</td>\n",
              "      <td>1.10147</td>\n",
              "      <td>-1.34158</td>\n",
              "      <td>-1.22961</td>\n",
              "      <td>-0.75919</td>\n",
              "      <td>0.84905</td>\n",
              "      <td>-0.66465</td>\n",
              "    </tr>\n",
              "    <tr>\n",
              "      <th>1</th>\n",
              "      <td>2</td>\n",
              "      <td>-0.75161</td>\n",
              "      <td>-1.26278</td>\n",
              "      <td>-0.09052</td>\n",
              "      <td>-0.99596</td>\n",
              "      <td>-1.24245</td>\n",
              "      <td>-0.69242</td>\n",
              "      <td>-1.37386</td>\n",
              "      <td>-0.50803</td>\n",
              "      <td>-1.04533</td>\n",
              "      <td>-0.81257</td>\n",
              "      <td>-1.28137</td>\n",
              "      <td>-1.03209</td>\n",
              "      <td>-0.74005</td>\n",
              "      <td>-0.83161</td>\n",
              "      <td>0.41200</td>\n",
              "      <td>-1.27669</td>\n",
              "      <td>-0.74370</td>\n",
              "      <td>-1.20466</td>\n",
              "      <td>-1.02380</td>\n",
              "      <td>-0.38779</td>\n",
              "      <td>-1.06221</td>\n",
              "      <td>-1.12665</td>\n",
              "      <td>-1.20963</td>\n",
              "      <td>-1.12185</td>\n",
              "      <td>-0.65264</td>\n",
              "      <td>-1.27619</td>\n",
              "      <td>-1.23051</td>\n",
              "      <td>-1.18065</td>\n",
              "      <td>-1.08902</td>\n",
              "      <td>-1.05094</td>\n",
              "      <td>-1.26183</td>\n",
              "      <td>-1.25918</td>\n",
              "      <td>0.97813</td>\n",
              "      <td>-0.79357</td>\n",
              "      <td>-1.22961</td>\n",
              "      <td>-0.71792</td>\n",
              "      <td>0.45127</td>\n",
              "      <td>-0.45804</td>\n",
              "    </tr>\n",
              "    <tr>\n",
              "      <th>2</th>\n",
              "      <td>3</td>\n",
              "      <td>0.45695</td>\n",
              "      <td>-0.09654</td>\n",
              "      <td>0.90325</td>\n",
              "      <td>-0.07194</td>\n",
              "      <td>0.03232</td>\n",
              "      <td>0.09713</td>\n",
              "      <td>-0.11978</td>\n",
              "      <td>0.23381</td>\n",
              "      <td>0.23987</td>\n",
              "      <td>0.44201</td>\n",
              "      <td>-0.39560</td>\n",
              "      <td>-0.62533</td>\n",
              "      <td>0.45181</td>\n",
              "      <td>1.09519</td>\n",
              "      <td>1.09318</td>\n",
              "      <td>0.34300</td>\n",
              "      <td>0.20010</td>\n",
              "      <td>0.38992</td>\n",
              "      <td>0.00641</td>\n",
              "      <td>1.10932</td>\n",
              "      <td>0.21952</td>\n",
              "      <td>-0.72267</td>\n",
              "      <td>0.51690</td>\n",
              "      <td>0.28577</td>\n",
              "      <td>0.61937</td>\n",
              "      <td>0.20085</td>\n",
              "      <td>0.29278</td>\n",
              "      <td>0.26624</td>\n",
              "      <td>-0.43377</td>\n",
              "      <td>-0.10823</td>\n",
              "      <td>-0.29385</td>\n",
              "      <td>0.05067</td>\n",
              "      <td>1.69430</td>\n",
              "      <td>-0.12472</td>\n",
              "      <td>0.04609</td>\n",
              "      <td>0.24347</td>\n",
              "      <td>0.90774</td>\n",
              "      <td>0.46509</td>\n",
              "    </tr>\n",
              "    <tr>\n",
              "      <th>3</th>\n",
              "      <td>4</td>\n",
              "      <td>3.13533</td>\n",
              "      <td>0.21415</td>\n",
              "      <td>2.08754</td>\n",
              "      <td>2.23467</td>\n",
              "      <td>0.93811</td>\n",
              "      <td>2.24089</td>\n",
              "      <td>3.36576</td>\n",
              "      <td>1.97859</td>\n",
              "      <td>2.66468</td>\n",
              "      <td>-1.21583</td>\n",
              "      <td>0.59110</td>\n",
              "      <td>3.26050</td>\n",
              "      <td>-1.36149</td>\n",
              "      <td>0.64180</td>\n",
              "      <td>2.32621</td>\n",
              "      <td>-1.40095</td>\n",
              "      <td>-1.56783</td>\n",
              "      <td>0.83502</td>\n",
              "      <td>-1.24482</td>\n",
              "      <td>-1.60767</td>\n",
              "      <td>-1.06221</td>\n",
              "      <td>3.69445</td>\n",
              "      <td>3.70837</td>\n",
              "      <td>-1.48332</td>\n",
              "      <td>2.36698</td>\n",
              "      <td>-1.27619</td>\n",
              "      <td>2.89604</td>\n",
              "      <td>0.71990</td>\n",
              "      <td>0.29598</td>\n",
              "      <td>-1.29865</td>\n",
              "      <td>2.76869</td>\n",
              "      <td>2.08960</td>\n",
              "      <td>0.70003</td>\n",
              "      <td>0.13854</td>\n",
              "      <td>1.75908</td>\n",
              "      <td>0.06151</td>\n",
              "      <td>1.30297</td>\n",
              "      <td>0.58186</td>\n",
              "    </tr>\n",
              "    <tr>\n",
              "      <th>4</th>\n",
              "      <td>5</td>\n",
              "      <td>2.76569</td>\n",
              "      <td>-1.27045</td>\n",
              "      <td>1.60433</td>\n",
              "      <td>1.53182</td>\n",
              "      <td>1.63728</td>\n",
              "      <td>1.85697</td>\n",
              "      <td>3.01847</td>\n",
              "      <td>1.12853</td>\n",
              "      <td>2.17016</td>\n",
              "      <td>-1.21583</td>\n",
              "      <td>-1.10133</td>\n",
              "      <td>2.59982</td>\n",
              "      <td>-1.36149</td>\n",
              "      <td>0.22853</td>\n",
              "      <td>2.34494</td>\n",
              "      <td>-1.40095</td>\n",
              "      <td>-1.56783</td>\n",
              "      <td>0.94532</td>\n",
              "      <td>-1.24482</td>\n",
              "      <td>-1.60767</td>\n",
              "      <td>-1.06221</td>\n",
              "      <td>3.52458</td>\n",
              "      <td>3.70837</td>\n",
              "      <td>-1.48332</td>\n",
              "      <td>1.79168</td>\n",
              "      <td>-1.27619</td>\n",
              "      <td>2.24892</td>\n",
              "      <td>0.02799</td>\n",
              "      <td>-1.08902</td>\n",
              "      <td>-1.29865</td>\n",
              "      <td>2.00518</td>\n",
              "      <td>1.17454</td>\n",
              "      <td>-1.47218</td>\n",
              "      <td>-1.34158</td>\n",
              "      <td>1.55086</td>\n",
              "      <td>-1.18107</td>\n",
              "      <td>1.01596</td>\n",
              "      <td>0.15788</td>\n",
              "    </tr>\n",
              "    <tr>\n",
              "      <th>...</th>\n",
              "      <td>...</td>\n",
              "      <td>...</td>\n",
              "      <td>...</td>\n",
              "      <td>...</td>\n",
              "      <td>...</td>\n",
              "      <td>...</td>\n",
              "      <td>...</td>\n",
              "      <td>...</td>\n",
              "      <td>...</td>\n",
              "      <td>...</td>\n",
              "      <td>...</td>\n",
              "      <td>...</td>\n",
              "      <td>...</td>\n",
              "      <td>...</td>\n",
              "      <td>...</td>\n",
              "      <td>...</td>\n",
              "      <td>...</td>\n",
              "      <td>...</td>\n",
              "      <td>...</td>\n",
              "      <td>...</td>\n",
              "      <td>...</td>\n",
              "      <td>...</td>\n",
              "      <td>...</td>\n",
              "      <td>...</td>\n",
              "      <td>...</td>\n",
              "      <td>...</td>\n",
              "      <td>...</td>\n",
              "      <td>...</td>\n",
              "      <td>...</td>\n",
              "      <td>...</td>\n",
              "      <td>...</td>\n",
              "      <td>...</td>\n",
              "      <td>...</td>\n",
              "      <td>...</td>\n",
              "      <td>...</td>\n",
              "      <td>...</td>\n",
              "      <td>...</td>\n",
              "      <td>...</td>\n",
              "      <td>...</td>\n",
              "    </tr>\n",
              "    <tr>\n",
              "      <th>3046</th>\n",
              "      <td>3047</td>\n",
              "      <td>0.04695</td>\n",
              "      <td>0.48704</td>\n",
              "      <td>0.72170</td>\n",
              "      <td>0.58403</td>\n",
              "      <td>0.30600</td>\n",
              "      <td>1.10563</td>\n",
              "      <td>0.59002</td>\n",
              "      <td>0.30773</td>\n",
              "      <td>0.46515</td>\n",
              "      <td>0.88991</td>\n",
              "      <td>0.40214</td>\n",
              "      <td>-0.24863</td>\n",
              "      <td>0.19678</td>\n",
              "      <td>-0.03138</td>\n",
              "      <td>0.34839</td>\n",
              "      <td>0.34602</td>\n",
              "      <td>0.54402</td>\n",
              "      <td>0.47598</td>\n",
              "      <td>0.07377</td>\n",
              "      <td>0.28150</td>\n",
              "      <td>0.57491</td>\n",
              "      <td>0.19498</td>\n",
              "      <td>1.07628</td>\n",
              "      <td>0.37532</td>\n",
              "      <td>0.01405</td>\n",
              "      <td>0.49138</td>\n",
              "      <td>0.74901</td>\n",
              "      <td>0.40676</td>\n",
              "      <td>0.39585</td>\n",
              "      <td>0.35006</td>\n",
              "      <td>0.32939</td>\n",
              "      <td>0.55791</td>\n",
              "      <td>0.11369</td>\n",
              "      <td>0.77377</td>\n",
              "      <td>-0.05275</td>\n",
              "      <td>0.93171</td>\n",
              "      <td>0.01243</td>\n",
              "      <td>0.86634</td>\n",
              "    </tr>\n",
              "    <tr>\n",
              "      <th>3047</th>\n",
              "      <td>3048</td>\n",
              "      <td>-0.20467</td>\n",
              "      <td>-0.07832</td>\n",
              "      <td>-1.00615</td>\n",
              "      <td>-0.88748</td>\n",
              "      <td>0.07175</td>\n",
              "      <td>-0.71376</td>\n",
              "      <td>-0.98900</td>\n",
              "      <td>-0.36098</td>\n",
              "      <td>-0.99075</td>\n",
              "      <td>-1.20668</td>\n",
              "      <td>-0.99634</td>\n",
              "      <td>-0.38832</td>\n",
              "      <td>0.11254</td>\n",
              "      <td>-0.63454</td>\n",
              "      <td>-0.33676</td>\n",
              "      <td>0.03590</td>\n",
              "      <td>-0.77623</td>\n",
              "      <td>0.66042</td>\n",
              "      <td>1.59055</td>\n",
              "      <td>-1.00802</td>\n",
              "      <td>-1.06221</td>\n",
              "      <td>-0.24490</td>\n",
              "      <td>-0.66182</td>\n",
              "      <td>-0.62739</td>\n",
              "      <td>0.25076</td>\n",
              "      <td>1.70638</td>\n",
              "      <td>-1.23051</td>\n",
              "      <td>0.15568</td>\n",
              "      <td>-0.13951</td>\n",
              "      <td>-0.01776</td>\n",
              "      <td>-0.57690</td>\n",
              "      <td>-0.13350</td>\n",
              "      <td>-0.33722</td>\n",
              "      <td>-1.04023</td>\n",
              "      <td>-0.71434</td>\n",
              "      <td>-0.08540</td>\n",
              "      <td>-0.30978</td>\n",
              "      <td>-0.24197</td>\n",
              "    </tr>\n",
              "    <tr>\n",
              "      <th>3048</th>\n",
              "      <td>3049</td>\n",
              "      <td>0.45231</td>\n",
              "      <td>0.42686</td>\n",
              "      <td>0.67579</td>\n",
              "      <td>0.31524</td>\n",
              "      <td>-0.57779</td>\n",
              "      <td>0.51322</td>\n",
              "      <td>0.89885</td>\n",
              "      <td>1.26549</td>\n",
              "      <td>0.24663</td>\n",
              "      <td>0.38565</td>\n",
              "      <td>0.44349</td>\n",
              "      <td>0.00557</td>\n",
              "      <td>0.35337</td>\n",
              "      <td>-0.05047</td>\n",
              "      <td>-0.80606</td>\n",
              "      <td>0.49199</td>\n",
              "      <td>0.82856</td>\n",
              "      <td>0.57640</td>\n",
              "      <td>0.36443</td>\n",
              "      <td>0.55919</td>\n",
              "      <td>-0.38991</td>\n",
              "      <td>1.07012</td>\n",
              "      <td>0.55371</td>\n",
              "      <td>0.26707</td>\n",
              "      <td>0.91343</td>\n",
              "      <td>0.68704</td>\n",
              "      <td>0.43196</td>\n",
              "      <td>0.65067</td>\n",
              "      <td>-0.13281</td>\n",
              "      <td>0.35006</td>\n",
              "      <td>0.32333</td>\n",
              "      <td>0.75559</td>\n",
              "      <td>1.22578</td>\n",
              "      <td>0.59945</td>\n",
              "      <td>0.72956</td>\n",
              "      <td>0.72762</td>\n",
              "      <td>1.10466</td>\n",
              "      <td>1.16990</td>\n",
              "    </tr>\n",
              "    <tr>\n",
              "      <th>3049</th>\n",
              "      <td>3050</td>\n",
              "      <td>-0.35920</td>\n",
              "      <td>-0.43633</td>\n",
              "      <td>0.34031</td>\n",
              "      <td>-0.90930</td>\n",
              "      <td>-0.36663</td>\n",
              "      <td>-0.07845</td>\n",
              "      <td>0.09493</td>\n",
              "      <td>-0.00563</td>\n",
              "      <td>-0.32967</td>\n",
              "      <td>-0.03974</td>\n",
              "      <td>-0.61829</td>\n",
              "      <td>-1.03209</td>\n",
              "      <td>-0.38459</td>\n",
              "      <td>-0.48585</td>\n",
              "      <td>-1.39503</td>\n",
              "      <td>0.01483</td>\n",
              "      <td>0.46683</td>\n",
              "      <td>-0.51358</td>\n",
              "      <td>-1.24482</td>\n",
              "      <td>-0.84620</td>\n",
              "      <td>-0.95002</td>\n",
              "      <td>0.20204</td>\n",
              "      <td>-0.03522</td>\n",
              "      <td>-0.20401</td>\n",
              "      <td>-1.25268</td>\n",
              "      <td>-0.22244</td>\n",
              "      <td>0.57291</td>\n",
              "      <td>-0.49941</td>\n",
              "      <td>-1.08902</td>\n",
              "      <td>-0.62199</td>\n",
              "      <td>-0.11319</td>\n",
              "      <td>-0.51073</td>\n",
              "      <td>-0.68539</td>\n",
              "      <td>0.23005</td>\n",
              "      <td>-0.17911</td>\n",
              "      <td>-0.37737</td>\n",
              "      <td>-0.39063</td>\n",
              "      <td>0.33975</td>\n",
              "    </tr>\n",
              "    <tr>\n",
              "      <th>3050</th>\n",
              "      <td>3051</td>\n",
              "      <td>-0.86079</td>\n",
              "      <td>-1.39420</td>\n",
              "      <td>-0.73766</td>\n",
              "      <td>-1.19031</td>\n",
              "      <td>-1.42668</td>\n",
              "      <td>-0.60682</td>\n",
              "      <td>-0.15456</td>\n",
              "      <td>0.50500</td>\n",
              "      <td>-0.71766</td>\n",
              "      <td>-0.72218</td>\n",
              "      <td>-1.14699</td>\n",
              "      <td>-1.03209</td>\n",
              "      <td>-1.36149</td>\n",
              "      <td>-0.94854</td>\n",
              "      <td>-1.26413</td>\n",
              "      <td>-0.54730</td>\n",
              "      <td>-0.16395</td>\n",
              "      <td>-0.97455</td>\n",
              "      <td>-0.09435</td>\n",
              "      <td>-0.22835</td>\n",
              "      <td>-1.06221</td>\n",
              "      <td>-0.18312</td>\n",
              "      <td>-0.34924</td>\n",
              "      <td>-0.81902</td>\n",
              "      <td>0.68359</td>\n",
              "      <td>-0.93305</td>\n",
              "      <td>-0.53991</td>\n",
              "      <td>0.28711</td>\n",
              "      <td>1.90481</td>\n",
              "      <td>-0.21650</td>\n",
              "      <td>-1.00666</td>\n",
              "      <td>-0.46769</td>\n",
              "      <td>0.30259</td>\n",
              "      <td>-0.23523</td>\n",
              "      <td>1.43690</td>\n",
              "      <td>-0.65113</td>\n",
              "      <td>1.62964</td>\n",
              "      <td>1.60048</td>\n",
              "    </tr>\n",
              "  </tbody>\n",
              "</table>\n",
              "<p>3051 rows × 39 columns</p>\n",
              "</div>"
            ],
            "text/plain": [
              "      Unnamed: 0       V1       V2       V3  ...      V35      V36      V37      V38\n",
              "0              1 -1.45769 -1.39420 -1.42779  ... -1.22961 -0.75919  0.84905 -0.66465\n",
              "1              2 -0.75161 -1.26278 -0.09052  ... -1.22961 -0.71792  0.45127 -0.45804\n",
              "2              3  0.45695 -0.09654  0.90325  ...  0.04609  0.24347  0.90774  0.46509\n",
              "3              4  3.13533  0.21415  2.08754  ...  1.75908  0.06151  1.30297  0.58186\n",
              "4              5  2.76569 -1.27045  1.60433  ...  1.55086 -1.18107  1.01596  0.15788\n",
              "...          ...      ...      ...      ...  ...      ...      ...      ...      ...\n",
              "3046        3047  0.04695  0.48704  0.72170  ... -0.05275  0.93171  0.01243  0.86634\n",
              "3047        3048 -0.20467 -0.07832 -1.00615  ... -0.71434 -0.08540 -0.30978 -0.24197\n",
              "3048        3049  0.45231  0.42686  0.67579  ...  0.72956  0.72762  1.10466  1.16990\n",
              "3049        3050 -0.35920 -0.43633  0.34031  ... -0.17911 -0.37737 -0.39063  0.33975\n",
              "3050        3051 -0.86079 -1.39420 -0.73766  ...  1.43690 -0.65113  1.62964  1.60048\n",
              "\n",
              "[3051 rows x 39 columns]"
            ]
          },
          "metadata": {},
          "execution_count": 14
        }
      ]
    },
    {
      "cell_type": "code",
      "metadata": {
        "id": "06_G0UxBYggI"
      },
      "source": [
        "FILE_SOURCE = \"https://raw.githubusercontent.com/Rotehut/mitx_sds_analysis/main/Module1_Review_Statistics_Correlation_Regression_Gradient%20Descent/HW/data_and%20materials/golub_data/golub_cl.csv?token=AM5AEFBJMGHW5BS2TOJS5XDBIWB2Y\"\n",
        "golub_classnames = pd.read_csv(FILE_SOURCE)"
      ],
      "execution_count": 16,
      "outputs": []
    },
    {
      "cell_type": "code",
      "metadata": {
        "colab": {
          "base_uri": "https://localhost:8080/",
          "height": 1000
        },
        "id": "iRIC93PzYl4D",
        "outputId": "2105b9cb-0db8-4753-8e44-c5a082137488"
      },
      "source": [
        "golub_classnames"
      ],
      "execution_count": 17,
      "outputs": [
        {
          "output_type": "execute_result",
          "data": {
            "text/html": [
              "<div>\n",
              "<style scoped>\n",
              "    .dataframe tbody tr th:only-of-type {\n",
              "        vertical-align: middle;\n",
              "    }\n",
              "\n",
              "    .dataframe tbody tr th {\n",
              "        vertical-align: top;\n",
              "    }\n",
              "\n",
              "    .dataframe thead th {\n",
              "        text-align: right;\n",
              "    }\n",
              "</style>\n",
              "<table border=\"1\" class=\"dataframe\">\n",
              "  <thead>\n",
              "    <tr style=\"text-align: right;\">\n",
              "      <th></th>\n",
              "      <th>Unnamed: 0</th>\n",
              "      <th>x</th>\n",
              "    </tr>\n",
              "  </thead>\n",
              "  <tbody>\n",
              "    <tr>\n",
              "      <th>0</th>\n",
              "      <td>1</td>\n",
              "      <td>0</td>\n",
              "    </tr>\n",
              "    <tr>\n",
              "      <th>1</th>\n",
              "      <td>2</td>\n",
              "      <td>0</td>\n",
              "    </tr>\n",
              "    <tr>\n",
              "      <th>2</th>\n",
              "      <td>3</td>\n",
              "      <td>0</td>\n",
              "    </tr>\n",
              "    <tr>\n",
              "      <th>3</th>\n",
              "      <td>4</td>\n",
              "      <td>0</td>\n",
              "    </tr>\n",
              "    <tr>\n",
              "      <th>4</th>\n",
              "      <td>5</td>\n",
              "      <td>0</td>\n",
              "    </tr>\n",
              "    <tr>\n",
              "      <th>5</th>\n",
              "      <td>6</td>\n",
              "      <td>0</td>\n",
              "    </tr>\n",
              "    <tr>\n",
              "      <th>6</th>\n",
              "      <td>7</td>\n",
              "      <td>0</td>\n",
              "    </tr>\n",
              "    <tr>\n",
              "      <th>7</th>\n",
              "      <td>8</td>\n",
              "      <td>0</td>\n",
              "    </tr>\n",
              "    <tr>\n",
              "      <th>8</th>\n",
              "      <td>9</td>\n",
              "      <td>0</td>\n",
              "    </tr>\n",
              "    <tr>\n",
              "      <th>9</th>\n",
              "      <td>10</td>\n",
              "      <td>0</td>\n",
              "    </tr>\n",
              "    <tr>\n",
              "      <th>10</th>\n",
              "      <td>11</td>\n",
              "      <td>0</td>\n",
              "    </tr>\n",
              "    <tr>\n",
              "      <th>11</th>\n",
              "      <td>12</td>\n",
              "      <td>0</td>\n",
              "    </tr>\n",
              "    <tr>\n",
              "      <th>12</th>\n",
              "      <td>13</td>\n",
              "      <td>0</td>\n",
              "    </tr>\n",
              "    <tr>\n",
              "      <th>13</th>\n",
              "      <td>14</td>\n",
              "      <td>0</td>\n",
              "    </tr>\n",
              "    <tr>\n",
              "      <th>14</th>\n",
              "      <td>15</td>\n",
              "      <td>0</td>\n",
              "    </tr>\n",
              "    <tr>\n",
              "      <th>15</th>\n",
              "      <td>16</td>\n",
              "      <td>0</td>\n",
              "    </tr>\n",
              "    <tr>\n",
              "      <th>16</th>\n",
              "      <td>17</td>\n",
              "      <td>0</td>\n",
              "    </tr>\n",
              "    <tr>\n",
              "      <th>17</th>\n",
              "      <td>18</td>\n",
              "      <td>0</td>\n",
              "    </tr>\n",
              "    <tr>\n",
              "      <th>18</th>\n",
              "      <td>19</td>\n",
              "      <td>0</td>\n",
              "    </tr>\n",
              "    <tr>\n",
              "      <th>19</th>\n",
              "      <td>20</td>\n",
              "      <td>0</td>\n",
              "    </tr>\n",
              "    <tr>\n",
              "      <th>20</th>\n",
              "      <td>21</td>\n",
              "      <td>0</td>\n",
              "    </tr>\n",
              "    <tr>\n",
              "      <th>21</th>\n",
              "      <td>22</td>\n",
              "      <td>0</td>\n",
              "    </tr>\n",
              "    <tr>\n",
              "      <th>22</th>\n",
              "      <td>23</td>\n",
              "      <td>0</td>\n",
              "    </tr>\n",
              "    <tr>\n",
              "      <th>23</th>\n",
              "      <td>24</td>\n",
              "      <td>0</td>\n",
              "    </tr>\n",
              "    <tr>\n",
              "      <th>24</th>\n",
              "      <td>25</td>\n",
              "      <td>0</td>\n",
              "    </tr>\n",
              "    <tr>\n",
              "      <th>25</th>\n",
              "      <td>26</td>\n",
              "      <td>0</td>\n",
              "    </tr>\n",
              "    <tr>\n",
              "      <th>26</th>\n",
              "      <td>27</td>\n",
              "      <td>0</td>\n",
              "    </tr>\n",
              "    <tr>\n",
              "      <th>27</th>\n",
              "      <td>28</td>\n",
              "      <td>1</td>\n",
              "    </tr>\n",
              "    <tr>\n",
              "      <th>28</th>\n",
              "      <td>29</td>\n",
              "      <td>1</td>\n",
              "    </tr>\n",
              "    <tr>\n",
              "      <th>29</th>\n",
              "      <td>30</td>\n",
              "      <td>1</td>\n",
              "    </tr>\n",
              "    <tr>\n",
              "      <th>30</th>\n",
              "      <td>31</td>\n",
              "      <td>1</td>\n",
              "    </tr>\n",
              "    <tr>\n",
              "      <th>31</th>\n",
              "      <td>32</td>\n",
              "      <td>1</td>\n",
              "    </tr>\n",
              "    <tr>\n",
              "      <th>32</th>\n",
              "      <td>33</td>\n",
              "      <td>1</td>\n",
              "    </tr>\n",
              "    <tr>\n",
              "      <th>33</th>\n",
              "      <td>34</td>\n",
              "      <td>1</td>\n",
              "    </tr>\n",
              "    <tr>\n",
              "      <th>34</th>\n",
              "      <td>35</td>\n",
              "      <td>1</td>\n",
              "    </tr>\n",
              "    <tr>\n",
              "      <th>35</th>\n",
              "      <td>36</td>\n",
              "      <td>1</td>\n",
              "    </tr>\n",
              "    <tr>\n",
              "      <th>36</th>\n",
              "      <td>37</td>\n",
              "      <td>1</td>\n",
              "    </tr>\n",
              "    <tr>\n",
              "      <th>37</th>\n",
              "      <td>38</td>\n",
              "      <td>1</td>\n",
              "    </tr>\n",
              "  </tbody>\n",
              "</table>\n",
              "</div>"
            ],
            "text/plain": [
              "    Unnamed: 0  x\n",
              "0            1  0\n",
              "1            2  0\n",
              "2            3  0\n",
              "3            4  0\n",
              "4            5  0\n",
              "5            6  0\n",
              "6            7  0\n",
              "7            8  0\n",
              "8            9  0\n",
              "9           10  0\n",
              "10          11  0\n",
              "11          12  0\n",
              "12          13  0\n",
              "13          14  0\n",
              "14          15  0\n",
              "15          16  0\n",
              "16          17  0\n",
              "17          18  0\n",
              "18          19  0\n",
              "19          20  0\n",
              "20          21  0\n",
              "21          22  0\n",
              "22          23  0\n",
              "23          24  0\n",
              "24          25  0\n",
              "25          26  0\n",
              "26          27  0\n",
              "27          28  1\n",
              "28          29  1\n",
              "29          30  1\n",
              "30          31  1\n",
              "31          32  1\n",
              "32          33  1\n",
              "33          34  1\n",
              "34          35  1\n",
              "35          36  1\n",
              "36          37  1\n",
              "37          38  1"
            ]
          },
          "metadata": {},
          "execution_count": 17
        }
      ]
    },
    {
      "cell_type": "code",
      "metadata": {
        "id": "NKQ849UzcBJH"
      },
      "source": [
        "golub_data = golub_data.set_index(['Unnamed: 0'])\n",
        "golub_classnames = golub_classnames.set_index(['Unnamed: 0'])"
      ],
      "execution_count": 18,
      "outputs": []
    },
    {
      "cell_type": "code",
      "metadata": {
        "colab": {
          "base_uri": "https://localhost:8080/",
          "height": 484
        },
        "id": "_Ts9MN-wd46N",
        "outputId": "bede81bc-531c-4012-960f-683003771298"
      },
      "source": [
        "golub_data"
      ],
      "execution_count": 19,
      "outputs": [
        {
          "output_type": "execute_result",
          "data": {
            "text/html": [
              "<div>\n",
              "<style scoped>\n",
              "    .dataframe tbody tr th:only-of-type {\n",
              "        vertical-align: middle;\n",
              "    }\n",
              "\n",
              "    .dataframe tbody tr th {\n",
              "        vertical-align: top;\n",
              "    }\n",
              "\n",
              "    .dataframe thead th {\n",
              "        text-align: right;\n",
              "    }\n",
              "</style>\n",
              "<table border=\"1\" class=\"dataframe\">\n",
              "  <thead>\n",
              "    <tr style=\"text-align: right;\">\n",
              "      <th></th>\n",
              "      <th>V1</th>\n",
              "      <th>V2</th>\n",
              "      <th>V3</th>\n",
              "      <th>V4</th>\n",
              "      <th>V5</th>\n",
              "      <th>V6</th>\n",
              "      <th>V7</th>\n",
              "      <th>V8</th>\n",
              "      <th>V9</th>\n",
              "      <th>V10</th>\n",
              "      <th>V11</th>\n",
              "      <th>V12</th>\n",
              "      <th>V13</th>\n",
              "      <th>V14</th>\n",
              "      <th>V15</th>\n",
              "      <th>V16</th>\n",
              "      <th>V17</th>\n",
              "      <th>V18</th>\n",
              "      <th>V19</th>\n",
              "      <th>V20</th>\n",
              "      <th>V21</th>\n",
              "      <th>V22</th>\n",
              "      <th>V23</th>\n",
              "      <th>V24</th>\n",
              "      <th>V25</th>\n",
              "      <th>V26</th>\n",
              "      <th>V27</th>\n",
              "      <th>V28</th>\n",
              "      <th>V29</th>\n",
              "      <th>V30</th>\n",
              "      <th>V31</th>\n",
              "      <th>V32</th>\n",
              "      <th>V33</th>\n",
              "      <th>V34</th>\n",
              "      <th>V35</th>\n",
              "      <th>V36</th>\n",
              "      <th>V37</th>\n",
              "      <th>V38</th>\n",
              "    </tr>\n",
              "    <tr>\n",
              "      <th>Unnamed: 0</th>\n",
              "      <th></th>\n",
              "      <th></th>\n",
              "      <th></th>\n",
              "      <th></th>\n",
              "      <th></th>\n",
              "      <th></th>\n",
              "      <th></th>\n",
              "      <th></th>\n",
              "      <th></th>\n",
              "      <th></th>\n",
              "      <th></th>\n",
              "      <th></th>\n",
              "      <th></th>\n",
              "      <th></th>\n",
              "      <th></th>\n",
              "      <th></th>\n",
              "      <th></th>\n",
              "      <th></th>\n",
              "      <th></th>\n",
              "      <th></th>\n",
              "      <th></th>\n",
              "      <th></th>\n",
              "      <th></th>\n",
              "      <th></th>\n",
              "      <th></th>\n",
              "      <th></th>\n",
              "      <th></th>\n",
              "      <th></th>\n",
              "      <th></th>\n",
              "      <th></th>\n",
              "      <th></th>\n",
              "      <th></th>\n",
              "      <th></th>\n",
              "      <th></th>\n",
              "      <th></th>\n",
              "      <th></th>\n",
              "      <th></th>\n",
              "      <th></th>\n",
              "    </tr>\n",
              "  </thead>\n",
              "  <tbody>\n",
              "    <tr>\n",
              "      <th>1</th>\n",
              "      <td>-1.45769</td>\n",
              "      <td>-1.39420</td>\n",
              "      <td>-1.42779</td>\n",
              "      <td>-1.40715</td>\n",
              "      <td>-1.42668</td>\n",
              "      <td>-1.21719</td>\n",
              "      <td>-1.37386</td>\n",
              "      <td>-1.36832</td>\n",
              "      <td>-1.47649</td>\n",
              "      <td>-1.21583</td>\n",
              "      <td>-1.28137</td>\n",
              "      <td>-1.03209</td>\n",
              "      <td>-1.36149</td>\n",
              "      <td>-1.39979</td>\n",
              "      <td>0.17628</td>\n",
              "      <td>-1.40095</td>\n",
              "      <td>-1.56783</td>\n",
              "      <td>-1.20466</td>\n",
              "      <td>-1.24482</td>\n",
              "      <td>-1.60767</td>\n",
              "      <td>-1.06221</td>\n",
              "      <td>-1.12665</td>\n",
              "      <td>-1.20963</td>\n",
              "      <td>-1.48332</td>\n",
              "      <td>-1.25268</td>\n",
              "      <td>-1.27619</td>\n",
              "      <td>-1.23051</td>\n",
              "      <td>-1.43337</td>\n",
              "      <td>-1.08902</td>\n",
              "      <td>-1.29865</td>\n",
              "      <td>-1.26183</td>\n",
              "      <td>-1.44434</td>\n",
              "      <td>1.10147</td>\n",
              "      <td>-1.34158</td>\n",
              "      <td>-1.22961</td>\n",
              "      <td>-0.75919</td>\n",
              "      <td>0.84905</td>\n",
              "      <td>-0.66465</td>\n",
              "    </tr>\n",
              "    <tr>\n",
              "      <th>2</th>\n",
              "      <td>-0.75161</td>\n",
              "      <td>-1.26278</td>\n",
              "      <td>-0.09052</td>\n",
              "      <td>-0.99596</td>\n",
              "      <td>-1.24245</td>\n",
              "      <td>-0.69242</td>\n",
              "      <td>-1.37386</td>\n",
              "      <td>-0.50803</td>\n",
              "      <td>-1.04533</td>\n",
              "      <td>-0.81257</td>\n",
              "      <td>-1.28137</td>\n",
              "      <td>-1.03209</td>\n",
              "      <td>-0.74005</td>\n",
              "      <td>-0.83161</td>\n",
              "      <td>0.41200</td>\n",
              "      <td>-1.27669</td>\n",
              "      <td>-0.74370</td>\n",
              "      <td>-1.20466</td>\n",
              "      <td>-1.02380</td>\n",
              "      <td>-0.38779</td>\n",
              "      <td>-1.06221</td>\n",
              "      <td>-1.12665</td>\n",
              "      <td>-1.20963</td>\n",
              "      <td>-1.12185</td>\n",
              "      <td>-0.65264</td>\n",
              "      <td>-1.27619</td>\n",
              "      <td>-1.23051</td>\n",
              "      <td>-1.18065</td>\n",
              "      <td>-1.08902</td>\n",
              "      <td>-1.05094</td>\n",
              "      <td>-1.26183</td>\n",
              "      <td>-1.25918</td>\n",
              "      <td>0.97813</td>\n",
              "      <td>-0.79357</td>\n",
              "      <td>-1.22961</td>\n",
              "      <td>-0.71792</td>\n",
              "      <td>0.45127</td>\n",
              "      <td>-0.45804</td>\n",
              "    </tr>\n",
              "    <tr>\n",
              "      <th>3</th>\n",
              "      <td>0.45695</td>\n",
              "      <td>-0.09654</td>\n",
              "      <td>0.90325</td>\n",
              "      <td>-0.07194</td>\n",
              "      <td>0.03232</td>\n",
              "      <td>0.09713</td>\n",
              "      <td>-0.11978</td>\n",
              "      <td>0.23381</td>\n",
              "      <td>0.23987</td>\n",
              "      <td>0.44201</td>\n",
              "      <td>-0.39560</td>\n",
              "      <td>-0.62533</td>\n",
              "      <td>0.45181</td>\n",
              "      <td>1.09519</td>\n",
              "      <td>1.09318</td>\n",
              "      <td>0.34300</td>\n",
              "      <td>0.20010</td>\n",
              "      <td>0.38992</td>\n",
              "      <td>0.00641</td>\n",
              "      <td>1.10932</td>\n",
              "      <td>0.21952</td>\n",
              "      <td>-0.72267</td>\n",
              "      <td>0.51690</td>\n",
              "      <td>0.28577</td>\n",
              "      <td>0.61937</td>\n",
              "      <td>0.20085</td>\n",
              "      <td>0.29278</td>\n",
              "      <td>0.26624</td>\n",
              "      <td>-0.43377</td>\n",
              "      <td>-0.10823</td>\n",
              "      <td>-0.29385</td>\n",
              "      <td>0.05067</td>\n",
              "      <td>1.69430</td>\n",
              "      <td>-0.12472</td>\n",
              "      <td>0.04609</td>\n",
              "      <td>0.24347</td>\n",
              "      <td>0.90774</td>\n",
              "      <td>0.46509</td>\n",
              "    </tr>\n",
              "    <tr>\n",
              "      <th>4</th>\n",
              "      <td>3.13533</td>\n",
              "      <td>0.21415</td>\n",
              "      <td>2.08754</td>\n",
              "      <td>2.23467</td>\n",
              "      <td>0.93811</td>\n",
              "      <td>2.24089</td>\n",
              "      <td>3.36576</td>\n",
              "      <td>1.97859</td>\n",
              "      <td>2.66468</td>\n",
              "      <td>-1.21583</td>\n",
              "      <td>0.59110</td>\n",
              "      <td>3.26050</td>\n",
              "      <td>-1.36149</td>\n",
              "      <td>0.64180</td>\n",
              "      <td>2.32621</td>\n",
              "      <td>-1.40095</td>\n",
              "      <td>-1.56783</td>\n",
              "      <td>0.83502</td>\n",
              "      <td>-1.24482</td>\n",
              "      <td>-1.60767</td>\n",
              "      <td>-1.06221</td>\n",
              "      <td>3.69445</td>\n",
              "      <td>3.70837</td>\n",
              "      <td>-1.48332</td>\n",
              "      <td>2.36698</td>\n",
              "      <td>-1.27619</td>\n",
              "      <td>2.89604</td>\n",
              "      <td>0.71990</td>\n",
              "      <td>0.29598</td>\n",
              "      <td>-1.29865</td>\n",
              "      <td>2.76869</td>\n",
              "      <td>2.08960</td>\n",
              "      <td>0.70003</td>\n",
              "      <td>0.13854</td>\n",
              "      <td>1.75908</td>\n",
              "      <td>0.06151</td>\n",
              "      <td>1.30297</td>\n",
              "      <td>0.58186</td>\n",
              "    </tr>\n",
              "    <tr>\n",
              "      <th>5</th>\n",
              "      <td>2.76569</td>\n",
              "      <td>-1.27045</td>\n",
              "      <td>1.60433</td>\n",
              "      <td>1.53182</td>\n",
              "      <td>1.63728</td>\n",
              "      <td>1.85697</td>\n",
              "      <td>3.01847</td>\n",
              "      <td>1.12853</td>\n",
              "      <td>2.17016</td>\n",
              "      <td>-1.21583</td>\n",
              "      <td>-1.10133</td>\n",
              "      <td>2.59982</td>\n",
              "      <td>-1.36149</td>\n",
              "      <td>0.22853</td>\n",
              "      <td>2.34494</td>\n",
              "      <td>-1.40095</td>\n",
              "      <td>-1.56783</td>\n",
              "      <td>0.94532</td>\n",
              "      <td>-1.24482</td>\n",
              "      <td>-1.60767</td>\n",
              "      <td>-1.06221</td>\n",
              "      <td>3.52458</td>\n",
              "      <td>3.70837</td>\n",
              "      <td>-1.48332</td>\n",
              "      <td>1.79168</td>\n",
              "      <td>-1.27619</td>\n",
              "      <td>2.24892</td>\n",
              "      <td>0.02799</td>\n",
              "      <td>-1.08902</td>\n",
              "      <td>-1.29865</td>\n",
              "      <td>2.00518</td>\n",
              "      <td>1.17454</td>\n",
              "      <td>-1.47218</td>\n",
              "      <td>-1.34158</td>\n",
              "      <td>1.55086</td>\n",
              "      <td>-1.18107</td>\n",
              "      <td>1.01596</td>\n",
              "      <td>0.15788</td>\n",
              "    </tr>\n",
              "    <tr>\n",
              "      <th>...</th>\n",
              "      <td>...</td>\n",
              "      <td>...</td>\n",
              "      <td>...</td>\n",
              "      <td>...</td>\n",
              "      <td>...</td>\n",
              "      <td>...</td>\n",
              "      <td>...</td>\n",
              "      <td>...</td>\n",
              "      <td>...</td>\n",
              "      <td>...</td>\n",
              "      <td>...</td>\n",
              "      <td>...</td>\n",
              "      <td>...</td>\n",
              "      <td>...</td>\n",
              "      <td>...</td>\n",
              "      <td>...</td>\n",
              "      <td>...</td>\n",
              "      <td>...</td>\n",
              "      <td>...</td>\n",
              "      <td>...</td>\n",
              "      <td>...</td>\n",
              "      <td>...</td>\n",
              "      <td>...</td>\n",
              "      <td>...</td>\n",
              "      <td>...</td>\n",
              "      <td>...</td>\n",
              "      <td>...</td>\n",
              "      <td>...</td>\n",
              "      <td>...</td>\n",
              "      <td>...</td>\n",
              "      <td>...</td>\n",
              "      <td>...</td>\n",
              "      <td>...</td>\n",
              "      <td>...</td>\n",
              "      <td>...</td>\n",
              "      <td>...</td>\n",
              "      <td>...</td>\n",
              "      <td>...</td>\n",
              "    </tr>\n",
              "    <tr>\n",
              "      <th>3047</th>\n",
              "      <td>0.04695</td>\n",
              "      <td>0.48704</td>\n",
              "      <td>0.72170</td>\n",
              "      <td>0.58403</td>\n",
              "      <td>0.30600</td>\n",
              "      <td>1.10563</td>\n",
              "      <td>0.59002</td>\n",
              "      <td>0.30773</td>\n",
              "      <td>0.46515</td>\n",
              "      <td>0.88991</td>\n",
              "      <td>0.40214</td>\n",
              "      <td>-0.24863</td>\n",
              "      <td>0.19678</td>\n",
              "      <td>-0.03138</td>\n",
              "      <td>0.34839</td>\n",
              "      <td>0.34602</td>\n",
              "      <td>0.54402</td>\n",
              "      <td>0.47598</td>\n",
              "      <td>0.07377</td>\n",
              "      <td>0.28150</td>\n",
              "      <td>0.57491</td>\n",
              "      <td>0.19498</td>\n",
              "      <td>1.07628</td>\n",
              "      <td>0.37532</td>\n",
              "      <td>0.01405</td>\n",
              "      <td>0.49138</td>\n",
              "      <td>0.74901</td>\n",
              "      <td>0.40676</td>\n",
              "      <td>0.39585</td>\n",
              "      <td>0.35006</td>\n",
              "      <td>0.32939</td>\n",
              "      <td>0.55791</td>\n",
              "      <td>0.11369</td>\n",
              "      <td>0.77377</td>\n",
              "      <td>-0.05275</td>\n",
              "      <td>0.93171</td>\n",
              "      <td>0.01243</td>\n",
              "      <td>0.86634</td>\n",
              "    </tr>\n",
              "    <tr>\n",
              "      <th>3048</th>\n",
              "      <td>-0.20467</td>\n",
              "      <td>-0.07832</td>\n",
              "      <td>-1.00615</td>\n",
              "      <td>-0.88748</td>\n",
              "      <td>0.07175</td>\n",
              "      <td>-0.71376</td>\n",
              "      <td>-0.98900</td>\n",
              "      <td>-0.36098</td>\n",
              "      <td>-0.99075</td>\n",
              "      <td>-1.20668</td>\n",
              "      <td>-0.99634</td>\n",
              "      <td>-0.38832</td>\n",
              "      <td>0.11254</td>\n",
              "      <td>-0.63454</td>\n",
              "      <td>-0.33676</td>\n",
              "      <td>0.03590</td>\n",
              "      <td>-0.77623</td>\n",
              "      <td>0.66042</td>\n",
              "      <td>1.59055</td>\n",
              "      <td>-1.00802</td>\n",
              "      <td>-1.06221</td>\n",
              "      <td>-0.24490</td>\n",
              "      <td>-0.66182</td>\n",
              "      <td>-0.62739</td>\n",
              "      <td>0.25076</td>\n",
              "      <td>1.70638</td>\n",
              "      <td>-1.23051</td>\n",
              "      <td>0.15568</td>\n",
              "      <td>-0.13951</td>\n",
              "      <td>-0.01776</td>\n",
              "      <td>-0.57690</td>\n",
              "      <td>-0.13350</td>\n",
              "      <td>-0.33722</td>\n",
              "      <td>-1.04023</td>\n",
              "      <td>-0.71434</td>\n",
              "      <td>-0.08540</td>\n",
              "      <td>-0.30978</td>\n",
              "      <td>-0.24197</td>\n",
              "    </tr>\n",
              "    <tr>\n",
              "      <th>3049</th>\n",
              "      <td>0.45231</td>\n",
              "      <td>0.42686</td>\n",
              "      <td>0.67579</td>\n",
              "      <td>0.31524</td>\n",
              "      <td>-0.57779</td>\n",
              "      <td>0.51322</td>\n",
              "      <td>0.89885</td>\n",
              "      <td>1.26549</td>\n",
              "      <td>0.24663</td>\n",
              "      <td>0.38565</td>\n",
              "      <td>0.44349</td>\n",
              "      <td>0.00557</td>\n",
              "      <td>0.35337</td>\n",
              "      <td>-0.05047</td>\n",
              "      <td>-0.80606</td>\n",
              "      <td>0.49199</td>\n",
              "      <td>0.82856</td>\n",
              "      <td>0.57640</td>\n",
              "      <td>0.36443</td>\n",
              "      <td>0.55919</td>\n",
              "      <td>-0.38991</td>\n",
              "      <td>1.07012</td>\n",
              "      <td>0.55371</td>\n",
              "      <td>0.26707</td>\n",
              "      <td>0.91343</td>\n",
              "      <td>0.68704</td>\n",
              "      <td>0.43196</td>\n",
              "      <td>0.65067</td>\n",
              "      <td>-0.13281</td>\n",
              "      <td>0.35006</td>\n",
              "      <td>0.32333</td>\n",
              "      <td>0.75559</td>\n",
              "      <td>1.22578</td>\n",
              "      <td>0.59945</td>\n",
              "      <td>0.72956</td>\n",
              "      <td>0.72762</td>\n",
              "      <td>1.10466</td>\n",
              "      <td>1.16990</td>\n",
              "    </tr>\n",
              "    <tr>\n",
              "      <th>3050</th>\n",
              "      <td>-0.35920</td>\n",
              "      <td>-0.43633</td>\n",
              "      <td>0.34031</td>\n",
              "      <td>-0.90930</td>\n",
              "      <td>-0.36663</td>\n",
              "      <td>-0.07845</td>\n",
              "      <td>0.09493</td>\n",
              "      <td>-0.00563</td>\n",
              "      <td>-0.32967</td>\n",
              "      <td>-0.03974</td>\n",
              "      <td>-0.61829</td>\n",
              "      <td>-1.03209</td>\n",
              "      <td>-0.38459</td>\n",
              "      <td>-0.48585</td>\n",
              "      <td>-1.39503</td>\n",
              "      <td>0.01483</td>\n",
              "      <td>0.46683</td>\n",
              "      <td>-0.51358</td>\n",
              "      <td>-1.24482</td>\n",
              "      <td>-0.84620</td>\n",
              "      <td>-0.95002</td>\n",
              "      <td>0.20204</td>\n",
              "      <td>-0.03522</td>\n",
              "      <td>-0.20401</td>\n",
              "      <td>-1.25268</td>\n",
              "      <td>-0.22244</td>\n",
              "      <td>0.57291</td>\n",
              "      <td>-0.49941</td>\n",
              "      <td>-1.08902</td>\n",
              "      <td>-0.62199</td>\n",
              "      <td>-0.11319</td>\n",
              "      <td>-0.51073</td>\n",
              "      <td>-0.68539</td>\n",
              "      <td>0.23005</td>\n",
              "      <td>-0.17911</td>\n",
              "      <td>-0.37737</td>\n",
              "      <td>-0.39063</td>\n",
              "      <td>0.33975</td>\n",
              "    </tr>\n",
              "    <tr>\n",
              "      <th>3051</th>\n",
              "      <td>-0.86079</td>\n",
              "      <td>-1.39420</td>\n",
              "      <td>-0.73766</td>\n",
              "      <td>-1.19031</td>\n",
              "      <td>-1.42668</td>\n",
              "      <td>-0.60682</td>\n",
              "      <td>-0.15456</td>\n",
              "      <td>0.50500</td>\n",
              "      <td>-0.71766</td>\n",
              "      <td>-0.72218</td>\n",
              "      <td>-1.14699</td>\n",
              "      <td>-1.03209</td>\n",
              "      <td>-1.36149</td>\n",
              "      <td>-0.94854</td>\n",
              "      <td>-1.26413</td>\n",
              "      <td>-0.54730</td>\n",
              "      <td>-0.16395</td>\n",
              "      <td>-0.97455</td>\n",
              "      <td>-0.09435</td>\n",
              "      <td>-0.22835</td>\n",
              "      <td>-1.06221</td>\n",
              "      <td>-0.18312</td>\n",
              "      <td>-0.34924</td>\n",
              "      <td>-0.81902</td>\n",
              "      <td>0.68359</td>\n",
              "      <td>-0.93305</td>\n",
              "      <td>-0.53991</td>\n",
              "      <td>0.28711</td>\n",
              "      <td>1.90481</td>\n",
              "      <td>-0.21650</td>\n",
              "      <td>-1.00666</td>\n",
              "      <td>-0.46769</td>\n",
              "      <td>0.30259</td>\n",
              "      <td>-0.23523</td>\n",
              "      <td>1.43690</td>\n",
              "      <td>-0.65113</td>\n",
              "      <td>1.62964</td>\n",
              "      <td>1.60048</td>\n",
              "    </tr>\n",
              "  </tbody>\n",
              "</table>\n",
              "<p>3051 rows × 38 columns</p>\n",
              "</div>"
            ],
            "text/plain": [
              "                 V1       V2       V3  ...      V36      V37      V38\n",
              "Unnamed: 0                             ...                           \n",
              "1          -1.45769 -1.39420 -1.42779  ... -0.75919  0.84905 -0.66465\n",
              "2          -0.75161 -1.26278 -0.09052  ... -0.71792  0.45127 -0.45804\n",
              "3           0.45695 -0.09654  0.90325  ...  0.24347  0.90774  0.46509\n",
              "4           3.13533  0.21415  2.08754  ...  0.06151  1.30297  0.58186\n",
              "5           2.76569 -1.27045  1.60433  ... -1.18107  1.01596  0.15788\n",
              "...             ...      ...      ...  ...      ...      ...      ...\n",
              "3047        0.04695  0.48704  0.72170  ...  0.93171  0.01243  0.86634\n",
              "3048       -0.20467 -0.07832 -1.00615  ... -0.08540 -0.30978 -0.24197\n",
              "3049        0.45231  0.42686  0.67579  ...  0.72762  1.10466  1.16990\n",
              "3050       -0.35920 -0.43633  0.34031  ... -0.37737 -0.39063  0.33975\n",
              "3051       -0.86079 -1.39420 -0.73766  ... -0.65113  1.62964  1.60048\n",
              "\n",
              "[3051 rows x 38 columns]"
            ]
          },
          "metadata": {},
          "execution_count": 19
        }
      ]
    },
    {
      "cell_type": "code",
      "metadata": {
        "colab": {
          "base_uri": "https://localhost:8080/",
          "height": 1000
        },
        "id": "_uoCDCN2d7uG",
        "outputId": "7da4b4bc-723a-4074-bae3-316ed5e1ca48"
      },
      "source": [
        "golub_classnames"
      ],
      "execution_count": 20,
      "outputs": [
        {
          "output_type": "execute_result",
          "data": {
            "text/html": [
              "<div>\n",
              "<style scoped>\n",
              "    .dataframe tbody tr th:only-of-type {\n",
              "        vertical-align: middle;\n",
              "    }\n",
              "\n",
              "    .dataframe tbody tr th {\n",
              "        vertical-align: top;\n",
              "    }\n",
              "\n",
              "    .dataframe thead th {\n",
              "        text-align: right;\n",
              "    }\n",
              "</style>\n",
              "<table border=\"1\" class=\"dataframe\">\n",
              "  <thead>\n",
              "    <tr style=\"text-align: right;\">\n",
              "      <th></th>\n",
              "      <th>x</th>\n",
              "    </tr>\n",
              "    <tr>\n",
              "      <th>Unnamed: 0</th>\n",
              "      <th></th>\n",
              "    </tr>\n",
              "  </thead>\n",
              "  <tbody>\n",
              "    <tr>\n",
              "      <th>1</th>\n",
              "      <td>0</td>\n",
              "    </tr>\n",
              "    <tr>\n",
              "      <th>2</th>\n",
              "      <td>0</td>\n",
              "    </tr>\n",
              "    <tr>\n",
              "      <th>3</th>\n",
              "      <td>0</td>\n",
              "    </tr>\n",
              "    <tr>\n",
              "      <th>4</th>\n",
              "      <td>0</td>\n",
              "    </tr>\n",
              "    <tr>\n",
              "      <th>5</th>\n",
              "      <td>0</td>\n",
              "    </tr>\n",
              "    <tr>\n",
              "      <th>6</th>\n",
              "      <td>0</td>\n",
              "    </tr>\n",
              "    <tr>\n",
              "      <th>7</th>\n",
              "      <td>0</td>\n",
              "    </tr>\n",
              "    <tr>\n",
              "      <th>8</th>\n",
              "      <td>0</td>\n",
              "    </tr>\n",
              "    <tr>\n",
              "      <th>9</th>\n",
              "      <td>0</td>\n",
              "    </tr>\n",
              "    <tr>\n",
              "      <th>10</th>\n",
              "      <td>0</td>\n",
              "    </tr>\n",
              "    <tr>\n",
              "      <th>11</th>\n",
              "      <td>0</td>\n",
              "    </tr>\n",
              "    <tr>\n",
              "      <th>12</th>\n",
              "      <td>0</td>\n",
              "    </tr>\n",
              "    <tr>\n",
              "      <th>13</th>\n",
              "      <td>0</td>\n",
              "    </tr>\n",
              "    <tr>\n",
              "      <th>14</th>\n",
              "      <td>0</td>\n",
              "    </tr>\n",
              "    <tr>\n",
              "      <th>15</th>\n",
              "      <td>0</td>\n",
              "    </tr>\n",
              "    <tr>\n",
              "      <th>16</th>\n",
              "      <td>0</td>\n",
              "    </tr>\n",
              "    <tr>\n",
              "      <th>17</th>\n",
              "      <td>0</td>\n",
              "    </tr>\n",
              "    <tr>\n",
              "      <th>18</th>\n",
              "      <td>0</td>\n",
              "    </tr>\n",
              "    <tr>\n",
              "      <th>19</th>\n",
              "      <td>0</td>\n",
              "    </tr>\n",
              "    <tr>\n",
              "      <th>20</th>\n",
              "      <td>0</td>\n",
              "    </tr>\n",
              "    <tr>\n",
              "      <th>21</th>\n",
              "      <td>0</td>\n",
              "    </tr>\n",
              "    <tr>\n",
              "      <th>22</th>\n",
              "      <td>0</td>\n",
              "    </tr>\n",
              "    <tr>\n",
              "      <th>23</th>\n",
              "      <td>0</td>\n",
              "    </tr>\n",
              "    <tr>\n",
              "      <th>24</th>\n",
              "      <td>0</td>\n",
              "    </tr>\n",
              "    <tr>\n",
              "      <th>25</th>\n",
              "      <td>0</td>\n",
              "    </tr>\n",
              "    <tr>\n",
              "      <th>26</th>\n",
              "      <td>0</td>\n",
              "    </tr>\n",
              "    <tr>\n",
              "      <th>27</th>\n",
              "      <td>0</td>\n",
              "    </tr>\n",
              "    <tr>\n",
              "      <th>28</th>\n",
              "      <td>1</td>\n",
              "    </tr>\n",
              "    <tr>\n",
              "      <th>29</th>\n",
              "      <td>1</td>\n",
              "    </tr>\n",
              "    <tr>\n",
              "      <th>30</th>\n",
              "      <td>1</td>\n",
              "    </tr>\n",
              "    <tr>\n",
              "      <th>31</th>\n",
              "      <td>1</td>\n",
              "    </tr>\n",
              "    <tr>\n",
              "      <th>32</th>\n",
              "      <td>1</td>\n",
              "    </tr>\n",
              "    <tr>\n",
              "      <th>33</th>\n",
              "      <td>1</td>\n",
              "    </tr>\n",
              "    <tr>\n",
              "      <th>34</th>\n",
              "      <td>1</td>\n",
              "    </tr>\n",
              "    <tr>\n",
              "      <th>35</th>\n",
              "      <td>1</td>\n",
              "    </tr>\n",
              "    <tr>\n",
              "      <th>36</th>\n",
              "      <td>1</td>\n",
              "    </tr>\n",
              "    <tr>\n",
              "      <th>37</th>\n",
              "      <td>1</td>\n",
              "    </tr>\n",
              "    <tr>\n",
              "      <th>38</th>\n",
              "      <td>1</td>\n",
              "    </tr>\n",
              "  </tbody>\n",
              "</table>\n",
              "</div>"
            ],
            "text/plain": [
              "            x\n",
              "Unnamed: 0   \n",
              "1           0\n",
              "2           0\n",
              "3           0\n",
              "4           0\n",
              "5           0\n",
              "6           0\n",
              "7           0\n",
              "8           0\n",
              "9           0\n",
              "10          0\n",
              "11          0\n",
              "12          0\n",
              "13          0\n",
              "14          0\n",
              "15          0\n",
              "16          0\n",
              "17          0\n",
              "18          0\n",
              "19          0\n",
              "20          0\n",
              "21          0\n",
              "22          0\n",
              "23          0\n",
              "24          0\n",
              "25          0\n",
              "26          0\n",
              "27          0\n",
              "28          1\n",
              "29          1\n",
              "30          1\n",
              "31          1\n",
              "32          1\n",
              "33          1\n",
              "34          1\n",
              "35          1\n",
              "36          1\n",
              "37          1\n",
              "38          1"
            ]
          },
          "metadata": {},
          "execution_count": 20
        }
      ]
    },
    {
      "cell_type": "code",
      "metadata": {
        "colab": {
          "base_uri": "https://localhost:8080/",
          "height": 147
        },
        "id": "fz3YOsnNeCuM",
        "outputId": "ce1cdbf5-8839-4dca-e852-116f2aee251a"
      },
      "source": [
        "golub_data.iloc[[3-1]]"
      ],
      "execution_count": 21,
      "outputs": [
        {
          "output_type": "execute_result",
          "data": {
            "text/html": [
              "<div>\n",
              "<style scoped>\n",
              "    .dataframe tbody tr th:only-of-type {\n",
              "        vertical-align: middle;\n",
              "    }\n",
              "\n",
              "    .dataframe tbody tr th {\n",
              "        vertical-align: top;\n",
              "    }\n",
              "\n",
              "    .dataframe thead th {\n",
              "        text-align: right;\n",
              "    }\n",
              "</style>\n",
              "<table border=\"1\" class=\"dataframe\">\n",
              "  <thead>\n",
              "    <tr style=\"text-align: right;\">\n",
              "      <th></th>\n",
              "      <th>V1</th>\n",
              "      <th>V2</th>\n",
              "      <th>V3</th>\n",
              "      <th>V4</th>\n",
              "      <th>V5</th>\n",
              "      <th>V6</th>\n",
              "      <th>V7</th>\n",
              "      <th>V8</th>\n",
              "      <th>V9</th>\n",
              "      <th>V10</th>\n",
              "      <th>V11</th>\n",
              "      <th>V12</th>\n",
              "      <th>V13</th>\n",
              "      <th>V14</th>\n",
              "      <th>V15</th>\n",
              "      <th>V16</th>\n",
              "      <th>V17</th>\n",
              "      <th>V18</th>\n",
              "      <th>V19</th>\n",
              "      <th>V20</th>\n",
              "      <th>V21</th>\n",
              "      <th>V22</th>\n",
              "      <th>V23</th>\n",
              "      <th>V24</th>\n",
              "      <th>V25</th>\n",
              "      <th>V26</th>\n",
              "      <th>V27</th>\n",
              "      <th>V28</th>\n",
              "      <th>V29</th>\n",
              "      <th>V30</th>\n",
              "      <th>V31</th>\n",
              "      <th>V32</th>\n",
              "      <th>V33</th>\n",
              "      <th>V34</th>\n",
              "      <th>V35</th>\n",
              "      <th>V36</th>\n",
              "      <th>V37</th>\n",
              "      <th>V38</th>\n",
              "    </tr>\n",
              "    <tr>\n",
              "      <th>Unnamed: 0</th>\n",
              "      <th></th>\n",
              "      <th></th>\n",
              "      <th></th>\n",
              "      <th></th>\n",
              "      <th></th>\n",
              "      <th></th>\n",
              "      <th></th>\n",
              "      <th></th>\n",
              "      <th></th>\n",
              "      <th></th>\n",
              "      <th></th>\n",
              "      <th></th>\n",
              "      <th></th>\n",
              "      <th></th>\n",
              "      <th></th>\n",
              "      <th></th>\n",
              "      <th></th>\n",
              "      <th></th>\n",
              "      <th></th>\n",
              "      <th></th>\n",
              "      <th></th>\n",
              "      <th></th>\n",
              "      <th></th>\n",
              "      <th></th>\n",
              "      <th></th>\n",
              "      <th></th>\n",
              "      <th></th>\n",
              "      <th></th>\n",
              "      <th></th>\n",
              "      <th></th>\n",
              "      <th></th>\n",
              "      <th></th>\n",
              "      <th></th>\n",
              "      <th></th>\n",
              "      <th></th>\n",
              "      <th></th>\n",
              "      <th></th>\n",
              "      <th></th>\n",
              "    </tr>\n",
              "  </thead>\n",
              "  <tbody>\n",
              "    <tr>\n",
              "      <th>3</th>\n",
              "      <td>0.45695</td>\n",
              "      <td>-0.09654</td>\n",
              "      <td>0.90325</td>\n",
              "      <td>-0.07194</td>\n",
              "      <td>0.03232</td>\n",
              "      <td>0.09713</td>\n",
              "      <td>-0.11978</td>\n",
              "      <td>0.23381</td>\n",
              "      <td>0.23987</td>\n",
              "      <td>0.44201</td>\n",
              "      <td>-0.3956</td>\n",
              "      <td>-0.62533</td>\n",
              "      <td>0.45181</td>\n",
              "      <td>1.09519</td>\n",
              "      <td>1.09318</td>\n",
              "      <td>0.343</td>\n",
              "      <td>0.2001</td>\n",
              "      <td>0.38992</td>\n",
              "      <td>0.00641</td>\n",
              "      <td>1.10932</td>\n",
              "      <td>0.21952</td>\n",
              "      <td>-0.72267</td>\n",
              "      <td>0.5169</td>\n",
              "      <td>0.28577</td>\n",
              "      <td>0.61937</td>\n",
              "      <td>0.20085</td>\n",
              "      <td>0.29278</td>\n",
              "      <td>0.26624</td>\n",
              "      <td>-0.43377</td>\n",
              "      <td>-0.10823</td>\n",
              "      <td>-0.29385</td>\n",
              "      <td>0.05067</td>\n",
              "      <td>1.6943</td>\n",
              "      <td>-0.12472</td>\n",
              "      <td>0.04609</td>\n",
              "      <td>0.24347</td>\n",
              "      <td>0.90774</td>\n",
              "      <td>0.46509</td>\n",
              "    </tr>\n",
              "  </tbody>\n",
              "</table>\n",
              "</div>"
            ],
            "text/plain": [
              "                 V1       V2       V3  ...      V36      V37      V38\n",
              "Unnamed: 0                             ...                           \n",
              "3           0.45695 -0.09654  0.90325  ...  0.24347  0.90774  0.46509\n",
              "\n",
              "[1 rows x 38 columns]"
            ]
          },
          "metadata": {},
          "execution_count": 21
        }
      ]
    },
    {
      "cell_type": "markdown",
      "metadata": {
        "id": "9DhGNESMF9T2"
      },
      "source": [
        "## not use section"
      ]
    },
    {
      "cell_type": "code",
      "metadata": {
        "colab": {
          "base_uri": "https://localhost:8080/"
        },
        "id": "tvTExC4Febpv",
        "outputId": "744e2e63-0199-43c6-81df-89006d3c1e0f"
      },
      "source": [
        "# X_ALL_3\n",
        "golub_data.iloc[: , :27].to_numpy()[3-1].mean()"
      ],
      "execution_count": null,
      "outputs": [
        {
          "output_type": "execute_result",
          "data": {
            "text/plain": [
              "0.26657777777777775"
            ]
          },
          "metadata": {},
          "execution_count": 60
        }
      ]
    },
    {
      "cell_type": "code",
      "metadata": {
        "id": "9-A2XVB8l8iQ"
      },
      "source": [
        "X_ALL = []\n",
        "for i in range(3051):\n",
        "  X_ALL.append(golub_data.iloc[: , :27].to_numpy()[i+1-1].mean())"
      ],
      "execution_count": null,
      "outputs": []
    },
    {
      "cell_type": "code",
      "metadata": {
        "colab": {
          "base_uri": "https://localhost:8080/"
        },
        "id": "WykF4nA3mXbI",
        "outputId": "c32435ae-331a-45f4-e77b-f2972a33494e"
      },
      "source": [
        "X_ALL = np.array(X_ALL)\n",
        "X_ALL"
      ],
      "execution_count": null,
      "outputs": [
        {
          "output_type": "execute_result",
          "data": {
            "text/plain": [
              "array([-1.27151037, -0.9098137 ,  0.26657778, ...,  0.40378296,\n",
              "       -0.37103407, -0.67668741])"
            ]
          },
          "metadata": {},
          "execution_count": 68
        }
      ]
    },
    {
      "cell_type": "code",
      "metadata": {
        "colab": {
          "base_uri": "https://localhost:8080/"
        },
        "id": "qn6Hi2bYkA05",
        "outputId": "83503da2-8e29-44f1-ca24-7ccc4331691e"
      },
      "source": [
        "# X_AML_3\n",
        "golub_data.iloc[: , 27:].to_numpy()[3-1].mean()"
      ],
      "execution_count": null,
      "outputs": [
        {
          "output_type": "execute_result",
          "data": {
            "text/plain": [
              "0.2466390909090909"
            ]
          },
          "metadata": {},
          "execution_count": 62
        }
      ]
    },
    {
      "cell_type": "code",
      "metadata": {
        "colab": {
          "base_uri": "https://localhost:8080/"
        },
        "id": "IANXyA7BnGPn",
        "outputId": "47ff2004-cd3c-43c8-e13c-e9d3db0549cf"
      },
      "source": [
        "X_AML = []\n",
        "for i in range(3051):\n",
        "  X_AML.append(golub_data.iloc[: , 27:].to_numpy()[i+1-1].mean())\n",
        "X_AML = np.array(X_AML)\n",
        "X_AML"
      ],
      "execution_count": null,
      "outputs": [
        {
          "output_type": "execute_result",
          "data": {
            "text/plain": [
              "array([-0.77924727, -0.69194182,  0.24663909, ...,  0.68216455,\n",
              "       -0.35427636,  0.41675636])"
            ]
          },
          "metadata": {},
          "execution_count": 69
        }
      ]
    },
    {
      "cell_type": "code",
      "metadata": {
        "id": "5fIuMDJ1lhqc"
      },
      "source": [
        "N_ALL = 27\n",
        "N_AML = 11"
      ],
      "execution_count": null,
      "outputs": []
    },
    {
      "cell_type": "code",
      "metadata": {
        "id": "YzP6s08dnwRE"
      },
      "source": [
        "S2_ALL = []\n",
        "for i in range(3051):\n",
        "  # S2_ALL.append(np.square(golub_data.iloc[: , :27].to_numpy()[i+1-1].std(ddof = 1)))\n",
        "  S2_ALL.append(np.square(golub_data.iloc[: , :27].to_numpy()[i+1-1].std()))\n",
        "S2_ALL = np.array(S2_ALL)\n",
        "S2_barXALL = S2_ALL/N_ALL"
      ],
      "execution_count": null,
      "outputs": []
    },
    {
      "cell_type": "code",
      "metadata": {
        "id": "_O3mk57DovNB"
      },
      "source": [
        "S2_AML = []\n",
        "for i in range(3051):\n",
        "  # S2_AML.append(np.square(golub_data.iloc[: ,27:].to_numpy()[i+1-1].std(ddof = 1)))\n",
        "  S2_AML.append(np.square(golub_data.iloc[: ,27:].to_numpy()[i+1-1].std()))\n",
        "S2_AML = np.array(S2_AML)\n",
        "S2_barXAML = S2_AML/N_AML"
      ],
      "execution_count": null,
      "outputs": []
    },
    {
      "cell_type": "code",
      "metadata": {
        "id": "IZDGATyBp9mA"
      },
      "source": [
        "delX = X_ALL - X_AML"
      ],
      "execution_count": null,
      "outputs": []
    },
    {
      "cell_type": "code",
      "metadata": {
        "id": "-jNuRQX5o_wH"
      },
      "source": [
        "S2_delX = S2_barXALL + S2_barXAML"
      ],
      "execution_count": null,
      "outputs": []
    },
    {
      "cell_type": "code",
      "metadata": {
        "colab": {
          "base_uri": "https://localhost:8080/"
        },
        "id": "K1UMQpx2qk_T",
        "outputId": "e5bbccf3-2b76-448b-a6ef-973ed46af242"
      },
      "source": [
        "S2_delX"
      ],
      "execution_count": null,
      "outputs": [
        {
          "output_type": "execute_result",
          "data": {
            "text/plain": [
              "array([0.07138986, 0.05246228, 0.03803864, ..., 0.02118213, 0.02385136,\n",
              "       0.10084725])"
            ]
          },
          "metadata": {},
          "execution_count": 107
        }
      ]
    },
    {
      "cell_type": "code",
      "metadata": {
        "id": "ezqFk9WJqU63"
      },
      "source": [
        "t_welch = delX/np.sqrt(S2_delX)"
      ],
      "execution_count": null,
      "outputs": []
    },
    {
      "cell_type": "code",
      "metadata": {
        "id": "TZ9yIbjDqy3S"
      },
      "source": [
        "# similar to the t-test statistic, and is itself known as the Welch unequal variances t-test."
      ],
      "execution_count": null,
      "outputs": []
    },
    {
      "cell_type": "code",
      "metadata": {
        "id": "9BAYWpIetKtf"
      },
      "source": [
        "v_ALL = N_ALL -1\n",
        "v_AML = N_AML -1"
      ],
      "execution_count": null,
      "outputs": []
    },
    {
      "cell_type": "code",
      "metadata": {
        "id": "WLgzx5WxsuB5"
      },
      "source": [
        "v = np.square(S2_delX)/(np.square(S2_barXALL)/v_ALL+np.square(S2_barXAML)/v_AML)"
      ],
      "execution_count": null,
      "outputs": []
    },
    {
      "cell_type": "code",
      "metadata": {
        "id": "VBGxCVtqujNe"
      },
      "source": [
        "p = []\n",
        "for i in range(3051):\n",
        "  p_i = 1 - scipy.stats.t.cdf(t_welch[i], v[i])\n",
        "  # p_i = 2*p_i\n",
        "  p.append(p_i)\n",
        "p = np.array(p)"
      ],
      "execution_count": null,
      "outputs": []
    },
    {
      "cell_type": "code",
      "metadata": {
        "id": "FRjG7kOZwvE6"
      },
      "source": [
        "a = np.array([1, 2, 0, 5, -1])\n",
        "b = (a < 2)"
      ],
      "execution_count": null,
      "outputs": []
    },
    {
      "cell_type": "code",
      "metadata": {
        "colab": {
          "base_uri": "https://localhost:8080/"
        },
        "id": "1JX_nn1KxDt2",
        "outputId": "50b84334-488c-46af-ae31-2125041e9b12"
      },
      "source": [
        "b"
      ],
      "execution_count": null,
      "outputs": [
        {
          "output_type": "execute_result",
          "data": {
            "text/plain": [
              "array([ True, False,  True, False,  True])"
            ]
          },
          "metadata": {},
          "execution_count": 96
        }
      ]
    },
    {
      "cell_type": "code",
      "metadata": {
        "colab": {
          "base_uri": "https://localhost:8080/"
        },
        "id": "H9Xd4jfHw0nD",
        "outputId": "085e8447-1da7-41df-e6f9-5d2fbbc85650"
      },
      "source": [
        "np.count_nonzero(b)"
      ],
      "execution_count": null,
      "outputs": [
        {
          "output_type": "execute_result",
          "data": {
            "text/plain": [
              "3"
            ]
          },
          "metadata": {},
          "execution_count": 97
        }
      ]
    },
    {
      "cell_type": "code",
      "metadata": {
        "colab": {
          "base_uri": "https://localhost:8080/"
        },
        "id": "DpAw6WbsxHum",
        "outputId": "008ef784-0f4c-41fc-dc8b-ff8d36d6007e"
      },
      "source": [
        "np.count_nonzero(p<0.025)"
      ],
      "execution_count": null,
      "outputs": [
        {
          "output_type": "execute_result",
          "data": {
            "text/plain": [
              "655"
            ]
          },
          "metadata": {},
          "execution_count": 115
        }
      ]
    },
    {
      "cell_type": "code",
      "metadata": {
        "id": "9RM6kQKyxd8x"
      },
      "source": [
        "#630 fail\n",
        "#746 fail"
      ],
      "execution_count": null,
      "outputs": []
    },
    {
      "cell_type": "code",
      "metadata": {
        "id": "mXhqOnQ5yBMZ"
      },
      "source": [
        "# need to try 655\n",
        "# need to try 770"
      ],
      "execution_count": null,
      "outputs": []
    },
    {
      "cell_type": "code",
      "metadata": {
        "colab": {
          "base_uri": "https://localhost:8080/"
        },
        "id": "vguiUcR-2a9m",
        "outputId": "a03a2cb2-ce2f-4c39-a2f8-444c7b6dccd1"
      },
      "source": [
        "golub_data.iloc[: , :27].to_numpy()[3-1].shape"
      ],
      "execution_count": null,
      "outputs": [
        {
          "output_type": "execute_result",
          "data": {
            "text/plain": [
              "(27,)"
            ]
          },
          "metadata": {},
          "execution_count": 126
        }
      ]
    },
    {
      "cell_type": "code",
      "metadata": {
        "colab": {
          "base_uri": "https://localhost:8080/"
        },
        "id": "WPEkGl_Y2nol",
        "outputId": "96a0aceb-edcb-4a74-b593-d94dd2466a92"
      },
      "source": [
        " golub_data.iloc[: ,27:].to_numpy()[3-1].shape"
      ],
      "execution_count": null,
      "outputs": [
        {
          "output_type": "execute_result",
          "data": {
            "text/plain": [
              "(11,)"
            ]
          },
          "metadata": {},
          "execution_count": 127
        }
      ]
    },
    {
      "cell_type": "markdown",
      "metadata": {
        "id": "9NWxtGjxF1DP"
      },
      "source": [
        "## real use section"
      ]
    },
    {
      "cell_type": "code",
      "metadata": {
        "id": "KcgtCwmNzlNx"
      },
      "source": [
        "t_stats_list = []\n",
        "p_value_list = []\n",
        "for i in range(3051):\n",
        "  t_stats,p_value = scipy.stats.ttest_ind(golub_data.iloc[: , :27].to_numpy()[i+1-1], golub_data.iloc[: ,27:].to_numpy()[i+1-1],equal_var=False)\n",
        "  t_stats_list.append(t_stats)\n",
        "  p_value_list.append(p_value)"
      ],
      "execution_count": 22,
      "outputs": []
    },
    {
      "cell_type": "code",
      "metadata": {
        "colab": {
          "base_uri": "https://localhost:8080/"
        },
        "id": "vcRc0Qcr1MNV",
        "outputId": "9772f721-2dd2-4feb-c303-da61a677ee35"
      },
      "source": [
        "p_value_list = np.array(p_value_list)\n",
        "p_value_list"
      ],
      "execution_count": 23,
      "outputs": [
        {
          "output_type": "execute_result",
          "data": {
            "text/plain": [
              "array([0.10616891, 0.38009143, 0.92321112, ..., 0.07937277, 0.91749659,\n",
              "       0.00626195])"
            ]
          },
          "metadata": {},
          "execution_count": 23
        }
      ]
    },
    {
      "cell_type": "code",
      "metadata": {
        "colab": {
          "base_uri": "https://localhost:8080/"
        },
        "id": "_x_ST1UA1Wmv",
        "outputId": "59200075-ee53-46ae-f13e-7711d9083547"
      },
      "source": [
        "np.count_nonzero(p_value_list<0.05)"
      ],
      "execution_count": 24,
      "outputs": [
        {
          "output_type": "execute_result",
          "data": {
            "text/plain": [
              "1078"
            ]
          },
          "metadata": {},
          "execution_count": 24
        }
      ]
    },
    {
      "cell_type": "code",
      "metadata": {
        "id": "lxlhLTdE37dY"
      },
      "source": [
        "p_value_list.sort()"
      ],
      "execution_count": 25,
      "outputs": []
    },
    {
      "cell_type": "code",
      "metadata": {
        "colab": {
          "base_uri": "https://localhost:8080/"
        },
        "id": "H4aM3yE84APG",
        "outputId": "3b771bfe-379d-4110-dac0-4c501e6c0c16"
      },
      "source": [
        "p_value_list"
      ],
      "execution_count": 26,
      "outputs": [
        {
          "output_type": "execute_result",
          "data": {
            "text/plain": [
              "array([2.78097119e-12, 1.53681858e-09, 8.42367885e-09, ...,\n",
              "       9.98546807e-01, 9.99773937e-01, 9.99839873e-01])"
            ]
          },
          "metadata": {},
          "execution_count": 26
        }
      ]
    },
    {
      "cell_type": "code",
      "metadata": {
        "id": "8zWzRPh_4C8s"
      },
      "source": [
        "# Holm-Bonferroni\n",
        "H = []\n",
        "for i in range(3051):\n",
        "  if p_value_list[i] <= 0.05/(3051-(i)):\n",
        "    H.append(True)\n",
        "  else:\n",
        "    break\n",
        "H = np.array(H)"
      ],
      "execution_count": 27,
      "outputs": []
    },
    {
      "cell_type": "code",
      "metadata": {
        "colab": {
          "base_uri": "https://localhost:8080/"
        },
        "id": "U5hOobol4vXL",
        "outputId": "0e9e0d74-b3ff-432e-de3c-10c9026a376a"
      },
      "source": [
        "np.count_nonzero(H)"
      ],
      "execution_count": 28,
      "outputs": [
        {
          "output_type": "execute_result",
          "data": {
            "text/plain": [
              "103"
            ]
          },
          "metadata": {},
          "execution_count": 28
        }
      ]
    },
    {
      "cell_type": "code",
      "metadata": {
        "id": "vZtkOWXJ5FfS"
      },
      "source": [
        "# Benjamini-Hochberg Correction\n",
        "B = []\n",
        "for i in range(3051):\n",
        "  if p_value_list[i] <= 0.05*(i+1)/3051:\n",
        "    B.append(True)\n",
        "  else:\n",
        "    break\n",
        "B = np.array(B)"
      ],
      "execution_count": 29,
      "outputs": []
    },
    {
      "cell_type": "code",
      "metadata": {
        "colab": {
          "base_uri": "https://localhost:8080/"
        },
        "id": "4ngid8wf5Z0_",
        "outputId": "05a20950-cfc5-4f60-a673-cc0d7e3c08de"
      },
      "source": [
        "np.count_nonzero(B)"
      ],
      "execution_count": 30,
      "outputs": [
        {
          "output_type": "execute_result",
          "data": {
            "text/plain": [
              "695"
            ]
          },
          "metadata": {},
          "execution_count": 30
        }
      ]
    },
    {
      "cell_type": "markdown",
      "metadata": {
        "id": "vg4gQZ4iYSsh"
      },
      "source": [
        "# Problem 1.6\n"
      ]
    },
    {
      "cell_type": "code",
      "metadata": {
        "colab": {
          "base_uri": "https://localhost:8080/",
          "height": 417
        },
        "id": "k5u5krcnYYR_",
        "outputId": "a13e5dc0-d8b9-43b1-e53a-be64090a11d7"
      },
      "source": [
        "FILE_SOURCE = \"https://raw.githubusercontent.com/Rotehut/mitx_sds_analysis/main/Module1_Review_Statistics_Correlation_Regression_Gradient%20Descent/HW/data_and%20materials/syn_X.csv?token=AM5AEFAOR2UHSXU3YI7EUFLBIWCP2\"\n",
        "df_X = pd.read_csv(FILE_SOURCE, names=['X_1', 'X_2'], header=None)\n",
        "df_X"
      ],
      "execution_count": 31,
      "outputs": [
        {
          "output_type": "execute_result",
          "data": {
            "text/html": [
              "<div>\n",
              "<style scoped>\n",
              "    .dataframe tbody tr th:only-of-type {\n",
              "        vertical-align: middle;\n",
              "    }\n",
              "\n",
              "    .dataframe tbody tr th {\n",
              "        vertical-align: top;\n",
              "    }\n",
              "\n",
              "    .dataframe thead th {\n",
              "        text-align: right;\n",
              "    }\n",
              "</style>\n",
              "<table border=\"1\" class=\"dataframe\">\n",
              "  <thead>\n",
              "    <tr style=\"text-align: right;\">\n",
              "      <th></th>\n",
              "      <th>X_1</th>\n",
              "      <th>X_2</th>\n",
              "    </tr>\n",
              "  </thead>\n",
              "  <tbody>\n",
              "    <tr>\n",
              "      <th>0</th>\n",
              "      <td>0.537670</td>\n",
              "      <td>0.84038</td>\n",
              "    </tr>\n",
              "    <tr>\n",
              "      <th>1</th>\n",
              "      <td>1.833900</td>\n",
              "      <td>-0.88803</td>\n",
              "    </tr>\n",
              "    <tr>\n",
              "      <th>2</th>\n",
              "      <td>-2.258800</td>\n",
              "      <td>0.10009</td>\n",
              "    </tr>\n",
              "    <tr>\n",
              "      <th>3</th>\n",
              "      <td>0.862170</td>\n",
              "      <td>-0.54453</td>\n",
              "    </tr>\n",
              "    <tr>\n",
              "      <th>4</th>\n",
              "      <td>0.318770</td>\n",
              "      <td>0.30352</td>\n",
              "    </tr>\n",
              "    <tr>\n",
              "      <th>...</th>\n",
              "      <td>...</td>\n",
              "      <td>...</td>\n",
              "    </tr>\n",
              "    <tr>\n",
              "      <th>95</th>\n",
              "      <td>0.187330</td>\n",
              "      <td>0.82606</td>\n",
              "    </tr>\n",
              "    <tr>\n",
              "      <th>96</th>\n",
              "      <td>-0.082494</td>\n",
              "      <td>1.52700</td>\n",
              "    </tr>\n",
              "    <tr>\n",
              "      <th>97</th>\n",
              "      <td>-1.933000</td>\n",
              "      <td>0.46691</td>\n",
              "    </tr>\n",
              "    <tr>\n",
              "      <th>98</th>\n",
              "      <td>-0.438970</td>\n",
              "      <td>-0.20971</td>\n",
              "    </tr>\n",
              "    <tr>\n",
              "      <th>99</th>\n",
              "      <td>-1.794700</td>\n",
              "      <td>0.62519</td>\n",
              "    </tr>\n",
              "  </tbody>\n",
              "</table>\n",
              "<p>100 rows × 2 columns</p>\n",
              "</div>"
            ],
            "text/plain": [
              "         X_1      X_2\n",
              "0   0.537670  0.84038\n",
              "1   1.833900 -0.88803\n",
              "2  -2.258800  0.10009\n",
              "3   0.862170 -0.54453\n",
              "4   0.318770  0.30352\n",
              "..       ...      ...\n",
              "95  0.187330  0.82606\n",
              "96 -0.082494  1.52700\n",
              "97 -1.933000  0.46691\n",
              "98 -0.438970 -0.20971\n",
              "99 -1.794700  0.62519\n",
              "\n",
              "[100 rows x 2 columns]"
            ]
          },
          "metadata": {},
          "execution_count": 31
        }
      ]
    },
    {
      "cell_type": "code",
      "metadata": {
        "colab": {
          "base_uri": "https://localhost:8080/",
          "height": 417
        },
        "id": "owcU_pPxbJO3",
        "outputId": "d9fe04dc-ff65-43e2-82cf-c5316a004043"
      },
      "source": [
        "FILE_SOURCE = \"https://raw.githubusercontent.com/Rotehut/mitx_sds_analysis/main/Module1_Review_Statistics_Correlation_Regression_Gradient%20Descent/HW/data_and%20materials/syn_y.csv?token=AM5AEFA77BV2RVFG5G2V3CDBIWCS2\"\n",
        "df_y = pd.read_csv(FILE_SOURCE, header=None)\n",
        "df_y"
      ],
      "execution_count": 33,
      "outputs": [
        {
          "output_type": "execute_result",
          "data": {
            "text/html": [
              "<div>\n",
              "<style scoped>\n",
              "    .dataframe tbody tr th:only-of-type {\n",
              "        vertical-align: middle;\n",
              "    }\n",
              "\n",
              "    .dataframe tbody tr th {\n",
              "        vertical-align: top;\n",
              "    }\n",
              "\n",
              "    .dataframe thead th {\n",
              "        text-align: right;\n",
              "    }\n",
              "</style>\n",
              "<table border=\"1\" class=\"dataframe\">\n",
              "  <thead>\n",
              "    <tr style=\"text-align: right;\">\n",
              "      <th></th>\n",
              "      <th>0</th>\n",
              "    </tr>\n",
              "  </thead>\n",
              "  <tbody>\n",
              "    <tr>\n",
              "      <th>0</th>\n",
              "      <td>-1.04490</td>\n",
              "    </tr>\n",
              "    <tr>\n",
              "      <th>1</th>\n",
              "      <td>7.68190</td>\n",
              "    </tr>\n",
              "    <tr>\n",
              "      <th>2</th>\n",
              "      <td>-0.68642</td>\n",
              "    </tr>\n",
              "    <tr>\n",
              "      <th>3</th>\n",
              "      <td>5.63850</td>\n",
              "    </tr>\n",
              "    <tr>\n",
              "      <th>4</th>\n",
              "      <td>1.08430</td>\n",
              "    </tr>\n",
              "    <tr>\n",
              "      <th>...</th>\n",
              "      <td>...</td>\n",
              "    </tr>\n",
              "    <tr>\n",
              "      <th>95</th>\n",
              "      <td>-1.52790</td>\n",
              "    </tr>\n",
              "    <tr>\n",
              "      <th>96</th>\n",
              "      <td>-6.21350</td>\n",
              "    </tr>\n",
              "    <tr>\n",
              "      <th>97</th>\n",
              "      <td>-2.13020</td>\n",
              "    </tr>\n",
              "    <tr>\n",
              "      <th>98</th>\n",
              "      <td>1.32070</td>\n",
              "    </tr>\n",
              "    <tr>\n",
              "      <th>99</th>\n",
              "      <td>-4.12660</td>\n",
              "    </tr>\n",
              "  </tbody>\n",
              "</table>\n",
              "<p>100 rows × 1 columns</p>\n",
              "</div>"
            ],
            "text/plain": [
              "          0\n",
              "0  -1.04490\n",
              "1   7.68190\n",
              "2  -0.68642\n",
              "3   5.63850\n",
              "4   1.08430\n",
              "..      ...\n",
              "95 -1.52790\n",
              "96 -6.21350\n",
              "97 -2.13020\n",
              "98  1.32070\n",
              "99 -4.12660\n",
              "\n",
              "[100 rows x 1 columns]"
            ]
          },
          "metadata": {},
          "execution_count": 33
        }
      ]
    },
    {
      "cell_type": "code",
      "metadata": {
        "colab": {
          "base_uri": "https://localhost:8080/"
        },
        "id": "3ci77iOna2yl",
        "outputId": "cf5c57ef-1a10-4244-e98f-48a87b1a1be7"
      },
      "source": [
        "np.array(df_X[\"X_1\"]).shape"
      ],
      "execution_count": 34,
      "outputs": [
        {
          "output_type": "execute_result",
          "data": {
            "text/plain": [
              "(100,)"
            ]
          },
          "metadata": {},
          "execution_count": 34
        }
      ]
    },
    {
      "cell_type": "code",
      "metadata": {
        "colab": {
          "base_uri": "https://localhost:8080/"
        },
        "id": "xroZjDBebuye",
        "outputId": "aeab6e1d-c3db-4f75-f93b-d0568b58ad90"
      },
      "source": [
        "Ys = np.array(df_y[0])\n",
        "Ys"
      ],
      "execution_count": 35,
      "outputs": [
        {
          "output_type": "execute_result",
          "data": {
            "text/plain": [
              "array([ -1.0449 ,   7.6819 ,  -0.68642,   5.6385 ,   1.0843 ,   3.3899 ,\n",
              "        -0.59445,  -1.3867 ,  -1.4906 ,   6.1239 ,   9.7367 ,  10.261  ,\n",
              "        -3.6631 ,   6.5071 ,  -1.8226 ,   0.60871,  -4.7102 ,  12.475  ,\n",
              "         5.3455 ,   9.0114 , -10.812  ,  -2.3607 ,  -2.7273 ,   8.6033 ,\n",
              "         3.9424 ,   4.2454 ,  -2.1486 ,   3.0243 ,  -0.93487,  10.51   ,\n",
              "         4.8543 ,   3.7043 ,   7.3401 ,  -1.6278 ,  -3.056  ,   3.4151 ,\n",
              "         8.398  ,  -5.4942 ,   1.84   ,   1.9132 ,   1.241  ,   3.3561 ,\n",
              "        10.434  ,   3.6464 ,   4.7945 ,   5.5878 ,   6.9637 ,   5.9562 ,\n",
              "        12.373  ,  -0.98722,  -1.7437 ,   2.1675 ,   0.8157 ,   4.4687 ,\n",
              "        -2.7787 ,   4.3204 ,   5.3036 ,  -4.7648 ,   3.8555 ,   6.1602 ,\n",
              "         2.515  ,   5.0227 ,   7.4086 ,  -8.1853 ,  -3.3853 ,  -0.11589,\n",
              "         6.1029 ,   4.3974 ,   1.5536 ,   1.5854 ,   7.4188 ,  13.923  ,\n",
              "         8.7931 ,   1.2401 ,  -0.55038,  -2.1875 ,   0.21854,   2.2216 ,\n",
              "         3.9299 ,  -2.1418 ,  10.286  ,   0.59956,   6.2317 ,   6.0374 ,\n",
              "        -0.98799,  -1.7201 ,   7.6863 ,  -4.2912 ,  -0.11579,   0.10047,\n",
              "         1.4887 ,   2.1307 ,   4.7409 ,   5.4297 ,   0.96951,  -1.5279 ,\n",
              "        -6.2135 ,  -2.1302 ,   1.3207 ,  -4.1266 ])"
            ]
          },
          "metadata": {},
          "execution_count": 35
        }
      ]
    },
    {
      "cell_type": "code",
      "metadata": {
        "colab": {
          "base_uri": "https://localhost:8080/"
        },
        "id": "3LH7HMf5cBpB",
        "outputId": "ecc96a9e-1975-4de0-fd83-1c246f032d9a"
      },
      "source": [
        "Xmat = np.array((np.ones_like(np.array(df_X[\"X_1\"])), np.array(df_X[\"X_1\"]), np.array(df_X[\"X_2\"]))).T\n",
        "Xmat"
      ],
      "execution_count": 36,
      "outputs": [
        {
          "output_type": "execute_result",
          "data": {
            "text/plain": [
              "array([[ 1.       ,  0.53767  ,  0.84038  ],\n",
              "       [ 1.       ,  1.8339   , -0.88803  ],\n",
              "       [ 1.       , -2.2588   ,  0.10009  ],\n",
              "       [ 1.       ,  0.86217  , -0.54453  ],\n",
              "       [ 1.       ,  0.31877  ,  0.30352  ],\n",
              "       [ 1.       , -1.3077   , -0.60033  ],\n",
              "       [ 1.       , -0.43359  ,  0.48997  ],\n",
              "       [ 1.       ,  0.34262  ,  0.73936  ],\n",
              "       [ 1.       ,  3.5784   ,  1.7119   ],\n",
              "       [ 1.       ,  2.7694   , -0.19412  ],\n",
              "       [ 1.       , -1.3499   , -2.1384   ],\n",
              "       [ 1.       ,  3.0349   , -0.83959  ],\n",
              "       [ 1.       ,  0.7254   ,  1.3546   ],\n",
              "       [ 1.       , -0.063055 , -1.0722   ],\n",
              "       [ 1.       ,  0.71474  ,  0.96095  ],\n",
              "       [ 1.       , -0.20497  ,  0.12405  ],\n",
              "       [ 1.       , -0.12414  ,  1.4367   ],\n",
              "       [ 1.       ,  1.4897   , -1.9609   ],\n",
              "       [ 1.       ,  1.409    , -0.1977   ],\n",
              "       [ 1.       ,  1.4172   , -1.2078   ],\n",
              "       [ 1.       ,  0.6715   ,  2.908    ],\n",
              "       [ 1.       , -1.2075   ,  0.82522  ],\n",
              "       [ 1.       ,  0.71724  ,  1.379    ],\n",
              "       [ 1.       ,  1.6302   , -1.0582   ],\n",
              "       [ 1.       ,  0.48889  , -0.46862  ],\n",
              "       [ 1.       ,  1.0347   , -0.27247  ],\n",
              "       [ 1.       ,  0.72689  ,  1.0984   ],\n",
              "       [ 1.       , -0.30344  , -0.27787  ],\n",
              "       [ 1.       ,  0.29387  ,  0.70154  ],\n",
              "       [ 1.       , -0.78728  , -2.0518   ],\n",
              "       [ 1.       ,  0.8884   , -0.35385  ],\n",
              "       [ 1.       , -1.1471   , -0.82359  ],\n",
              "       [ 1.       , -1.0689   , -1.5771   ],\n",
              "       [ 1.       , -0.8095   ,  0.50797  ],\n",
              "       [ 1.       , -2.9443   ,  0.28198  ],\n",
              "       [ 1.       ,  1.4384   ,  0.03348  ],\n",
              "       [ 1.       ,  0.32519  , -1.3337   ],\n",
              "       [ 1.       , -0.75493  ,  1.1275   ],\n",
              "       [ 1.       ,  1.3703   ,  0.35018  ],\n",
              "       [ 1.       , -1.7115   , -0.29907  ],\n",
              "       [ 1.       , -0.10224  ,  0.02289  ],\n",
              "       [ 1.       , -0.24145  , -0.262    ],\n",
              "       [ 1.       ,  0.31921  , -1.7502   ],\n",
              "       [ 1.       ,  0.31286  , -0.28565  ],\n",
              "       [ 1.       , -0.86488  , -0.83137  ],\n",
              "       [ 1.       , -0.030051 , -0.97921  ],\n",
              "       [ 1.       , -0.16488  , -1.1564   ],\n",
              "       [ 1.       ,  0.62771  , -0.53356  ],\n",
              "       [ 1.       ,  1.0933   , -2.0026   ],\n",
              "       [ 1.       ,  1.1093   ,  0.96423  ],\n",
              "       [ 1.       , -0.86365  ,  0.52006  ],\n",
              "       [ 1.       ,  0.077359 , -0.020028 ],\n",
              "       [ 1.       , -1.2141   , -0.034771 ],\n",
              "       [ 1.       , -1.1135   , -0.79816  ],\n",
              "       [ 1.       , -0.0068493,  1.0187   ],\n",
              "       [ 1.       ,  1.5326   , -0.13322  ],\n",
              "       [ 1.       , -0.76967  , -0.71453  ],\n",
              "       [ 1.       ,  0.37138  ,  1.3514   ],\n",
              "       [ 1.       , -0.22558  , -0.22477  ],\n",
              "       [ 1.       ,  1.1174   , -0.58903  ],\n",
              "       [ 1.       , -1.0891   , -0.29375  ],\n",
              "       [ 1.       ,  0.032557 , -0.84793  ],\n",
              "       [ 1.       ,  0.55253  , -1.1201   ],\n",
              "       [ 1.       ,  1.1006   ,  2.526    ],\n",
              "       [ 1.       ,  1.5442   ,  1.6555   ],\n",
              "       [ 1.       ,  0.085931 ,  0.30754  ],\n",
              "       [ 1.       , -1.4916   , -1.2571   ],\n",
              "       [ 1.       , -0.7423   , -0.86547  ],\n",
              "       [ 1.       , -1.0616   , -0.17653  ],\n",
              "       [ 1.       ,  2.3505   ,  0.79142  ],\n",
              "       [ 1.       , -0.6156   , -1.332    ],\n",
              "       [ 1.       ,  0.74808  , -2.3299   ],\n",
              "       [ 1.       , -0.19242  , -1.4491   ],\n",
              "       [ 1.       ,  0.88861  ,  0.33351  ],\n",
              "       [ 1.       , -0.76485  ,  0.39135  ],\n",
              "       [ 1.       , -1.4023   ,  0.45168  ],\n",
              "       [ 1.       , -1.4224   , -0.13028  ],\n",
              "       [ 1.       ,  0.48819  ,  0.18369  ],\n",
              "       [ 1.       , -0.17738  , -0.47615  ],\n",
              "       [ 1.       , -0.19605  ,  0.86202  ],\n",
              "       [ 1.       ,  1.4193   , -1.3617   ],\n",
              "       [ 1.       ,  0.29158  ,  0.45503  ],\n",
              "       [ 1.       ,  0.19781  , -0.84871  ],\n",
              "       [ 1.       ,  1.5877   , -0.33489  ],\n",
              "       [ 1.       , -0.80447  ,  0.55278  ],\n",
              "       [ 1.       ,  0.69662  ,  1.0391   ],\n",
              "       [ 1.       ,  0.83509  , -1.1176   ],\n",
              "       [ 1.       , -0.24372  ,  1.2607   ],\n",
              "       [ 1.       ,  0.21567  ,  0.66014  ],\n",
              "       [ 1.       , -1.1658   , -0.067866 ],\n",
              "       [ 1.       , -1.148    , -0.19522  ],\n",
              "       [ 1.       ,  0.10487  , -0.21761  ],\n",
              "       [ 1.       ,  0.72225  , -0.30311  ],\n",
              "       [ 1.       ,  2.5855   ,  0.023046 ],\n",
              "       [ 1.       , -0.66689  ,  0.05129  ],\n",
              "       [ 1.       ,  0.18733  ,  0.82606  ],\n",
              "       [ 1.       , -0.082494 ,  1.527    ],\n",
              "       [ 1.       , -1.933    ,  0.46691  ],\n",
              "       [ 1.       , -0.43897  , -0.20971  ],\n",
              "       [ 1.       , -1.7947   ,  0.62519  ]])"
            ]
          },
          "metadata": {},
          "execution_count": 36
        }
      ]
    },
    {
      "cell_type": "code",
      "metadata": {
        "id": "JTbbG8_wbjIl"
      },
      "source": [
        "Ys = np.array(df_y[0])[np.newaxis].T\n",
        "# Concatenate the variables into a matrix, np.ones_like inserts a row of ones into the start of the matrix for the intercept term.\n",
        "# Taking the transpose places each variable as columns.\n",
        "Xmat = np.array((np.ones_like(np.array(df_X[\"X_1\"])), np.array(df_X[\"X_1\"]), np.array(df_X[\"X_2\"]))).T\n",
        "# import numpy.linalg\n",
        "# The beta estimator using the matrix inversion formula\n",
        "betaVec = np.linalg.inv(Xmat.T.dot(Xmat)).dot(Xmat.T).dot(Ys)"
      ],
      "execution_count": 37,
      "outputs": []
    },
    {
      "cell_type": "code",
      "metadata": {
        "colab": {
          "base_uri": "https://localhost:8080/"
        },
        "id": "icS_dDtqcMt1",
        "outputId": "f014a480-7527-4b8a-88d9-c90aa3268cd4"
      },
      "source": [
        "betaVec"
      ],
      "execution_count": 38,
      "outputs": [
        {
          "output_type": "execute_result",
          "data": {
            "text/plain": [
              "array([[ 1.92960603],\n",
              "       [ 1.26397096],\n",
              "       [-4.59799331]])"
            ]
          },
          "metadata": {},
          "execution_count": 38
        }
      ]
    },
    {
      "cell_type": "markdown",
      "metadata": {
        "id": "OU0JZIW9kJQV"
      },
      "source": [
        "## not use part"
      ]
    },
    {
      "cell_type": "code",
      "metadata": {
        "id": "dii7tnaAeSlX"
      },
      "source": [
        "# gradient_descent(X, y, step_size, precision)\n",
        "precision = 0.000001\n",
        "y = Ys\n",
        "X = Xmat\n",
        "w = np.array([0, 0, 0]).T\n",
        "step_size = 1 #\n",
        "max_iters = 10000 # maximum number of iterations\n",
        "iters = 0 #iteration counter\n",
        "\n",
        "\n",
        "# update step\n",
        "w = w + 2*step_size*np.matmul((y-np.matmul(X,w)),X.T).sum()\n"
      ],
      "execution_count": null,
      "outputs": []
    },
    {
      "cell_type": "code",
      "metadata": {
        "id": "-xoo6t-dhAzE"
      },
      "source": [
        "y = Ys[np.newaxis].T\n",
        "X = Xmat\n",
        "w = np.array([0, 0, 0])[np.newaxis].T\n",
        "step_size = 0.1\n",
        "precision = 0.001"
      ],
      "execution_count": null,
      "outputs": []
    },
    {
      "cell_type": "code",
      "metadata": {
        "id": "LRfEnLOLojR0"
      },
      "source": [
        "for i in range(10000):\n",
        "  w_last = w\n",
        "  w = w + 2*step_size*np.matmul(X.T,y - np.matmul(X,w))\n",
        "  if w_last.T.dot(w_last)-w.T.dot(w)< precision:\n",
        "    break"
      ],
      "execution_count": null,
      "outputs": []
    },
    {
      "cell_type": "code",
      "metadata": {
        "colab": {
          "base_uri": "https://localhost:8080/"
        },
        "id": "aBny7NAzpsyY",
        "outputId": "8ad7114c-fea3-4c88-f681-c4243d28d3f5"
      },
      "source": [
        "w"
      ],
      "execution_count": null,
      "outputs": [
        {
          "output_type": "execute_result",
          "data": {
            "text/plain": [
              "array([[ 48.387316  ],\n",
              "       [ 31.74877795],\n",
              "       [-93.27433504]])"
            ]
          },
          "metadata": {},
          "execution_count": 59
        }
      ]
    },
    {
      "cell_type": "code",
      "metadata": {
        "colab": {
          "base_uri": "https://localhost:8080/"
        },
        "id": "XKMf__gThdA1",
        "outputId": "bd66e89f-8167-40d2-b750-7ec457699555"
      },
      "source": [
        "X.shape"
      ],
      "execution_count": null,
      "outputs": [
        {
          "output_type": "execute_result",
          "data": {
            "text/plain": [
              "(100, 3)"
            ]
          },
          "metadata": {},
          "execution_count": 33
        }
      ]
    },
    {
      "cell_type": "code",
      "metadata": {
        "colab": {
          "base_uri": "https://localhost:8080/"
        },
        "id": "2SMCudlpjgeC",
        "outputId": "d1ebbe18-e0f5-4def-d1cc-19430c104c91"
      },
      "source": [
        "w.shape"
      ],
      "execution_count": null,
      "outputs": [
        {
          "output_type": "execute_result",
          "data": {
            "text/plain": [
              "(3, 1)"
            ]
          },
          "metadata": {},
          "execution_count": 34
        }
      ]
    },
    {
      "cell_type": "code",
      "metadata": {
        "colab": {
          "base_uri": "https://localhost:8080/"
        },
        "id": "-SOMYyDZks3B",
        "outputId": "5399bdd8-713a-4f2a-9c18-ceccd46ae621"
      },
      "source": [
        "X[5]"
      ],
      "execution_count": null,
      "outputs": [
        {
          "output_type": "execute_result",
          "data": {
            "text/plain": [
              "array([ 1.     , -1.3077 , -0.60033])"
            ]
          },
          "metadata": {},
          "execution_count": 41
        }
      ]
    },
    {
      "cell_type": "code",
      "metadata": {
        "colab": {
          "base_uri": "https://localhost:8080/"
        },
        "id": "3hRhZIH6pM_y",
        "outputId": "e4b4682b-6dee-443d-b4c1-99cc6db590b6"
      },
      "source": [
        "w.T.dot(w)"
      ],
      "execution_count": null,
      "outputs": [
        {
          "output_type": "execute_result",
          "data": {
            "text/plain": [
              "array([[14]])"
            ]
          },
          "metadata": {},
          "execution_count": 50
        }
      ]
    },
    {
      "cell_type": "markdown",
      "metadata": {
        "id": "WThHnp9ur69e"
      },
      "source": [
        "## test"
      ]
    },
    {
      "cell_type": "code",
      "metadata": {
        "id": "vqP57C9Fr9xx"
      },
      "source": [
        "X = 2 * np.random.rand(100,2)\n",
        "y = 4 +3 * 2 * np.random.rand(100,1)+np.random.randn(100,1)"
      ],
      "execution_count": 39,
      "outputs": []
    },
    {
      "cell_type": "code",
      "metadata": {
        "id": "Y2x0jwppsInR"
      },
      "source": [
        "# https://gist.github.com/sagarmainkar/41d135a04d7d3bc4098f0664fe20cf3c"
      ],
      "execution_count": null,
      "outputs": []
    },
    {
      "cell_type": "code",
      "metadata": {
        "colab": {
          "base_uri": "https://localhost:8080/"
        },
        "id": "wWJDAtinsEyh",
        "outputId": "1b942864-c667-4b9e-e071-f92258ad6898"
      },
      "source": [
        "X_b = np.c_[np.ones((100,1)),X]\n",
        "theta_best = np.linalg.inv(X_b.T.dot(X_b)).dot(X_b.T).dot(y)\n",
        "print(theta_best)"
      ],
      "execution_count": 40,
      "outputs": [
        {
          "output_type": "stream",
          "name": "stdout",
          "text": [
            "[[ 7.73380624]\n",
            " [-1.00411286]\n",
            " [ 0.45656643]]\n"
          ]
        }
      ]
    },
    {
      "cell_type": "code",
      "metadata": {
        "id": "68B_1xH-t3cB"
      },
      "source": [
        "def gradient_descent(X,y,theta,step_size=0.01,iterations=100, precision=0.000001):\n",
        "    '''\n",
        "    X    = Matrix of X with added bias units\n",
        "    y    = Vector of Y\n",
        "    theta=Vector of thetas np.random.randn(j,1)\n",
        "    learning_rate \n",
        "    iterations = no of iterations\n",
        "    \n",
        "    Returns the final theta vector and array of cost history over no of iterations\n",
        "    '''\n",
        "    m = len(y)\n",
        "    cost_history = np.zeros(iterations)\n",
        "    # theta_history = np.zeros((iterations,3))\n",
        "    for it in range(iterations):\n",
        "        \n",
        "        prediction = np.dot(X,theta)\n",
        "        last_theta = theta\n",
        "        theta = theta -2*step_size*( X.T.dot((prediction - y)))\n",
        "        # theta_history[it,:] =theta.T\n",
        "        r = np.sum(np.square(last_theta-theta))\n",
        "        if r < precision:\n",
        "          break\n",
        "        # cost_history[it]  = cal_cost(theta,X,y)\n",
        "        \n",
        "    return theta, it"
      ],
      "execution_count": 41,
      "outputs": []
    },
    {
      "cell_type": "code",
      "metadata": {
        "colab": {
          "base_uri": "https://localhost:8080/"
        },
        "id": "fpFjhZ34uAF7",
        "outputId": "09f6fba1-8eca-4df9-c252-517b0b90e6dc"
      },
      "source": [
        "step_size =0.001\n",
        "n_iter = 10000\n",
        "\n",
        "theta = np.zeros((3,1))\n",
        "\n",
        "X_b = np.c_[np.ones((len(X),1)),X]\n",
        "theta, it = gradient_descent(X_b,y,theta,step_size,n_iter)\n",
        "\n",
        "\n",
        "print('Theta0:          {:0.3f},\\nTheta1:          {:0.3f},\\nTheta2:          {:0.3f}'.format(theta[0][0],theta[1][0], theta[2][0]))\n",
        "print(it)"
      ],
      "execution_count": 44,
      "outputs": [
        {
          "output_type": "stream",
          "name": "stdout",
          "text": [
            "Theta0:          7.696,\n",
            "Theta1:          -0.985,\n",
            "Theta2:          0.469\n",
            "226\n"
          ]
        }
      ]
    },
    {
      "cell_type": "markdown",
      "metadata": {
        "id": "_ZnCiVpBytvb"
      },
      "source": [
        "## Part (c)"
      ]
    },
    {
      "cell_type": "code",
      "metadata": {
        "colab": {
          "base_uri": "https://localhost:8080/"
        },
        "id": "1-C9cee4yzKd",
        "outputId": "db9679fc-f69f-459e-cb6e-9776db4c2cad"
      },
      "source": [
        "step_size =0.004 #the answer is here\n",
        "n_iter = 10000\n",
        "\n",
        "theta = np.zeros((3,1))\n",
        "\n",
        "Ys\n",
        "Xmat\n",
        "theta, it = gradient_descent(Xmat,Ys,theta,step_size,n_iter)\n",
        "\n",
        "\n",
        "print('Theta0:          {:0.3f},\\nTheta1:          {:0.3f},\\nTheta2:          {:0.3f}'.format(theta[0][0],theta[1][0], theta[2][0]))\n",
        "print(it)"
      ],
      "execution_count": 50,
      "outputs": [
        {
          "output_type": "stream",
          "name": "stdout",
          "text": [
            "Theta0:          1.930,\n",
            "Theta1:          1.264,\n",
            "Theta2:          -4.598\n",
            "6\n"
          ]
        }
      ]
    },
    {
      "cell_type": "markdown",
      "metadata": {
        "id": "wn-FvDbKLBsw"
      },
      "source": [
        "## Part (d)"
      ]
    },
    {
      "cell_type": "code",
      "metadata": {
        "id": "L8LizjZGLAmh"
      },
      "source": [
        "def featureNormalize(data):\n",
        "    mean = np.mean(data , axis=0 )\n",
        "    std = np.std(data , axis=0 )\n",
        "    norm = ( data - mean ) / std\n",
        "    return norm"
      ],
      "execution_count": 51,
      "outputs": []
    },
    {
      "cell_type": "code",
      "metadata": {
        "colab": {
          "base_uri": "https://localhost:8080/",
          "height": 1000
        },
        "id": "Dwxf2TWDLWom",
        "outputId": "c62e617f-1552-4378-ae1b-3ae34d38ecd6"
      },
      "source": [
        "FILE_SOURCE = \"https://raw.githubusercontent.com/Rotehut/mitx_sds_analysis/main/Module1_Review_Statistics_Correlation_Regression_Gradient%20Descent/HW/data_and%20materials/mortality.csv?token=AM5AEFGEVTYEZYTGUNGL3SDBIWDCY\"\n",
        "df = pd.read_csv(FILE_SOURCE)\n",
        "df"
      ],
      "execution_count": 52,
      "outputs": [
        {
          "output_type": "execute_result",
          "data": {
            "text/html": [
              "<div>\n",
              "<style scoped>\n",
              "    .dataframe tbody tr th:only-of-type {\n",
              "        vertical-align: middle;\n",
              "    }\n",
              "\n",
              "    .dataframe tbody tr th {\n",
              "        vertical-align: top;\n",
              "    }\n",
              "\n",
              "    .dataframe thead th {\n",
              "        text-align: right;\n",
              "    }\n",
              "</style>\n",
              "<table border=\"1\" class=\"dataframe\">\n",
              "  <thead>\n",
              "    <tr style=\"text-align: right;\">\n",
              "      <th></th>\n",
              "      <th>City</th>\n",
              "      <th>Mortality</th>\n",
              "      <th>JanTemp</th>\n",
              "      <th>JulyTemp</th>\n",
              "      <th>RelHum</th>\n",
              "      <th>Rain</th>\n",
              "      <th>Educ</th>\n",
              "      <th>Dens</th>\n",
              "      <th>NonWhite</th>\n",
              "      <th>WhiteCollar</th>\n",
              "      <th>Pop</th>\n",
              "      <th>House</th>\n",
              "      <th>Income</th>\n",
              "      <th>HC</th>\n",
              "      <th>NOx</th>\n",
              "      <th>SO2</th>\n",
              "    </tr>\n",
              "  </thead>\n",
              "  <tbody>\n",
              "    <tr>\n",
              "      <th>0</th>\n",
              "      <td>Akron, OH</td>\n",
              "      <td>921.87</td>\n",
              "      <td>27</td>\n",
              "      <td>71</td>\n",
              "      <td>59</td>\n",
              "      <td>36</td>\n",
              "      <td>11.4</td>\n",
              "      <td>3243</td>\n",
              "      <td>8.8</td>\n",
              "      <td>42.6</td>\n",
              "      <td>660328</td>\n",
              "      <td>3.34</td>\n",
              "      <td>29560</td>\n",
              "      <td>21</td>\n",
              "      <td>15</td>\n",
              "      <td>59</td>\n",
              "    </tr>\n",
              "    <tr>\n",
              "      <th>1</th>\n",
              "      <td>Albany-Schenectady-Troy, NY</td>\n",
              "      <td>997.87</td>\n",
              "      <td>23</td>\n",
              "      <td>72</td>\n",
              "      <td>57</td>\n",
              "      <td>35</td>\n",
              "      <td>11.0</td>\n",
              "      <td>4281</td>\n",
              "      <td>3.5</td>\n",
              "      <td>50.7</td>\n",
              "      <td>835880</td>\n",
              "      <td>3.14</td>\n",
              "      <td>31458</td>\n",
              "      <td>8</td>\n",
              "      <td>10</td>\n",
              "      <td>39</td>\n",
              "    </tr>\n",
              "    <tr>\n",
              "      <th>2</th>\n",
              "      <td>Allentown, Bethlehem,PA-NJ</td>\n",
              "      <td>962.35</td>\n",
              "      <td>29</td>\n",
              "      <td>74</td>\n",
              "      <td>54</td>\n",
              "      <td>44</td>\n",
              "      <td>9.8</td>\n",
              "      <td>4260</td>\n",
              "      <td>0.8</td>\n",
              "      <td>39.4</td>\n",
              "      <td>635481</td>\n",
              "      <td>3.21</td>\n",
              "      <td>31856</td>\n",
              "      <td>6</td>\n",
              "      <td>6</td>\n",
              "      <td>33</td>\n",
              "    </tr>\n",
              "    <tr>\n",
              "      <th>3</th>\n",
              "      <td>Atlanta, GA</td>\n",
              "      <td>982.29</td>\n",
              "      <td>45</td>\n",
              "      <td>79</td>\n",
              "      <td>56</td>\n",
              "      <td>47</td>\n",
              "      <td>11.1</td>\n",
              "      <td>3125</td>\n",
              "      <td>27.1</td>\n",
              "      <td>50.2</td>\n",
              "      <td>2138231</td>\n",
              "      <td>3.41</td>\n",
              "      <td>32452</td>\n",
              "      <td>18</td>\n",
              "      <td>8</td>\n",
              "      <td>24</td>\n",
              "    </tr>\n",
              "    <tr>\n",
              "      <th>4</th>\n",
              "      <td>Baltimore, MD</td>\n",
              "      <td>1071.29</td>\n",
              "      <td>35</td>\n",
              "      <td>77</td>\n",
              "      <td>55</td>\n",
              "      <td>43</td>\n",
              "      <td>9.6</td>\n",
              "      <td>6441</td>\n",
              "      <td>24.4</td>\n",
              "      <td>43.7</td>\n",
              "      <td>2199531</td>\n",
              "      <td>3.44</td>\n",
              "      <td>32368</td>\n",
              "      <td>43</td>\n",
              "      <td>38</td>\n",
              "      <td>206</td>\n",
              "    </tr>\n",
              "    <tr>\n",
              "      <th>5</th>\n",
              "      <td>Birmingham, AL</td>\n",
              "      <td>1030.38</td>\n",
              "      <td>45</td>\n",
              "      <td>80</td>\n",
              "      <td>54</td>\n",
              "      <td>53</td>\n",
              "      <td>10.2</td>\n",
              "      <td>3325</td>\n",
              "      <td>38.5</td>\n",
              "      <td>43.1</td>\n",
              "      <td>883946</td>\n",
              "      <td>3.45</td>\n",
              "      <td>27835</td>\n",
              "      <td>30</td>\n",
              "      <td>32</td>\n",
              "      <td>72</td>\n",
              "    </tr>\n",
              "    <tr>\n",
              "      <th>6</th>\n",
              "      <td>Boston, MA</td>\n",
              "      <td>934.70</td>\n",
              "      <td>30</td>\n",
              "      <td>74</td>\n",
              "      <td>56</td>\n",
              "      <td>43</td>\n",
              "      <td>12.1</td>\n",
              "      <td>4679</td>\n",
              "      <td>3.5</td>\n",
              "      <td>49.2</td>\n",
              "      <td>2805911</td>\n",
              "      <td>3.23</td>\n",
              "      <td>36644</td>\n",
              "      <td>21</td>\n",
              "      <td>32</td>\n",
              "      <td>62</td>\n",
              "    </tr>\n",
              "    <tr>\n",
              "      <th>7</th>\n",
              "      <td>Bridgeport-Milford, CT</td>\n",
              "      <td>899.53</td>\n",
              "      <td>30</td>\n",
              "      <td>73</td>\n",
              "      <td>56</td>\n",
              "      <td>45</td>\n",
              "      <td>10.6</td>\n",
              "      <td>2140</td>\n",
              "      <td>5.3</td>\n",
              "      <td>40.4</td>\n",
              "      <td>438557</td>\n",
              "      <td>3.29</td>\n",
              "      <td>47258</td>\n",
              "      <td>6</td>\n",
              "      <td>4</td>\n",
              "      <td>4</td>\n",
              "    </tr>\n",
              "    <tr>\n",
              "      <th>8</th>\n",
              "      <td>Buffalo, NY</td>\n",
              "      <td>1001.90</td>\n",
              "      <td>24</td>\n",
              "      <td>70</td>\n",
              "      <td>61</td>\n",
              "      <td>36</td>\n",
              "      <td>10.5</td>\n",
              "      <td>6582</td>\n",
              "      <td>8.1</td>\n",
              "      <td>42.5</td>\n",
              "      <td>1015472</td>\n",
              "      <td>3.31</td>\n",
              "      <td>31248</td>\n",
              "      <td>18</td>\n",
              "      <td>12</td>\n",
              "      <td>37</td>\n",
              "    </tr>\n",
              "    <tr>\n",
              "      <th>9</th>\n",
              "      <td>Canton, OH</td>\n",
              "      <td>912.35</td>\n",
              "      <td>27</td>\n",
              "      <td>72</td>\n",
              "      <td>59</td>\n",
              "      <td>36</td>\n",
              "      <td>10.7</td>\n",
              "      <td>4213</td>\n",
              "      <td>6.7</td>\n",
              "      <td>41.0</td>\n",
              "      <td>404421</td>\n",
              "      <td>3.36</td>\n",
              "      <td>29089</td>\n",
              "      <td>12</td>\n",
              "      <td>7</td>\n",
              "      <td>20</td>\n",
              "    </tr>\n",
              "    <tr>\n",
              "      <th>10</th>\n",
              "      <td>Chattanooga, TN-GA</td>\n",
              "      <td>1017.61</td>\n",
              "      <td>42</td>\n",
              "      <td>79</td>\n",
              "      <td>56</td>\n",
              "      <td>52</td>\n",
              "      <td>9.6</td>\n",
              "      <td>2302</td>\n",
              "      <td>22.2</td>\n",
              "      <td>41.3</td>\n",
              "      <td>426540</td>\n",
              "      <td>3.39</td>\n",
              "      <td>25782</td>\n",
              "      <td>18</td>\n",
              "      <td>8</td>\n",
              "      <td>27</td>\n",
              "    </tr>\n",
              "    <tr>\n",
              "      <th>11</th>\n",
              "      <td>Chicago, IL</td>\n",
              "      <td>1024.89</td>\n",
              "      <td>26</td>\n",
              "      <td>76</td>\n",
              "      <td>58</td>\n",
              "      <td>33</td>\n",
              "      <td>10.9</td>\n",
              "      <td>6122</td>\n",
              "      <td>16.3</td>\n",
              "      <td>44.9</td>\n",
              "      <td>606387</td>\n",
              "      <td>3.20</td>\n",
              "      <td>36593</td>\n",
              "      <td>88</td>\n",
              "      <td>63</td>\n",
              "      <td>278</td>\n",
              "    </tr>\n",
              "    <tr>\n",
              "      <th>12</th>\n",
              "      <td>Cincinnati, OH-KY-IN</td>\n",
              "      <td>970.47</td>\n",
              "      <td>34</td>\n",
              "      <td>77</td>\n",
              "      <td>57</td>\n",
              "      <td>40</td>\n",
              "      <td>10.2</td>\n",
              "      <td>4101</td>\n",
              "      <td>13.0</td>\n",
              "      <td>45.7</td>\n",
              "      <td>1401491</td>\n",
              "      <td>3.21</td>\n",
              "      <td>31427</td>\n",
              "      <td>26</td>\n",
              "      <td>26</td>\n",
              "      <td>146</td>\n",
              "    </tr>\n",
              "    <tr>\n",
              "      <th>13</th>\n",
              "      <td>Cleveland, OH</td>\n",
              "      <td>985.95</td>\n",
              "      <td>28</td>\n",
              "      <td>71</td>\n",
              "      <td>60</td>\n",
              "      <td>35</td>\n",
              "      <td>11.1</td>\n",
              "      <td>3042</td>\n",
              "      <td>14.7</td>\n",
              "      <td>44.6</td>\n",
              "      <td>1898825</td>\n",
              "      <td>3.29</td>\n",
              "      <td>35720</td>\n",
              "      <td>31</td>\n",
              "      <td>21</td>\n",
              "      <td>64</td>\n",
              "    </tr>\n",
              "    <tr>\n",
              "      <th>14</th>\n",
              "      <td>Columbus, OH</td>\n",
              "      <td>958.84</td>\n",
              "      <td>31</td>\n",
              "      <td>75</td>\n",
              "      <td>58</td>\n",
              "      <td>37</td>\n",
              "      <td>11.9</td>\n",
              "      <td>4259</td>\n",
              "      <td>13.1</td>\n",
              "      <td>49.6</td>\n",
              "      <td>124833</td>\n",
              "      <td>3.26</td>\n",
              "      <td>29761</td>\n",
              "      <td>23</td>\n",
              "      <td>9</td>\n",
              "      <td>15</td>\n",
              "    </tr>\n",
              "    <tr>\n",
              "      <th>15</th>\n",
              "      <td>Dallas, TX</td>\n",
              "      <td>860.10</td>\n",
              "      <td>46</td>\n",
              "      <td>85</td>\n",
              "      <td>54</td>\n",
              "      <td>35</td>\n",
              "      <td>11.8</td>\n",
              "      <td>1441</td>\n",
              "      <td>14.8</td>\n",
              "      <td>51.2</td>\n",
              "      <td>1957378</td>\n",
              "      <td>3.22</td>\n",
              "      <td>38769</td>\n",
              "      <td>1</td>\n",
              "      <td>1</td>\n",
              "      <td>1</td>\n",
              "    </tr>\n",
              "    <tr>\n",
              "      <th>16</th>\n",
              "      <td>Dayton-Springfield, OH</td>\n",
              "      <td>936.23</td>\n",
              "      <td>30</td>\n",
              "      <td>75</td>\n",
              "      <td>58</td>\n",
              "      <td>36</td>\n",
              "      <td>11.4</td>\n",
              "      <td>4029</td>\n",
              "      <td>12.4</td>\n",
              "      <td>44.0</td>\n",
              "      <td>942083</td>\n",
              "      <td>3.35</td>\n",
              "      <td>30232</td>\n",
              "      <td>6</td>\n",
              "      <td>4</td>\n",
              "      <td>16</td>\n",
              "    </tr>\n",
              "    <tr>\n",
              "      <th>17</th>\n",
              "      <td>Denver, CO</td>\n",
              "      <td>871.77</td>\n",
              "      <td>30</td>\n",
              "      <td>73</td>\n",
              "      <td>38</td>\n",
              "      <td>15</td>\n",
              "      <td>12.2</td>\n",
              "      <td>4824</td>\n",
              "      <td>4.7</td>\n",
              "      <td>53.1</td>\n",
              "      <td>1428836</td>\n",
              "      <td>3.15</td>\n",
              "      <td>39099</td>\n",
              "      <td>17</td>\n",
              "      <td>8</td>\n",
              "      <td>28</td>\n",
              "    </tr>\n",
              "    <tr>\n",
              "      <th>18</th>\n",
              "      <td>Detroit, MI</td>\n",
              "      <td>959.22</td>\n",
              "      <td>27</td>\n",
              "      <td>74</td>\n",
              "      <td>59</td>\n",
              "      <td>31</td>\n",
              "      <td>10.8</td>\n",
              "      <td>4834</td>\n",
              "      <td>15.8</td>\n",
              "      <td>43.5</td>\n",
              "      <td>4488072</td>\n",
              "      <td>3.44</td>\n",
              "      <td>33858</td>\n",
              "      <td>52</td>\n",
              "      <td>35</td>\n",
              "      <td>124</td>\n",
              "    </tr>\n",
              "    <tr>\n",
              "      <th>19</th>\n",
              "      <td>Flint, MI</td>\n",
              "      <td>941.18</td>\n",
              "      <td>24</td>\n",
              "      <td>72</td>\n",
              "      <td>61</td>\n",
              "      <td>30</td>\n",
              "      <td>10.8</td>\n",
              "      <td>3694</td>\n",
              "      <td>13.1</td>\n",
              "      <td>33.8</td>\n",
              "      <td>450449</td>\n",
              "      <td>3.53</td>\n",
              "      <td>32000</td>\n",
              "      <td>11</td>\n",
              "      <td>4</td>\n",
              "      <td>11</td>\n",
              "    </tr>\n",
              "    <tr>\n",
              "      <th>20</th>\n",
              "      <td>Grand Rapids,MI</td>\n",
              "      <td>871.34</td>\n",
              "      <td>24</td>\n",
              "      <td>72</td>\n",
              "      <td>61</td>\n",
              "      <td>31</td>\n",
              "      <td>10.9</td>\n",
              "      <td>3226</td>\n",
              "      <td>5.1</td>\n",
              "      <td>45.2</td>\n",
              "      <td>601680</td>\n",
              "      <td>3.37</td>\n",
              "      <td>29915</td>\n",
              "      <td>5</td>\n",
              "      <td>3</td>\n",
              "      <td>10</td>\n",
              "    </tr>\n",
              "    <tr>\n",
              "      <th>21</th>\n",
              "      <td>Greensboro-Winston-Salem-High Point,NC</td>\n",
              "      <td>971.12</td>\n",
              "      <td>40</td>\n",
              "      <td>77</td>\n",
              "      <td>53</td>\n",
              "      <td>42</td>\n",
              "      <td>10.4</td>\n",
              "      <td>2269</td>\n",
              "      <td>22.7</td>\n",
              "      <td>41.4</td>\n",
              "      <td>851851</td>\n",
              "      <td>3.45</td>\n",
              "      <td>29450</td>\n",
              "      <td>8</td>\n",
              "      <td>3</td>\n",
              "      <td>5</td>\n",
              "    </tr>\n",
              "    <tr>\n",
              "      <th>22</th>\n",
              "      <td>Hartford, CT</td>\n",
              "      <td>887.47</td>\n",
              "      <td>27</td>\n",
              "      <td>72</td>\n",
              "      <td>56</td>\n",
              "      <td>43</td>\n",
              "      <td>11.5</td>\n",
              "      <td>2909</td>\n",
              "      <td>7.2</td>\n",
              "      <td>51.6</td>\n",
              "      <td>715923</td>\n",
              "      <td>3.25</td>\n",
              "      <td>37565</td>\n",
              "      <td>7</td>\n",
              "      <td>3</td>\n",
              "      <td>10</td>\n",
              "    </tr>\n",
              "    <tr>\n",
              "      <th>23</th>\n",
              "      <td>Houston, TX</td>\n",
              "      <td>952.53</td>\n",
              "      <td>55</td>\n",
              "      <td>84</td>\n",
              "      <td>59</td>\n",
              "      <td>46</td>\n",
              "      <td>11.4</td>\n",
              "      <td>2647</td>\n",
              "      <td>21.0</td>\n",
              "      <td>46.9</td>\n",
              "      <td>2735766</td>\n",
              "      <td>3.35</td>\n",
              "      <td>39558</td>\n",
              "      <td>6</td>\n",
              "      <td>5</td>\n",
              "      <td>1</td>\n",
              "    </tr>\n",
              "    <tr>\n",
              "      <th>24</th>\n",
              "      <td>Indianapolis, IN</td>\n",
              "      <td>968.67</td>\n",
              "      <td>29</td>\n",
              "      <td>75</td>\n",
              "      <td>60</td>\n",
              "      <td>39</td>\n",
              "      <td>11.4</td>\n",
              "      <td>4412</td>\n",
              "      <td>15.6</td>\n",
              "      <td>46.6</td>\n",
              "      <td>1166575</td>\n",
              "      <td>3.23</td>\n",
              "      <td>31461</td>\n",
              "      <td>13</td>\n",
              "      <td>7</td>\n",
              "      <td>33</td>\n",
              "    </tr>\n",
              "    <tr>\n",
              "      <th>25</th>\n",
              "      <td>Kansas City,MO</td>\n",
              "      <td>919.73</td>\n",
              "      <td>31</td>\n",
              "      <td>81</td>\n",
              "      <td>55</td>\n",
              "      <td>35</td>\n",
              "      <td>12.0</td>\n",
              "      <td>3262</td>\n",
              "      <td>12.6</td>\n",
              "      <td>48.6</td>\n",
              "      <td>914427</td>\n",
              "      <td>3.10</td>\n",
              "      <td>30783</td>\n",
              "      <td>7</td>\n",
              "      <td>4</td>\n",
              "      <td>4</td>\n",
              "    </tr>\n",
              "    <tr>\n",
              "      <th>26</th>\n",
              "      <td>Lancaster, PA</td>\n",
              "      <td>844.05</td>\n",
              "      <td>32</td>\n",
              "      <td>74</td>\n",
              "      <td>54</td>\n",
              "      <td>43</td>\n",
              "      <td>9.5</td>\n",
              "      <td>3214</td>\n",
              "      <td>2.9</td>\n",
              "      <td>43.7</td>\n",
              "      <td>362346</td>\n",
              "      <td>3.38</td>\n",
              "      <td>30248</td>\n",
              "      <td>11</td>\n",
              "      <td>7</td>\n",
              "      <td>32</td>\n",
              "    </tr>\n",
              "    <tr>\n",
              "      <th>27</th>\n",
              "      <td>Los Angeles,Long Beech, CA</td>\n",
              "      <td>861.26</td>\n",
              "      <td>53</td>\n",
              "      <td>68</td>\n",
              "      <td>47</td>\n",
              "      <td>11</td>\n",
              "      <td>12.1</td>\n",
              "      <td>4700</td>\n",
              "      <td>7.8</td>\n",
              "      <td>48.9</td>\n",
              "      <td>7477503</td>\n",
              "      <td>2.66</td>\n",
              "      <td>36624</td>\n",
              "      <td>648</td>\n",
              "      <td>319</td>\n",
              "      <td>130</td>\n",
              "    </tr>\n",
              "    <tr>\n",
              "      <th>28</th>\n",
              "      <td>Louisville, KY-IN</td>\n",
              "      <td>989.26</td>\n",
              "      <td>35</td>\n",
              "      <td>71</td>\n",
              "      <td>57</td>\n",
              "      <td>30</td>\n",
              "      <td>9.9</td>\n",
              "      <td>4474</td>\n",
              "      <td>13.1</td>\n",
              "      <td>42.6</td>\n",
              "      <td>956756</td>\n",
              "      <td>3.37</td>\n",
              "      <td>29621</td>\n",
              "      <td>38</td>\n",
              "      <td>37</td>\n",
              "      <td>193</td>\n",
              "    </tr>\n",
              "    <tr>\n",
              "      <th>29</th>\n",
              "      <td>Memphis, TN-AR-MS</td>\n",
              "      <td>1006.49</td>\n",
              "      <td>42</td>\n",
              "      <td>82</td>\n",
              "      <td>59</td>\n",
              "      <td>50</td>\n",
              "      <td>10.4</td>\n",
              "      <td>3497</td>\n",
              "      <td>36.7</td>\n",
              "      <td>43.3</td>\n",
              "      <td>913472</td>\n",
              "      <td>3.49</td>\n",
              "      <td>27910</td>\n",
              "      <td>15</td>\n",
              "      <td>18</td>\n",
              "      <td>34</td>\n",
              "    </tr>\n",
              "    <tr>\n",
              "      <th>30</th>\n",
              "      <td>Miami-Hialeah, FL</td>\n",
              "      <td>861.44</td>\n",
              "      <td>67</td>\n",
              "      <td>82</td>\n",
              "      <td>60</td>\n",
              "      <td>60</td>\n",
              "      <td>11.5</td>\n",
              "      <td>4657</td>\n",
              "      <td>13.5</td>\n",
              "      <td>47.3</td>\n",
              "      <td>1625781</td>\n",
              "      <td>2.65</td>\n",
              "      <td>32808</td>\n",
              "      <td>3</td>\n",
              "      <td>1</td>\n",
              "      <td>1</td>\n",
              "    </tr>\n",
              "    <tr>\n",
              "      <th>31</th>\n",
              "      <td>Milwaukee, WI</td>\n",
              "      <td>929.15</td>\n",
              "      <td>20</td>\n",
              "      <td>69</td>\n",
              "      <td>64</td>\n",
              "      <td>30</td>\n",
              "      <td>11.1</td>\n",
              "      <td>2934</td>\n",
              "      <td>5.8</td>\n",
              "      <td>44.0</td>\n",
              "      <td>1397143</td>\n",
              "      <td>3.26</td>\n",
              "      <td>35272</td>\n",
              "      <td>33</td>\n",
              "      <td>23</td>\n",
              "      <td>125</td>\n",
              "    </tr>\n",
              "    <tr>\n",
              "      <th>32</th>\n",
              "      <td>Minneapolis-St. Paul,MN-WI</td>\n",
              "      <td>857.62</td>\n",
              "      <td>12</td>\n",
              "      <td>73</td>\n",
              "      <td>58</td>\n",
              "      <td>25</td>\n",
              "      <td>12.1</td>\n",
              "      <td>2095</td>\n",
              "      <td>2.0</td>\n",
              "      <td>51.9</td>\n",
              "      <td>2137133</td>\n",
              "      <td>3.28</td>\n",
              "      <td>35871</td>\n",
              "      <td>20</td>\n",
              "      <td>11</td>\n",
              "      <td>26</td>\n",
              "    </tr>\n",
              "    <tr>\n",
              "      <th>33</th>\n",
              "      <td>Nashville, TN</td>\n",
              "      <td>961.01</td>\n",
              "      <td>40</td>\n",
              "      <td>80</td>\n",
              "      <td>56</td>\n",
              "      <td>45</td>\n",
              "      <td>10.1</td>\n",
              "      <td>2682</td>\n",
              "      <td>21.0</td>\n",
              "      <td>46.1</td>\n",
              "      <td>850505</td>\n",
              "      <td>3.32</td>\n",
              "      <td>28641</td>\n",
              "      <td>17</td>\n",
              "      <td>14</td>\n",
              "      <td>78</td>\n",
              "    </tr>\n",
              "    <tr>\n",
              "      <th>34</th>\n",
              "      <td>New Haven-Meriden,CT</td>\n",
              "      <td>923.23</td>\n",
              "      <td>30</td>\n",
              "      <td>72</td>\n",
              "      <td>58</td>\n",
              "      <td>46</td>\n",
              "      <td>11.3</td>\n",
              "      <td>3327</td>\n",
              "      <td>8.8</td>\n",
              "      <td>45.3</td>\n",
              "      <td>500474</td>\n",
              "      <td>3.16</td>\n",
              "      <td>34364</td>\n",
              "      <td>4</td>\n",
              "      <td>3</td>\n",
              "      <td>8</td>\n",
              "    </tr>\n",
              "    <tr>\n",
              "      <th>35</th>\n",
              "      <td>New Orleans,LA</td>\n",
              "      <td>1113.16</td>\n",
              "      <td>54</td>\n",
              "      <td>81</td>\n",
              "      <td>62</td>\n",
              "      <td>54</td>\n",
              "      <td>9.7</td>\n",
              "      <td>3172</td>\n",
              "      <td>31.4</td>\n",
              "      <td>45.5</td>\n",
              "      <td>1256256</td>\n",
              "      <td>3.36</td>\n",
              "      <td>32704</td>\n",
              "      <td>20</td>\n",
              "      <td>17</td>\n",
              "      <td>1</td>\n",
              "    </tr>\n",
              "    <tr>\n",
              "      <th>36</th>\n",
              "      <td>New York,NY</td>\n",
              "      <td>994.65</td>\n",
              "      <td>33</td>\n",
              "      <td>77</td>\n",
              "      <td>58</td>\n",
              "      <td>42</td>\n",
              "      <td>10.7</td>\n",
              "      <td>7462</td>\n",
              "      <td>11.3</td>\n",
              "      <td>48.7</td>\n",
              "      <td>8274961</td>\n",
              "      <td>3.03</td>\n",
              "      <td>36047</td>\n",
              "      <td>41</td>\n",
              "      <td>26</td>\n",
              "      <td>108</td>\n",
              "    </tr>\n",
              "    <tr>\n",
              "      <th>37</th>\n",
              "      <td>Philadelphia, PA-NJ</td>\n",
              "      <td>1015.02</td>\n",
              "      <td>32</td>\n",
              "      <td>76</td>\n",
              "      <td>54</td>\n",
              "      <td>42</td>\n",
              "      <td>10.5</td>\n",
              "      <td>6092</td>\n",
              "      <td>17.5</td>\n",
              "      <td>45.3</td>\n",
              "      <td>4716818</td>\n",
              "      <td>3.32</td>\n",
              "      <td>33449</td>\n",
              "      <td>29</td>\n",
              "      <td>32</td>\n",
              "      <td>161</td>\n",
              "    </tr>\n",
              "    <tr>\n",
              "      <th>38</th>\n",
              "      <td>Pittsburgh, PA</td>\n",
              "      <td>991.29</td>\n",
              "      <td>29</td>\n",
              "      <td>72</td>\n",
              "      <td>56</td>\n",
              "      <td>36</td>\n",
              "      <td>10.6</td>\n",
              "      <td>3437</td>\n",
              "      <td>8.1</td>\n",
              "      <td>45.5</td>\n",
              "      <td>2218870</td>\n",
              "      <td>3.32</td>\n",
              "      <td>32934</td>\n",
              "      <td>45</td>\n",
              "      <td>59</td>\n",
              "      <td>263</td>\n",
              "    </tr>\n",
              "    <tr>\n",
              "      <th>39</th>\n",
              "      <td>Portland, OR</td>\n",
              "      <td>893.99</td>\n",
              "      <td>38</td>\n",
              "      <td>67</td>\n",
              "      <td>73</td>\n",
              "      <td>37</td>\n",
              "      <td>12.0</td>\n",
              "      <td>3387</td>\n",
              "      <td>3.6</td>\n",
              "      <td>50.3</td>\n",
              "      <td>1105699</td>\n",
              "      <td>2.66</td>\n",
              "      <td>33020</td>\n",
              "      <td>56</td>\n",
              "      <td>21</td>\n",
              "      <td>44</td>\n",
              "    </tr>\n",
              "    <tr>\n",
              "      <th>40</th>\n",
              "      <td>Providence, RI</td>\n",
              "      <td>938.50</td>\n",
              "      <td>29</td>\n",
              "      <td>72</td>\n",
              "      <td>56</td>\n",
              "      <td>42</td>\n",
              "      <td>10.1</td>\n",
              "      <td>3508</td>\n",
              "      <td>2.2</td>\n",
              "      <td>38.8</td>\n",
              "      <td>618514</td>\n",
              "      <td>3.16</td>\n",
              "      <td>30094</td>\n",
              "      <td>6</td>\n",
              "      <td>4</td>\n",
              "      <td>18</td>\n",
              "    </tr>\n",
              "    <tr>\n",
              "      <th>41</th>\n",
              "      <td>Reading, PA</td>\n",
              "      <td>946.19</td>\n",
              "      <td>33</td>\n",
              "      <td>77</td>\n",
              "      <td>54</td>\n",
              "      <td>41</td>\n",
              "      <td>9.6</td>\n",
              "      <td>4843</td>\n",
              "      <td>2.7</td>\n",
              "      <td>38.6</td>\n",
              "      <td>312509</td>\n",
              "      <td>3.08</td>\n",
              "      <td>32449</td>\n",
              "      <td>11</td>\n",
              "      <td>11</td>\n",
              "      <td>89</td>\n",
              "    </tr>\n",
              "    <tr>\n",
              "      <th>42</th>\n",
              "      <td>Richmond-Petersburg, VA</td>\n",
              "      <td>1025.50</td>\n",
              "      <td>39</td>\n",
              "      <td>78</td>\n",
              "      <td>53</td>\n",
              "      <td>44</td>\n",
              "      <td>11.0</td>\n",
              "      <td>3768</td>\n",
              "      <td>28.6</td>\n",
              "      <td>49.5</td>\n",
              "      <td>761311</td>\n",
              "      <td>3.32</td>\n",
              "      <td>33510</td>\n",
              "      <td>12</td>\n",
              "      <td>9</td>\n",
              "      <td>48</td>\n",
              "    </tr>\n",
              "    <tr>\n",
              "      <th>43</th>\n",
              "      <td>Rochester, NY</td>\n",
              "      <td>874.28</td>\n",
              "      <td>25</td>\n",
              "      <td>72</td>\n",
              "      <td>60</td>\n",
              "      <td>32</td>\n",
              "      <td>11.1</td>\n",
              "      <td>4355</td>\n",
              "      <td>5.0</td>\n",
              "      <td>46.4</td>\n",
              "      <td>971230</td>\n",
              "      <td>3.21</td>\n",
              "      <td>34896</td>\n",
              "      <td>7</td>\n",
              "      <td>4</td>\n",
              "      <td>18</td>\n",
              "    </tr>\n",
              "    <tr>\n",
              "      <th>44</th>\n",
              "      <td>St. Louis,MO-IL</td>\n",
              "      <td>953.56</td>\n",
              "      <td>32</td>\n",
              "      <td>79</td>\n",
              "      <td>57</td>\n",
              "      <td>34</td>\n",
              "      <td>9.7</td>\n",
              "      <td>5160</td>\n",
              "      <td>17.2</td>\n",
              "      <td>45.1</td>\n",
              "      <td>1808621</td>\n",
              "      <td>3.23</td>\n",
              "      <td>34546</td>\n",
              "      <td>31</td>\n",
              "      <td>15</td>\n",
              "      <td>68</td>\n",
              "    </tr>\n",
              "    <tr>\n",
              "      <th>45</th>\n",
              "      <td>San Diego,CA</td>\n",
              "      <td>839.71</td>\n",
              "      <td>55</td>\n",
              "      <td>70</td>\n",
              "      <td>61</td>\n",
              "      <td>10</td>\n",
              "      <td>12.1</td>\n",
              "      <td>3033</td>\n",
              "      <td>5.9</td>\n",
              "      <td>51.0</td>\n",
              "      <td>1861846</td>\n",
              "      <td>3.11</td>\n",
              "      <td>32586</td>\n",
              "      <td>144</td>\n",
              "      <td>66</td>\n",
              "      <td>20</td>\n",
              "    </tr>\n",
              "    <tr>\n",
              "      <th>46</th>\n",
              "      <td>San Francisco,CA</td>\n",
              "      <td>911.70</td>\n",
              "      <td>48</td>\n",
              "      <td>63</td>\n",
              "      <td>71</td>\n",
              "      <td>18</td>\n",
              "      <td>12.2</td>\n",
              "      <td>4253</td>\n",
              "      <td>13.7</td>\n",
              "      <td>51.2</td>\n",
              "      <td>1488871</td>\n",
              "      <td>2.92</td>\n",
              "      <td>47966</td>\n",
              "      <td>311</td>\n",
              "      <td>171</td>\n",
              "      <td>86</td>\n",
              "    </tr>\n",
              "    <tr>\n",
              "      <th>47</th>\n",
              "      <td>San Jose,CA</td>\n",
              "      <td>790.73</td>\n",
              "      <td>49</td>\n",
              "      <td>68</td>\n",
              "      <td>71</td>\n",
              "      <td>13</td>\n",
              "      <td>12.2</td>\n",
              "      <td>2702</td>\n",
              "      <td>3.0</td>\n",
              "      <td>51.9</td>\n",
              "      <td>1295071</td>\n",
              "      <td>3.36</td>\n",
              "      <td>41994</td>\n",
              "      <td>105</td>\n",
              "      <td>32</td>\n",
              "      <td>3</td>\n",
              "    </tr>\n",
              "    <tr>\n",
              "      <th>48</th>\n",
              "      <td>Seattle, WA</td>\n",
              "      <td>899.26</td>\n",
              "      <td>40</td>\n",
              "      <td>64</td>\n",
              "      <td>72</td>\n",
              "      <td>35</td>\n",
              "      <td>12.2</td>\n",
              "      <td>3626</td>\n",
              "      <td>5.7</td>\n",
              "      <td>54.3</td>\n",
              "      <td>1607469</td>\n",
              "      <td>3.02</td>\n",
              "      <td>37069</td>\n",
              "      <td>20</td>\n",
              "      <td>7</td>\n",
              "      <td>20</td>\n",
              "    </tr>\n",
              "    <tr>\n",
              "      <th>49</th>\n",
              "      <td>Springfield, MA</td>\n",
              "      <td>904.16</td>\n",
              "      <td>28</td>\n",
              "      <td>74</td>\n",
              "      <td>56</td>\n",
              "      <td>45</td>\n",
              "      <td>11.1</td>\n",
              "      <td>1883</td>\n",
              "      <td>3.4</td>\n",
              "      <td>41.9</td>\n",
              "      <td>515259</td>\n",
              "      <td>3.21</td>\n",
              "      <td>29327</td>\n",
              "      <td>5</td>\n",
              "      <td>1</td>\n",
              "      <td>20</td>\n",
              "    </tr>\n",
              "    <tr>\n",
              "      <th>50</th>\n",
              "      <td>Syracuse, NY</td>\n",
              "      <td>950.67</td>\n",
              "      <td>24</td>\n",
              "      <td>72</td>\n",
              "      <td>61</td>\n",
              "      <td>38</td>\n",
              "      <td>11.4</td>\n",
              "      <td>4923</td>\n",
              "      <td>3.8</td>\n",
              "      <td>50.5</td>\n",
              "      <td>642971</td>\n",
              "      <td>3.34</td>\n",
              "      <td>30114</td>\n",
              "      <td>8</td>\n",
              "      <td>5</td>\n",
              "      <td>25</td>\n",
              "    </tr>\n",
              "    <tr>\n",
              "      <th>51</th>\n",
              "      <td>Toledo, OH</td>\n",
              "      <td>972.46</td>\n",
              "      <td>26</td>\n",
              "      <td>73</td>\n",
              "      <td>59</td>\n",
              "      <td>31</td>\n",
              "      <td>10.7</td>\n",
              "      <td>3249</td>\n",
              "      <td>9.5</td>\n",
              "      <td>43.9</td>\n",
              "      <td>616864</td>\n",
              "      <td>3.22</td>\n",
              "      <td>30497</td>\n",
              "      <td>11</td>\n",
              "      <td>7</td>\n",
              "      <td>25</td>\n",
              "    </tr>\n",
              "    <tr>\n",
              "      <th>52</th>\n",
              "      <td>Utica-Rome, NY</td>\n",
              "      <td>912.20</td>\n",
              "      <td>23</td>\n",
              "      <td>71</td>\n",
              "      <td>60</td>\n",
              "      <td>40</td>\n",
              "      <td>10.3</td>\n",
              "      <td>1671</td>\n",
              "      <td>2.5</td>\n",
              "      <td>47.4</td>\n",
              "      <td>320180</td>\n",
              "      <td>3.28</td>\n",
              "      <td>27305</td>\n",
              "      <td>5</td>\n",
              "      <td>2</td>\n",
              "      <td>11</td>\n",
              "    </tr>\n",
              "    <tr>\n",
              "      <th>53</th>\n",
              "      <td>Washington, DC-MD-VA</td>\n",
              "      <td>967.80</td>\n",
              "      <td>37</td>\n",
              "      <td>78</td>\n",
              "      <td>52</td>\n",
              "      <td>42</td>\n",
              "      <td>12.3</td>\n",
              "      <td>5308</td>\n",
              "      <td>25.9</td>\n",
              "      <td>59.7</td>\n",
              "      <td>3250822</td>\n",
              "      <td>3.25</td>\n",
              "      <td>41888</td>\n",
              "      <td>65</td>\n",
              "      <td>28</td>\n",
              "      <td>102</td>\n",
              "    </tr>\n",
              "    <tr>\n",
              "      <th>54</th>\n",
              "      <td>Wichita, KS</td>\n",
              "      <td>823.76</td>\n",
              "      <td>32</td>\n",
              "      <td>81</td>\n",
              "      <td>54</td>\n",
              "      <td>28</td>\n",
              "      <td>12.1</td>\n",
              "      <td>3665</td>\n",
              "      <td>7.5</td>\n",
              "      <td>51.6</td>\n",
              "      <td>411313</td>\n",
              "      <td>3.27</td>\n",
              "      <td>34812</td>\n",
              "      <td>4</td>\n",
              "      <td>2</td>\n",
              "      <td>1</td>\n",
              "    </tr>\n",
              "    <tr>\n",
              "      <th>55</th>\n",
              "      <td>Wilmington, DE-NJ-MD</td>\n",
              "      <td>1003.50</td>\n",
              "      <td>33</td>\n",
              "      <td>76</td>\n",
              "      <td>56</td>\n",
              "      <td>65</td>\n",
              "      <td>11.3</td>\n",
              "      <td>3152</td>\n",
              "      <td>12.1</td>\n",
              "      <td>47.3</td>\n",
              "      <td>523221</td>\n",
              "      <td>3.39</td>\n",
              "      <td>33927</td>\n",
              "      <td>14</td>\n",
              "      <td>11</td>\n",
              "      <td>42</td>\n",
              "    </tr>\n",
              "    <tr>\n",
              "      <th>56</th>\n",
              "      <td>Worcester, MA</td>\n",
              "      <td>895.70</td>\n",
              "      <td>24</td>\n",
              "      <td>70</td>\n",
              "      <td>56</td>\n",
              "      <td>65</td>\n",
              "      <td>11.1</td>\n",
              "      <td>3678</td>\n",
              "      <td>1.0</td>\n",
              "      <td>44.8</td>\n",
              "      <td>402918</td>\n",
              "      <td>3.25</td>\n",
              "      <td>29374</td>\n",
              "      <td>7</td>\n",
              "      <td>3</td>\n",
              "      <td>8</td>\n",
              "    </tr>\n",
              "    <tr>\n",
              "      <th>57</th>\n",
              "      <td>York, PA</td>\n",
              "      <td>911.82</td>\n",
              "      <td>33</td>\n",
              "      <td>76</td>\n",
              "      <td>54</td>\n",
              "      <td>62</td>\n",
              "      <td>9.0</td>\n",
              "      <td>9699</td>\n",
              "      <td>4.8</td>\n",
              "      <td>62.2</td>\n",
              "      <td>381255</td>\n",
              "      <td>3.22</td>\n",
              "      <td>28985</td>\n",
              "      <td>8</td>\n",
              "      <td>8</td>\n",
              "      <td>49</td>\n",
              "    </tr>\n",
              "    <tr>\n",
              "      <th>58</th>\n",
              "      <td>Youngstown-Warren, OH</td>\n",
              "      <td>954.44</td>\n",
              "      <td>28</td>\n",
              "      <td>72</td>\n",
              "      <td>58</td>\n",
              "      <td>38</td>\n",
              "      <td>10.7</td>\n",
              "      <td>3451</td>\n",
              "      <td>11.7</td>\n",
              "      <td>37.5</td>\n",
              "      <td>531350</td>\n",
              "      <td>3.48</td>\n",
              "      <td>28960</td>\n",
              "      <td>14</td>\n",
              "      <td>13</td>\n",
              "      <td>39</td>\n",
              "    </tr>\n",
              "  </tbody>\n",
              "</table>\n",
              "</div>"
            ],
            "text/plain": [
              "                                      City  Mortality  JanTemp  ...   HC  NOx  SO2\n",
              "0                                Akron, OH     921.87       27  ...   21   15   59\n",
              "1              Albany-Schenectady-Troy, NY     997.87       23  ...    8   10   39\n",
              "2               Allentown, Bethlehem,PA-NJ     962.35       29  ...    6    6   33\n",
              "3                              Atlanta, GA     982.29       45  ...   18    8   24\n",
              "4                            Baltimore, MD    1071.29       35  ...   43   38  206\n",
              "5                           Birmingham, AL    1030.38       45  ...   30   32   72\n",
              "6                               Boston, MA     934.70       30  ...   21   32   62\n",
              "7                   Bridgeport-Milford, CT     899.53       30  ...    6    4    4\n",
              "8                              Buffalo, NY    1001.90       24  ...   18   12   37\n",
              "9                               Canton, OH     912.35       27  ...   12    7   20\n",
              "10                      Chattanooga, TN-GA    1017.61       42  ...   18    8   27\n",
              "11                             Chicago, IL    1024.89       26  ...   88   63  278\n",
              "12                    Cincinnati, OH-KY-IN     970.47       34  ...   26   26  146\n",
              "13                           Cleveland, OH     985.95       28  ...   31   21   64\n",
              "14                            Columbus, OH     958.84       31  ...   23    9   15\n",
              "15                              Dallas, TX     860.10       46  ...    1    1    1\n",
              "16                  Dayton-Springfield, OH     936.23       30  ...    6    4   16\n",
              "17                              Denver, CO     871.77       30  ...   17    8   28\n",
              "18                             Detroit, MI     959.22       27  ...   52   35  124\n",
              "19                               Flint, MI     941.18       24  ...   11    4   11\n",
              "20                         Grand Rapids,MI     871.34       24  ...    5    3   10\n",
              "21  Greensboro-Winston-Salem-High Point,NC     971.12       40  ...    8    3    5\n",
              "22                            Hartford, CT     887.47       27  ...    7    3   10\n",
              "23                             Houston, TX     952.53       55  ...    6    5    1\n",
              "24                        Indianapolis, IN     968.67       29  ...   13    7   33\n",
              "25                          Kansas City,MO     919.73       31  ...    7    4    4\n",
              "26                           Lancaster, PA     844.05       32  ...   11    7   32\n",
              "27              Los Angeles,Long Beech, CA     861.26       53  ...  648  319  130\n",
              "28                       Louisville, KY-IN     989.26       35  ...   38   37  193\n",
              "29                       Memphis, TN-AR-MS    1006.49       42  ...   15   18   34\n",
              "30                       Miami-Hialeah, FL     861.44       67  ...    3    1    1\n",
              "31                           Milwaukee, WI     929.15       20  ...   33   23  125\n",
              "32              Minneapolis-St. Paul,MN-WI     857.62       12  ...   20   11   26\n",
              "33                           Nashville, TN     961.01       40  ...   17   14   78\n",
              "34                    New Haven-Meriden,CT     923.23       30  ...    4    3    8\n",
              "35                          New Orleans,LA    1113.16       54  ...   20   17    1\n",
              "36                             New York,NY     994.65       33  ...   41   26  108\n",
              "37                     Philadelphia, PA-NJ    1015.02       32  ...   29   32  161\n",
              "38                          Pittsburgh, PA     991.29       29  ...   45   59  263\n",
              "39                            Portland, OR     893.99       38  ...   56   21   44\n",
              "40                          Providence, RI     938.50       29  ...    6    4   18\n",
              "41                             Reading, PA     946.19       33  ...   11   11   89\n",
              "42                 Richmond-Petersburg, VA    1025.50       39  ...   12    9   48\n",
              "43                           Rochester, NY     874.28       25  ...    7    4   18\n",
              "44                         St. Louis,MO-IL     953.56       32  ...   31   15   68\n",
              "45                            San Diego,CA     839.71       55  ...  144   66   20\n",
              "46                        San Francisco,CA     911.70       48  ...  311  171   86\n",
              "47                             San Jose,CA     790.73       49  ...  105   32    3\n",
              "48                             Seattle, WA     899.26       40  ...   20    7   20\n",
              "49                         Springfield, MA     904.16       28  ...    5    1   20\n",
              "50                            Syracuse, NY     950.67       24  ...    8    5   25\n",
              "51                              Toledo, OH     972.46       26  ...   11    7   25\n",
              "52                          Utica-Rome, NY     912.20       23  ...    5    2   11\n",
              "53                    Washington, DC-MD-VA     967.80       37  ...   65   28  102\n",
              "54                             Wichita, KS     823.76       32  ...    4    2    1\n",
              "55                    Wilmington, DE-NJ-MD    1003.50       33  ...   14   11   42\n",
              "56                           Worcester, MA     895.70       24  ...    7    3    8\n",
              "57                                York, PA     911.82       33  ...    8    8   49\n",
              "58                   Youngstown-Warren, OH     954.44       28  ...   14   13   39\n",
              "\n",
              "[59 rows x 16 columns]"
            ]
          },
          "metadata": {},
          "execution_count": 52
        }
      ]
    },
    {
      "cell_type": "code",
      "metadata": {
        "colab": {
          "base_uri": "https://localhost:8080/"
        },
        "id": "LlAP3VnCL4Sj",
        "outputId": "78c51c2d-2725-426c-f27f-fedcc921ee23"
      },
      "source": [
        "df.info()"
      ],
      "execution_count": 53,
      "outputs": [
        {
          "output_type": "stream",
          "name": "stdout",
          "text": [
            "<class 'pandas.core.frame.DataFrame'>\n",
            "RangeIndex: 59 entries, 0 to 58\n",
            "Data columns (total 16 columns):\n",
            " #   Column       Non-Null Count  Dtype  \n",
            "---  ------       --------------  -----  \n",
            " 0   City         59 non-null     object \n",
            " 1   Mortality    59 non-null     float64\n",
            " 2   JanTemp      59 non-null     int64  \n",
            " 3   JulyTemp     59 non-null     int64  \n",
            " 4   RelHum       59 non-null     int64  \n",
            " 5   Rain         59 non-null     int64  \n",
            " 6   Educ         59 non-null     float64\n",
            " 7   Dens         59 non-null     int64  \n",
            " 8   NonWhite     59 non-null     float64\n",
            " 9   WhiteCollar  59 non-null     float64\n",
            " 10  Pop          59 non-null     int64  \n",
            " 11  House        59 non-null     float64\n",
            " 12  Income       59 non-null     int64  \n",
            " 13  HC           59 non-null     int64  \n",
            " 14  NOx          59 non-null     int64  \n",
            " 15  SO2          59 non-null     int64  \n",
            "dtypes: float64(5), int64(10), object(1)\n",
            "memory usage: 7.5+ KB\n"
          ]
        }
      ]
    },
    {
      "cell_type": "code",
      "metadata": {
        "colab": {
          "base_uri": "https://localhost:8080/"
        },
        "id": "f3AkfYl6MHmp",
        "outputId": "dae5ab47-474b-4fb7-e927-93806110b0f7"
      },
      "source": [
        "y = featureNormalize(np.array(df[\"Mortality\"])[np.newaxis].T)\n",
        "y"
      ],
      "execution_count": 54,
      "outputs": [
        {
          "output_type": "execute_result",
          "data": {
            "text/plain": [
              "array([[-3.11892494e-01],\n",
              "       [ 9.16091089e-01],\n",
              "       [ 3.42170341e-01],\n",
              "       [ 6.64354454e-01],\n",
              "       [ 2.10238786e+00],\n",
              "       [ 1.44137722e+00],\n",
              "       [-1.04589476e-01],\n",
              "       [-6.72855036e-01],\n",
              "       [ 9.81206534e-01],\n",
              "       [-4.65713595e-01],\n",
              "       [ 1.23504367e+00],\n",
              "       [ 1.35267157e+00],\n",
              "       [ 4.73370692e-01],\n",
              "       [ 7.23491558e-01],\n",
              "       [ 2.85456888e-01],\n",
              "       [-1.30995231e+00],\n",
              "       [-7.98682275e-02],\n",
              "       [-1.12139220e+00],\n",
              "       [ 2.91596806e-01],\n",
              "       [ 1.12282174e-04],\n",
              "       [-1.12834000e+00],\n",
              "       [ 4.83873183e-01],\n",
              "       [-8.67716642e-01],\n",
              "       [ 1.83501936e-01],\n",
              "       [ 4.44286870e-01],\n",
              "       [-3.46469926e-01],\n",
              "       [-1.56928305e+00],\n",
              "       [-1.29120940e+00],\n",
              "       [ 7.76973475e-01],\n",
              "       [ 1.05537028e+00],\n",
              "       [-1.28830102e+00],\n",
              "       [-1.94264593e-01],\n",
              "       [-1.35002335e+00],\n",
              "       [ 3.20519051e-01],\n",
              "       [-2.89918051e-01],\n",
              "       [ 2.77890987e+00],\n",
              "       [ 8.64063363e-01],\n",
              "       [ 1.19319528e+00],\n",
              "       [ 8.09773563e-01],\n",
              "       [-7.62368577e-01],\n",
              "       [-4.31902968e-02],\n",
              "       [ 8.10622526e-02],\n",
              "       [ 1.36252775e+00],\n",
              "       [-1.08083642e+00],\n",
              "       [ 2.00144345e-01],\n",
              "       [-1.63940738e+00],\n",
              "       [-4.76216086e-01],\n",
              "       [-2.43081048e+00],\n",
              "       [-6.77217610e-01],\n",
              "       [-5.98044984e-01],\n",
              "       [ 1.53448653e-01],\n",
              "       [ 5.05524472e-01],\n",
              "       [-4.68137247e-01],\n",
              "       [ 4.30229690e-01],\n",
              "       [-1.89712235e+00],\n",
              "       [ 1.00705882e+00],\n",
              "       [-7.34738946e-01],\n",
              "       [-4.74277165e-01],\n",
              "       [ 2.14363102e-01]])"
            ]
          },
          "metadata": {},
          "execution_count": 54
        }
      ]
    },
    {
      "cell_type": "code",
      "metadata": {
        "colab": {
          "base_uri": "https://localhost:8080/"
        },
        "id": "NhmJia-iMVTI",
        "outputId": "7099dc3c-a2c3-4425-dc50-43bc589fa450"
      },
      "source": [
        "\n",
        "Xmat = np.array((np.ones_like(np.array(df[df.columns[2]]))))[np.newaxis].T\n",
        "\n",
        "for i in df.columns[2:]:\n",
        "  Xmat = np.append(Xmat, featureNormalize(np.array(df[i])[np.newaxis].T), axis=1)\n",
        "Xmat.shape"
      ],
      "execution_count": 55,
      "outputs": [
        {
          "output_type": "execute_result",
          "data": {
            "text/plain": [
              "(59, 15)"
            ]
          },
          "metadata": {},
          "execution_count": 55
        }
      ]
    },
    {
      "cell_type": "code",
      "metadata": {
        "colab": {
          "base_uri": "https://localhost:8080/"
        },
        "id": "YJSknH8IPxTI",
        "outputId": "d09369fc-6348-4141-c4b8-18b96bede912"
      },
      "source": [
        "Xmat"
      ],
      "execution_count": 56,
      "outputs": [
        {
          "output_type": "execute_result",
          "data": {
            "text/plain": [
              "array([[ 1.00000000e+00, -6.75237292e-01, -7.46670361e-01,\n",
              "         2.35101963e-01, -2.18605083e-01,  5.14438040e-01,\n",
              "        -4.66966802e-01, -3.44834185e-01, -7.53287401e-01,\n",
              "        -5.08767233e-01,  5.14924937e-01, -8.31260402e-01,\n",
              "        -1.90250515e-01, -1.72170990e-01,  6.88609529e-02],\n",
              "       [ 1.00000000e+00, -1.07263380e+00, -5.27498464e-01,\n",
              "        -1.39790356e-01, -3.05751703e-01,  4.01904719e-02,\n",
              "         2.59202028e-01, -9.38936937e-01,  8.58154179e-01,\n",
              "        -3.93923378e-01, -5.87818123e-01, -4.03303441e-01,\n",
              "        -3.31785089e-01, -2.80235761e-01, -2.48545002e-01],\n",
              "       [ 1.00000000e+00, -4.76539036e-01, -8.91546700e-02,\n",
              "        -7.02128834e-01,  4.78567883e-01, -1.38255223e+00,\n",
              "         2.44510752e-01, -1.24159306e+00, -1.38990630e+00,\n",
              "        -5.25021820e-01, -2.01858052e-01, -3.13563257e-01,\n",
              "        -3.53559639e-01, -3.66687578e-01, -3.43766789e-01],\n",
              "       [ 1.00000000e+00,  1.11304701e+00,  1.00670482e+00,\n",
              "        -3.27236516e-01,  7.40007746e-01,  1.58752364e-01,\n",
              "        -5.49517786e-01,  1.70650173e+00,  7.58682477e-01,\n",
              "         4.58057853e-01,  9.00885008e-01, -1.79178458e-01,\n",
              "        -2.22912340e-01, -3.23461669e-01, -4.86599468e-01],\n",
              "       [ 1.00000000e+00,  1.19555730e-01,  5.68361021e-01,\n",
              "        -5.14682675e-01,  3.91421263e-01, -1.61967602e+00,\n",
              "         1.77030480e+00,  1.40384561e+00, -5.34449656e-01,\n",
              "         4.98159522e-01,  1.06629647e+00, -1.98118597e-01,\n",
              "         4.92695321e-02,  3.24926954e-01,  2.40179472e+00],\n",
              "       [ 1.00000000e+00,  1.11304701e+00,  1.22587671e+00,\n",
              "        -7.02128834e-01,  1.26288747e+00, -9.08304665e-01,\n",
              "        -4.09600863e-01,  2.98438313e+00, -6.53815699e-01,\n",
              "        -3.62479221e-01,  1.12143362e+00, -1.22020969e+00,\n",
              "        -9.22650414e-02,  1.95249230e-01,  2.75174824e-01],\n",
              "       [ 1.00000000e+00, -3.77189909e-01, -8.91546700e-02,\n",
              "        -3.27236516e-01,  3.91421263e-01,  1.34437128e+00,\n",
              "         5.37636705e-01, -9.38936937e-01,  5.59739072e-01,\n",
              "         8.94845500e-01, -9.15837456e-02,  7.66024691e-01,\n",
              "        -1.90250515e-01,  1.95249230e-01,  1.16471846e-01],\n",
              "       [ 1.00000000e+00, -3.77189909e-01, -3.08326567e-01,\n",
              "        -3.27236516e-01,  5.65714504e-01, -4.34057096e-01,\n",
              "        -1.23860863e+00, -7.37166191e-01, -1.19096289e+00,\n",
              "        -6.53846961e-01,  2.39239172e-01,  3.15924660e+00,\n",
              "        -3.53559639e-01, -4.09913486e-01, -8.04005423e-01],\n",
              "       [ 1.00000000e+00, -9.73284675e-01, -9.65842258e-01,\n",
              "         6.09994281e-01, -2.18605083e-01, -5.52618989e-01,\n",
              "         1.86894623e+00, -4.23300586e-01, -7.73181742e-01,\n",
              "        -2.76436608e-01,  3.49513478e-01, -4.50653790e-01,\n",
              "        -2.22912340e-01, -2.37009853e-01, -2.80285598e-01],\n",
              "       [ 1.00000000e+00, -6.75237292e-01, -5.27498464e-01,\n",
              "         2.35101963e-01, -2.18605083e-01, -3.15495204e-01,\n",
              "         2.11630275e-01, -5.80233388e-01, -1.07159685e+00,\n",
              "        -6.76178293e-01,  6.25199243e-01, -9.37460469e-01,\n",
              "        -2.88235989e-01, -3.45074623e-01, -5.50080659e-01],\n",
              "       [ 1.00000000e+00,  8.14999624e-01,  1.00670482e+00,\n",
              "        -3.27236516e-01,  1.17574085e+00, -1.61967602e+00,\n",
              "        -1.12527592e+00,  1.15723693e+00, -1.01191383e+00,\n",
              "        -6.61708328e-01,  7.90610702e-01, -1.68311572e+00,\n",
              "        -2.22912340e-01, -3.23461669e-01, -4.38988575e-01],\n",
              "       [ 1.00000000e+00, -7.74586420e-01,  3.49189124e-01,\n",
              "         4.76558032e-02, -4.80044945e-01, -7.83714202e-02,\n",
              "         1.54713730e+00,  4.95877257e-01, -2.95717570e-01,\n",
              "        -5.44054740e-01, -2.56995205e-01,  7.54525321e-01,\n",
              "         5.39196902e-01,  8.65250807e-01,  3.54445616e+00],\n",
              "       [ 1.00000000e+00,  2.02066023e-02,  5.68361021e-01,\n",
              "        -1.39790356e-01,  1.29981400e-01, -9.08304665e-01,\n",
              "         1.33276798e-01,  1.25964223e-01, -1.36562846e-01,\n",
              "        -2.39079552e-02, -2.01858052e-01, -4.10293255e-01,\n",
              "        -1.35814141e-01,  6.55715049e-02,  1.44957686e+00],\n",
              "       [ 1.00000000e+00, -5.75888164e-01, -7.46670361e-01,\n",
              "         4.22548122e-01, -3.05751703e-01,  1.58752364e-01,\n",
              "        -6.07583309e-01,  3.16525483e-01, -3.55400591e-01,\n",
              "         3.01441535e-01,  2.39239172e-01,  5.57683157e-01,\n",
              "        -8.13777665e-02, -4.24932657e-02,  1.48212442e-01],\n",
              "       [ 1.00000000e+00, -2.77840781e-01,  1.30017227e-01,\n",
              "         4.76558032e-02, -1.31458462e-01,  1.10724750e+00,\n",
              "         2.43811167e-01,  1.37173709e-01,  6.39316434e-01,\n",
              "        -8.59081157e-01,  7.38277133e-02, -7.85939354e-01,\n",
              "        -1.68475966e-01, -3.01848715e-01, -6.29432148e-01],\n",
              "       [ 1.00000000e+00,  1.21239614e+00,  2.32173620e+00,\n",
              "        -7.02128834e-01, -3.05751703e-01,  9.88685609e-01,\n",
              "        -1.72761828e+00,  3.27734969e-01,  9.57625882e-01,\n",
              "         3.39746152e-01, -1.46720899e-01,  1.24516512e+00,\n",
              "        -4.07996013e-01, -4.74752348e-01, -8.51616316e-01],\n",
              "       [ 1.00000000e+00, -3.77189909e-01,  1.30017227e-01,\n",
              "         4.76558032e-02, -2.18605083e-01,  5.14438040e-01,\n",
              "         8.29067055e-02,  5.87073075e-02, -4.74766634e-01,\n",
              "        -3.24446745e-01,  5.70062090e-01, -6.79739286e-01,\n",
              "        -3.53559639e-01, -4.09913486e-01, -6.13561850e-01],\n",
              "       [ 1.00000000e+00, -3.77189909e-01, -3.08326567e-01,\n",
              "        -3.70126738e+00, -2.04868412e+00,  1.46293318e+00,\n",
              "         6.39076474e-01, -8.04423106e-01,  1.33561835e+00,\n",
              "        -6.01920882e-03, -5.32680970e-01,  1.31957281e+00,\n",
              "        -2.33799615e-01, -3.23461669e-01, -4.23118277e-01],\n",
              "       [ 1.00000000e+00, -6.75237292e-01, -8.91546700e-02,\n",
              "         2.35101963e-01, -6.54338186e-01, -1.96933312e-01,\n",
              "         6.46072320e-01,  4.39829828e-01, -5.74238337e-01,\n",
              "         1.99529354e+00,  1.06629647e+00,  1.37843400e-01,\n",
              "         1.47255006e-01,  2.60088092e-01,  1.10043031e+00],\n",
              "       [ 1.00000000e+00, -9.73284675e-01, -5.27498464e-01,\n",
              "         6.09994281e-01, -7.41484807e-01, -1.96933312e-01,\n",
              "        -1.51454140e-01,  1.37173709e-01, -2.50398937e+00,\n",
              "        -6.46067368e-01,  1.56253084e+00, -2.81094446e-01,\n",
              "        -2.99123264e-01, -4.09913486e-01, -6.92913339e-01],\n",
              "       [ 1.00000000e+00, -9.73284675e-01, -5.27498464e-01,\n",
              "         6.09994281e-01, -6.54338186e-01, -7.83714202e-02,\n",
              "        -4.78859740e-01, -7.59585163e-01, -2.36034548e-01,\n",
              "        -5.47133998e-01,  6.80336396e-01, -7.51215765e-01,\n",
              "        -3.64446914e-01, -4.31526440e-01, -7.08783637e-01],\n",
              "       [ 1.00000000e+00,  6.16301369e-01,  5.68361021e-01,\n",
              "        -8.89574994e-01,  3.04274642e-01, -6.71180881e-01,\n",
              "        -1.14836222e+00,  1.21328435e+00, -9.92019487e-01,\n",
              "        -3.83475356e-01,  1.12143362e+00, -8.56062965e-01,\n",
              "        -3.31785089e-01, -4.31526440e-01, -7.88135125e-01],\n",
              "       [ 1.00000000e+00, -6.75237292e-01, -5.27498464e-01,\n",
              "        -3.27236516e-01,  3.91421263e-01,  6.32999932e-01,\n",
              "        -7.00628063e-01, -5.24185959e-01,  1.03720324e+00,\n",
              "        -4.72397701e-01,  1.86905603e-02,  9.73689792e-01,\n",
              "        -3.42672364e-01, -4.31526440e-01, -7.08783637e-01],\n",
              "       [ 1.00000000e+00,  2.10653828e+00,  2.10256430e+00,\n",
              "         2.35101963e-01,  6.52861125e-01,  5.14438040e-01,\n",
              "        -8.83919232e-01,  1.02272309e+00,  1.02169240e-01,\n",
              "         8.48957545e-01,  5.70062090e-01,  1.42306715e+00,\n",
              "        -3.53559639e-01, -3.88300532e-01, -8.51616316e-01],\n",
              "       [ 1.00000000e+00, -4.76539036e-01,  1.30017227e-01,\n",
              "         4.22548122e-01,  4.28347797e-02,  5.14438040e-01,\n",
              "         3.50847613e-01,  4.17410856e-01,  4.24862187e-02,\n",
              "        -1.77586973e-01, -9.15837456e-02, -4.02627008e-01,\n",
              "        -2.77348715e-01, -3.45074623e-01, -3.43766789e-01],\n",
              "       [ 1.00000000e+00, -2.77840781e-01,  1.44504861e+00,\n",
              "        -5.14682675e-01, -3.05751703e-01,  1.22580939e+00,\n",
              "        -4.53674694e-01,  8.11262793e-02,  4.40373029e-01,\n",
              "        -3.42538944e-01, -8.08366734e-01, -5.55500990e-01,\n",
              "        -3.42672364e-01, -4.09913486e-01, -8.04005423e-01],\n",
              "       [ 1.00000000e+00, -1.78491653e-01, -8.91546700e-02,\n",
              "        -7.02128834e-01,  3.91421263e-01, -1.73823791e+00,\n",
              "        -4.87254756e-01, -1.00619385e+00, -5.34449656e-01,\n",
              "        -7.03703215e-01,  7.35473549e-01, -6.76131641e-01,\n",
              "        -2.99123264e-01, -3.45074623e-01, -3.59637086e-01],\n",
              "       [ 1.00000000e+00,  1.90784003e+00, -1.40418605e+00,\n",
              "        -2.01425195e+00, -2.39727060e+00,  1.34437128e+00,\n",
              "         5.52327982e-01, -4.56929044e-01,  5.00056050e-01,\n",
              "         3.95094075e+00, -3.23440147e+00,  7.61515134e-01,\n",
              "         6.63607084e+00,  6.39816706e+00,  1.19565209e+00],\n",
              "       [ 1.00000000e+00,  1.19555730e-01, -7.46670361e-01,\n",
              "        -1.39790356e-01, -7.41484807e-01, -1.26399034e+00,\n",
              "         3.94221859e-01,  1.37173709e-01, -7.53287401e-01,\n",
              "        -3.14847858e-01,  6.80336396e-01, -8.17506253e-01,\n",
              "        -5.16684232e-03,  3.03314000e-01,  2.19548085e+00],\n",
              "       [ 1.00000000e+00,  8.14999624e-01,  1.66422051e+00,\n",
              "         2.35101963e-01,  1.00144761e+00, -6.71180881e-01,\n",
              "        -2.89272310e-01,  2.78261238e+00, -6.14027018e-01,\n",
              "        -3.43163692e-01,  1.34198223e+00, -1.20329885e+00,\n",
              "        -2.55574165e-01, -1.07332128e-01, -3.27896491e-01],\n",
              "       [ 1.00000000e+00,  3.29872782e+00,  1.66422051e+00,\n",
              "         4.22548122e-01,  1.87291382e+00,  6.32999932e-01,\n",
              "         5.22245844e-01,  1.82011652e-01,  1.81746602e-01,\n",
              "         1.22819671e-01, -3.28953862e+00, -9.89083432e-02,\n",
              "        -3.86221463e-01, -4.74752348e-01, -8.51616316e-01],\n",
              "       [ 1.00000000e+00, -1.37068119e+00, -1.18501416e+00,\n",
              "         1.17233276e+00, -7.41484807e-01,  1.58752364e-01,\n",
              "        -6.83138448e-01, -6.81118761e-01, -4.74766634e-01,\n",
              "        -2.67523608e-02,  7.38277133e-02,  4.56669080e-01,\n",
              "        -5.96032168e-02,  7.32642513e-04,  1.11630060e+00],\n",
              "       [ 1.00000000e+00, -2.16547421e+00, -3.08326567e-01,\n",
              "         4.76558032e-02, -1.17721791e+00,  1.34437128e+00,\n",
              "        -1.27008994e+00, -1.10707923e+00,  1.09688627e+00,\n",
              "         4.57339555e-01,  1.84102019e-01,  5.91730313e-01,\n",
              "        -2.01137790e-01, -2.58622807e-01, -4.54858873e-01],\n",
              "       [ 1.00000000e+00,  6.16301369e-01,  1.22587671e+00,\n",
              "        -3.27236516e-01,  5.65714504e-01, -1.02686656e+00,\n",
              "        -8.59433771e-01,  1.02272309e+00, -5.69854838e-02,\n",
              "        -3.84355892e-01,  4.04650631e-01, -1.03847455e+00,\n",
              "        -2.33799615e-01, -1.93783945e-01,  3.70396610e-01],\n",
              "       [ 1.00000000e+00, -3.77189909e-01, -5.27498464e-01,\n",
              "         4.76558032e-02,  6.52861125e-01,  3.95876148e-01,\n",
              "        -4.08201694e-01, -3.44834185e-01, -2.16140208e-01,\n",
              "        -6.13341658e-01, -4.77543817e-01,  2.51935192e-01,\n",
              "        -3.75334189e-01, -4.31526440e-01, -7.40524232e-01],\n",
              "       [ 1.00000000e+00,  2.00718916e+00,  1.44504861e+00,\n",
              "         7.97440441e-01,  1.35003409e+00, -1.50111413e+00,\n",
              "        -5.16637309e-01,  2.18850963e+00, -1.76351527e-01,\n",
              "        -1.18918819e-01,  6.25199243e-01, -1.22358040e-01,\n",
              "        -2.01137790e-01, -1.28945082e-01, -8.51616316e-01],\n",
              "       [ 1.00000000e+00, -7.91425255e-02,  5.68361021e-01,\n",
              "         4.76558032e-02,  3.04274642e-01, -3.15495204e-01,\n",
              "         2.48458069e+00, -6.45970374e-02,  4.60267369e-01,\n",
              "         4.47262749e+00, -1.19432681e+00,  6.31414415e-01,\n",
              "         2.74949823e-02,  6.55715049e-02,  8.46505543e-01],\n",
              "       [ 1.00000000e+00, -1.78491653e-01,  3.49189124e-01,\n",
              "        -7.02128834e-01,  3.04274642e-01, -5.52618989e-01,\n",
              "         1.52614977e+00,  6.30391088e-01, -2.16140208e-01,\n",
              "         2.14493622e+00,  4.04650631e-01,  4.56229590e-02,\n",
              "        -1.03152316e-01,  1.95249230e-01,  1.68763132e+00],\n",
              "       [ 1.00000000e+00, -4.76539036e-01, -5.27498464e-01,\n",
              "        -3.27236516e-01, -2.18605083e-01, -4.34057096e-01,\n",
              "        -3.31247386e-01, -4.23300586e-01, -1.76351527e-01,\n",
              "         5.10810847e-01,  4.04650631e-01, -7.04981340e-02,\n",
              "         7.10440819e-02,  7.78798991e-01,  3.30640169e+00],\n",
              "       [ 1.00000000e+00,  4.17603113e-01, -1.62335795e+00,\n",
              "         2.85934819e+00, -1.31458462e-01,  1.22580939e+00,\n",
              "        -3.66226617e-01, -9.27727451e-01,  7.78576817e-01,\n",
              "        -2.17411268e-01, -3.23440147e+00, -5.11070389e-02,\n",
              "         1.90804106e-01, -4.24932657e-02, -1.69193513e-01],\n",
              "       [ 1.00000000e+00, -4.76539036e-01, -5.27498464e-01,\n",
              "        -3.27236516e-01,  3.04274642e-01, -1.02686656e+00,\n",
              "        -2.81576879e-01, -1.08466025e+00, -1.50927234e+00,\n",
              "        -5.36121413e-01, -4.77543817e-01, -7.10855229e-01,\n",
              "        -3.53559639e-01, -4.09913486e-01, -5.81821255e-01],\n",
              "       [ 1.00000000e+00, -7.91425255e-02,  5.68361021e-01,\n",
              "        -7.02128834e-01,  2.17128021e-01, -1.61967602e+00,\n",
              "         6.52368582e-01, -1.02861282e+00, -1.54906102e+00,\n",
              "        -7.36305938e-01, -9.18641040e-01, -1.79854892e-01,\n",
              "        -2.99123264e-01, -2.58622807e-01,  5.44969885e-01],\n",
              "       [ 1.00000000e+00,  5.16952241e-01,  7.87532918e-01,\n",
              "        -8.89574994e-01,  4.78567883e-01,  4.01904719e-02,\n",
              "        -9.96848789e-02,  1.87464402e+00,  6.19422093e-01,\n",
              "        -4.42705456e-01,  4.04650631e-01,  5.93771079e-02,\n",
              "        -2.88235989e-01, -3.01848715e-01, -1.05712322e-01],\n",
              "       [ 1.00000000e+00, -8.73935547e-01, -5.27498464e-01,\n",
              "         4.22548122e-01, -5.67191566e-01,  1.58752364e-01,\n",
              "         3.10971290e-01, -7.70794649e-01,  2.69753770e-03,\n",
              "        -3.05379153e-01, -2.01858052e-01,  3.71889409e-01,\n",
              "        -3.42672364e-01, -4.09913486e-01, -5.81821255e-01],\n",
              "       [ 1.00000000e+00, -1.78491653e-01,  1.00670482e+00,\n",
              "        -1.39790356e-01, -3.92898324e-01, -1.50111413e+00,\n",
              "         8.74136905e-01,  5.96762630e-01, -2.55928889e-01,\n",
              "         2.42431241e-01, -9.15837456e-02,  2.92972161e-01,\n",
              "        -8.13777665e-02, -1.72170990e-01,  2.11693633e-01],\n",
              "       [ 1.00000000e+00,  2.10653828e+00, -9.65842258e-01,\n",
              "         6.09994281e-01, -2.48441722e+00,  1.34437128e+00,\n",
              "        -6.13879571e-01, -6.69909276e-01,  9.17837201e-01,\n",
              "         2.77250350e-01, -7.53229581e-01, -1.48964426e-01,\n",
              "         1.14888430e+00,  9.30089670e-01, -5.50080659e-01],\n",
              "       [ 1.00000000e+00,  1.41109439e+00, -2.50004554e+00,\n",
              "         2.48445588e+00, -1.78724426e+00,  1.46293318e+00,\n",
              "         2.39613659e-01,  2.04430624e-01,  9.57625882e-01,\n",
              "         3.32549141e-02, -1.80083549e+00,  3.31888491e+00,\n",
              "         2.96705920e+00,  3.19944985e+00,  4.97358992e-01],\n",
              "       [ 1.00000000e+00,  1.51044352e+00, -1.40418605e+00,\n",
              "         2.48445588e+00, -2.22297736e+00,  1.46293318e+00,\n",
              "        -8.45442078e-01, -9.94984366e-01,  1.09688627e+00,\n",
              "        -9.35265470e-02,  6.25199243e-01,  1.97233119e+00,\n",
              "         7.24280575e-01,  1.95249230e-01, -8.19875721e-01],\n",
              "       [ 1.00000000e+00,  6.16301369e-01, -2.28087364e+00,\n",
              "         2.67190203e+00, -3.05751703e-01,  1.46293318e+00,\n",
              "        -1.99025894e-01, -6.92328247e-01,  1.57435044e+00,\n",
              "         1.10840196e-01, -1.24946396e+00,  8.61852778e-01,\n",
              "        -2.01137790e-01, -3.45074623e-01, -5.50080659e-01],\n",
              "       [ 1.00000000e+00, -5.75888164e-01, -8.91546700e-02,\n",
              "        -3.27236516e-01,  5.65714504e-01,  1.58752364e-01,\n",
              "        -1.41840188e+00, -9.50146423e-01, -8.92547785e-01,\n",
              "        -6.03669502e-01, -2.01858052e-01, -8.83796741e-01,\n",
              "        -3.64446914e-01, -4.74752348e-01, -5.50080659e-01],\n",
              "       [ 1.00000000e+00, -9.73284675e-01, -5.27498464e-01,\n",
              "         6.09994281e-01, -4.43118411e-02,  5.14438040e-01,\n",
              "         7.08335351e-01, -9.05308479e-01,  8.18365498e-01,\n",
              "        -5.20121958e-01,  5.14924937e-01, -7.06345672e-01,\n",
              "        -3.31785089e-01, -3.88300532e-01, -4.70729171e-01],\n",
              "       [ 1.00000000e+00, -7.74586420e-01, -3.08326567e-01,\n",
              "         2.35101963e-01, -6.54338186e-01, -3.15495204e-01,\n",
              "        -4.62769294e-01, -2.66367783e-01, -4.94660975e-01,\n",
              "        -5.37200821e-01, -1.46720899e-01, -6.19987656e-01,\n",
              "        -2.99123264e-01, -3.45074623e-01, -4.70729171e-01],\n",
              "       [ 1.00000000e+00, -1.07263380e+00, -7.46670361e-01,\n",
              "         4.22548122e-01,  1.29981400e-01, -7.89742773e-01,\n",
              "        -1.56671382e+00, -1.05103180e+00,  2.01640943e-01,\n",
              "        -7.31287668e-01,  1.84102019e-01, -1.33971295e+00,\n",
              "        -3.64446914e-01, -4.53139394e-01, -6.92913339e-01],\n",
              "       [ 1.00000000e+00,  3.18253985e-01,  7.87532918e-01,\n",
              "        -1.07702115e+00,  3.04274642e-01,  1.58149507e+00,\n",
              "         9.77675428e-01,  1.57198790e+00,  2.64864482e+00,\n",
              "         1.18590054e+00,  1.86905603e-02,  1.94843054e+00,\n",
              "         2.88789580e-01,  1.08797413e-01,  7.51283756e-01],\n",
              "       [ 1.00000000e+00, -1.78491653e-01,  1.44504861e+00,\n",
              "        -7.02128834e-01, -9.15778048e-01,  1.34437128e+00,\n",
              "        -1.71742094e-01, -4.90557501e-01,  1.03720324e+00,\n",
              "        -6.71669635e-01,  1.28964866e-01,  3.52949269e-01,\n",
              "        -3.75334189e-01, -4.53139394e-01, -8.51616316e-01],\n",
              "       [ 1.00000000e+00, -7.91425255e-02,  3.49189124e-01,\n",
              "        -3.27236516e-01,  2.30864692e+00,  3.95876148e-01,\n",
              "        -5.30629002e-01,  2.50788498e-02,  1.81746602e-01,\n",
              "        -5.98460864e-01,  7.90610702e-01,  1.53401372e-01,\n",
              "        -2.66461440e-01, -2.58622807e-01, -2.00934109e-01],\n",
              "       [ 1.00000000e+00, -9.73284675e-01, -9.65842258e-01,\n",
              "        -3.27236516e-01,  2.30864692e+00,  1.58752364e-01,\n",
              "        -1.62647494e-01, -1.21917408e+00, -3.15611910e-01,\n",
              "        -6.77161536e-01,  1.86905603e-02, -8.73199282e-01,\n",
              "        -3.42672364e-01, -4.31526440e-01, -7.40524232e-01],\n",
              "       [ 1.00000000e+00, -7.91425255e-02,  3.49189124e-01,\n",
              "        -7.02128834e-01,  2.04720706e+00, -2.33104737e+00,\n",
              "         4.04955147e+00, -7.93213620e-01,  3.14600334e+00,\n",
              "        -6.91333191e-01, -1.46720899e-01, -9.60910166e-01,\n",
              "        -3.31785089e-01, -3.23461669e-01, -8.98420245e-02],\n",
              "       [ 1.00000000e+00, -5.75888164e-01, -5.27498464e-01,\n",
              "         4.76558032e-02, -4.43118411e-02, -3.15495204e-01,\n",
              "        -3.21453202e-01, -1.97590938e-02, -1.76789877e+00,\n",
              "        -5.93142977e-01,  1.28684508e+00, -9.66547112e-01,\n",
              "        -2.66461440e-01, -2.15396899e-01, -2.48545002e-01]])"
            ]
          },
          "metadata": {},
          "execution_count": 56
        }
      ]
    },
    {
      "cell_type": "code",
      "metadata": {
        "id": "25CG-UD8QyXC"
      },
      "source": [
        "betaVec = np.linalg.inv(Xmat.T.dot(Xmat)).dot(Xmat.T).dot(y)"
      ],
      "execution_count": 57,
      "outputs": []
    },
    {
      "cell_type": "code",
      "metadata": {
        "colab": {
          "base_uri": "https://localhost:8080/"
        },
        "id": "CsghNBMaRIT0",
        "outputId": "9d49579f-509f-4c62-ab7b-6b62454f0964"
      },
      "source": [
        "betaVec"
      ],
      "execution_count": 58,
      "outputs": [
        {
          "output_type": "execute_result",
          "data": {
            "text/plain": [
              "array([[-2.70616862e-16],\n",
              "       [-2.34377091e-01],\n",
              "       [-2.17496828e-01],\n",
              "       [ 1.17238925e-02],\n",
              "       [ 1.79754504e-01],\n",
              "       [-1.50544513e-01],\n",
              "       [ 1.08945825e-01],\n",
              "       [ 7.64348559e-01],\n",
              "       [-1.21202349e-01],\n",
              "       [ 8.40325965e-02],\n",
              "       [-1.11479218e-01],\n",
              "       [-3.04687337e-02],\n",
              "       [-9.96190618e-01],\n",
              "       [ 8.81043305e-01],\n",
              "       [ 8.61146149e-02]])"
            ]
          },
          "metadata": {},
          "execution_count": 58
        }
      ]
    },
    {
      "cell_type": "code",
      "metadata": {
        "colab": {
          "base_uri": "https://localhost:8080/"
        },
        "id": "2lFsTmXdRK4t",
        "outputId": "51bf1307-7bd6-4de4-e06e-69456ed216ba"
      },
      "source": [
        "np.around(betaVec.T, decimals=3) # answer is here"
      ],
      "execution_count": 59,
      "outputs": [
        {
          "output_type": "execute_result",
          "data": {
            "text/plain": [
              "array([[-0.   , -0.234, -0.217,  0.012,  0.18 , -0.151,  0.109,  0.764,\n",
              "        -0.121,  0.084, -0.111, -0.03 , -0.996,  0.881,  0.086]])"
            ]
          },
          "metadata": {},
          "execution_count": 59
        }
      ]
    },
    {
      "cell_type": "markdown",
      "metadata": {
        "id": "Yr3l8PnSS0IA"
      },
      "source": [
        "## Part E"
      ]
    },
    {
      "cell_type": "code",
      "metadata": {
        "colab": {
          "base_uri": "https://localhost:8080/",
          "height": 0
        },
        "id": "HLCt0BkLS2mv",
        "outputId": "066942f5-1689-48e4-ccc3-5c55dac2527f"
      },
      "source": [
        "\n",
        "plt.scatter(np.log(df[df.columns[2]]), np.log(np.array(df[df.columns[1]])))"
      ],
      "execution_count": 60,
      "outputs": [
        {
          "output_type": "execute_result",
          "data": {
            "text/plain": [
              "<matplotlib.collections.PathCollection at 0x7f6ba14aa950>"
            ]
          },
          "metadata": {},
          "execution_count": 60
        },
        {
          "output_type": "display_data",
          "data": {
            "image/png": "[encoded data removed]",
            "text/plain": [
              "<Figure size 432x288 with 1 Axes>"
            ]
          },
          "metadata": {
            "needs_background": "light"
          }
        }
      ]
    },
    {
      "cell_type": "code",
      "metadata": {
        "colab": {
          "base_uri": "https://localhost:8080/",
          "height": 0
        },
        "id": "QPCUjZyWVtn_",
        "outputId": "01706515-2935-44c0-8901-66f57984c289"
      },
      "source": [
        "predictions = Xmat.dot(betaVec)\n",
        "plt.scatter(Xmat[:, 1], y - predictions)"
      ],
      "execution_count": 61,
      "outputs": [
        {
          "output_type": "execute_result",
          "data": {
            "text/plain": [
              "<matplotlib.collections.PathCollection at 0x7f6ba145dd10>"
            ]
          },
          "metadata": {},
          "execution_count": 61
        },
        {
          "output_type": "display_data",
          "data": {
            "image/png": "[encoded data removed]",
            "text/plain": [
              "<Figure size 432x288 with 1 Axes>"
            ]
          },
          "metadata": {
            "needs_background": "light"
          }
        }
      ]
    },
    {
      "cell_type": "code",
      "metadata": {
        "colab": {
          "base_uri": "https://localhost:8080/",
          "height": 0
        },
        "id": "DP794QK4UIgg",
        "outputId": "99049080-7e7a-450c-d47b-3cf7da304398"
      },
      "source": [
        "plt.scatter(Xmat[:, 2], y - predictions)"
      ],
      "execution_count": 62,
      "outputs": [
        {
          "output_type": "execute_result",
          "data": {
            "text/plain": [
              "<matplotlib.collections.PathCollection at 0x7f6ba142b390>"
            ]
          },
          "metadata": {},
          "execution_count": 62
        },
        {
          "output_type": "display_data",
          "data": {
            "image/png": "[encoded data removed]",
            "text/plain": [
              "<Figure size 432x288 with 1 Axes>"
            ]
          },
          "metadata": {
            "needs_background": "light"
          }
        }
      ]
    },
    {
      "cell_type": "code",
      "metadata": {
        "colab": {
          "base_uri": "https://localhost:8080/",
          "height": 0
        },
        "id": "sTCu2kMEUOBP",
        "outputId": "37dfe14b-3bfe-422d-f691-491d02d9c25a"
      },
      "source": [
        "plt.scatter(Xmat[:, 3], y - predictions)"
      ],
      "execution_count": 63,
      "outputs": [
        {
          "output_type": "execute_result",
          "data": {
            "text/plain": [
              "<matplotlib.collections.PathCollection at 0x7f6ba13b1b50>"
            ]
          },
          "metadata": {},
          "execution_count": 63
        },
        {
          "output_type": "display_data",
          "data": {
            "image/png": "[encoded data removed]",
            "text/plain": [
              "<Figure size 432x288 with 1 Axes>"
            ]
          },
          "metadata": {
            "needs_background": "light"
          }
        }
      ]
    },
    {
      "cell_type": "code",
      "metadata": {
        "colab": {
          "base_uri": "https://localhost:8080/",
          "height": 0
        },
        "id": "ixJSfDuJUwfP",
        "outputId": "29da3690-ea94-4862-ad79-e8da2ba35c3e"
      },
      "source": [
        "sm.qqplot(Xmat[:, 3], line='s')\n",
        "plt.title(\"X distribution\")"
      ],
      "execution_count": 64,
      "outputs": [
        {
          "output_type": "execute_result",
          "data": {
            "text/plain": [
              "Text(0.5, 1.0, 'X distribution')"
            ]
          },
          "metadata": {},
          "execution_count": 64
        },
        {
          "output_type": "display_data",
          "data": {
            "image/png": "[encoded data removed]",
            "text/plain": [
              "<Figure size 432x288 with 1 Axes>"
            ]
          },
          "metadata": {
            "needs_background": "light"
          }
        }
      ]
    },
    {
      "cell_type": "code",
      "metadata": {
        "colab": {
          "base_uri": "https://localhost:8080/",
          "height": 0
        },
        "id": "lETzGySCWKun",
        "outputId": "749b616c-bbcf-4eac-9214-64446304a729"
      },
      "source": [
        "plt.scatter(np.log(df[df.columns[3+1]]), np.log(np.array(df[df.columns[1]])))"
      ],
      "execution_count": 65,
      "outputs": [
        {
          "output_type": "execute_result",
          "data": {
            "text/plain": [
              "<matplotlib.collections.PathCollection at 0x7f6ba12d1250>"
            ]
          },
          "metadata": {},
          "execution_count": 65
        },
        {
          "output_type": "display_data",
          "data": {
            "image/png": "[encoded data removed]",
            "text/plain": [
              "<Figure size 432x288 with 1 Axes>"
            ]
          },
          "metadata": {
            "needs_background": "light"
          }
        }
      ]
    },
    {
      "cell_type": "code",
      "metadata": {
        "colab": {
          "base_uri": "https://localhost:8080/",
          "height": 0
        },
        "id": "-qBu-76eUTmj",
        "outputId": "dff06c87-98c1-4a65-8491-5e78c547778b"
      },
      "source": [
        "plt.scatter(Xmat[:, 4], y - predictions)"
      ],
      "execution_count": 66,
      "outputs": [
        {
          "output_type": "execute_result",
          "data": {
            "text/plain": [
              "<matplotlib.collections.PathCollection at 0x7f6ba1262250>"
            ]
          },
          "metadata": {},
          "execution_count": 66
        },
        {
          "output_type": "display_data",
          "data": {
            "image/png": "[encoded data removed]",
            "text/plain": [
              "<Figure size 432x288 with 1 Axes>"
            ]
          },
          "metadata": {
            "needs_background": "light"
          }
        }
      ]
    },
    {
      "cell_type": "code",
      "metadata": {
        "colab": {
          "base_uri": "https://localhost:8080/",
          "height": 0
        },
        "id": "5X7_w4ynUqJ-",
        "outputId": "89938e81-2702-41ff-b450-aab91b69a5b3"
      },
      "source": [
        "sm.qqplot(Xmat[:, 4], line='s')\n",
        "plt.title(\"X distribution\")"
      ],
      "execution_count": 67,
      "outputs": [
        {
          "output_type": "execute_result",
          "data": {
            "text/plain": [
              "Text(0.5, 1.0, 'X distribution')"
            ]
          },
          "metadata": {},
          "execution_count": 67
        },
        {
          "output_type": "display_data",
          "data": {
            "image/png": "[encoded data removed]",
            "text/plain": [
              "<Figure size 432x288 with 1 Axes>"
            ]
          },
          "metadata": {
            "needs_background": "light"
          }
        }
      ]
    },
    {
      "cell_type": "code",
      "metadata": {
        "colab": {
          "base_uri": "https://localhost:8080/",
          "height": 0
        },
        "id": "Rpimo8Y8UW5b",
        "outputId": "41b2a592-b1cf-4e15-8714-5398dc5e1559"
      },
      "source": [
        "plt.scatter(Xmat[:, 5], y - predictions)"
      ],
      "execution_count": 68,
      "outputs": [
        {
          "output_type": "execute_result",
          "data": {
            "text/plain": [
              "<matplotlib.collections.PathCollection at 0x7f6ba12a6a50>"
            ]
          },
          "metadata": {},
          "execution_count": 68
        },
        {
          "output_type": "display_data",
          "data": {
            "image/png": "[encoded data removed]",
            "text/plain": [
              "<Figure size 432x288 with 1 Axes>"
            ]
          },
          "metadata": {
            "needs_background": "light"
          }
        }
      ]
    },
    {
      "cell_type": "code",
      "metadata": {
        "colab": {
          "base_uri": "https://localhost:8080/",
          "height": 0
        },
        "id": "hkVRNpz-UjrB",
        "outputId": "d23d574f-bff1-4fa1-9218-743b2f533c0b"
      },
      "source": [
        "sm.qqplot(Xmat[:, 5], line='s')\n",
        "plt.title(\"X distribution\")"
      ],
      "execution_count": 69,
      "outputs": [
        {
          "output_type": "execute_result",
          "data": {
            "text/plain": [
              "Text(0.5, 1.0, 'X distribution')"
            ]
          },
          "metadata": {},
          "execution_count": 69
        },
        {
          "output_type": "display_data",
          "data": {
            "image/png": "[encoded data removed]",
            "text/plain": [
              "<Figure size 432x288 with 1 Axes>"
            ]
          },
          "metadata": {
            "needs_background": "light"
          }
        }
      ]
    },
    {
      "cell_type": "code",
      "metadata": {
        "colab": {
          "base_uri": "https://localhost:8080/",
          "height": 0
        },
        "id": "twSeI0MGWTfl",
        "outputId": "4609d2f5-a32e-4c51-8c16-3ad036993685"
      },
      "source": [
        "plt.scatter(Xmat[:, 6], y - predictions)"
      ],
      "execution_count": 70,
      "outputs": [
        {
          "output_type": "execute_result",
          "data": {
            "text/plain": [
              "<matplotlib.collections.PathCollection at 0x7f6ba10a1b90>"
            ]
          },
          "metadata": {},
          "execution_count": 70
        },
        {
          "output_type": "display_data",
          "data": {
            "image/png": "[encoded data removed]",
            "text/plain": [
              "<Figure size 432x288 with 1 Axes>"
            ]
          },
          "metadata": {
            "needs_background": "light"
          }
        }
      ]
    },
    {
      "cell_type": "code",
      "metadata": {
        "colab": {
          "base_uri": "https://localhost:8080/",
          "height": 0
        },
        "id": "OetK6vyOWV0g",
        "outputId": "1f9b0be2-3bb6-486e-c1b3-99e7dcb494ca"
      },
      "source": [
        "plt.scatter(Xmat[:, 7], y - predictions)"
      ],
      "execution_count": 71,
      "outputs": [
        {
          "output_type": "execute_result",
          "data": {
            "text/plain": [
              "<matplotlib.collections.PathCollection at 0x7f6ba104d890>"
            ]
          },
          "metadata": {},
          "execution_count": 71
        },
        {
          "output_type": "display_data",
          "data": {
            "image/png": "[encoded data removed]",
            "text/plain": [
              "<Figure size 432x288 with 1 Axes>"
            ]
          },
          "metadata": {
            "needs_background": "light"
          }
        }
      ]
    },
    {
      "cell_type": "code",
      "metadata": {
        "colab": {
          "base_uri": "https://localhost:8080/",
          "height": 0
        },
        "id": "Y-D6wNTWWYmq",
        "outputId": "a548e0c9-9599-4e11-cc67-ddb7d8e6cabd"
      },
      "source": [
        "plt.scatter(Xmat[:, 8], y - predictions)"
      ],
      "execution_count": 72,
      "outputs": [
        {
          "output_type": "execute_result",
          "data": {
            "text/plain": [
              "<matplotlib.collections.PathCollection at 0x7f6ba0fd6e90>"
            ]
          },
          "metadata": {},
          "execution_count": 72
        },
        {
          "output_type": "display_data",
          "data": {
            "image/png": "[encoded data removed]",
            "text/plain": [
              "<Figure size 432x288 with 1 Axes>"
            ]
          },
          "metadata": {
            "needs_background": "light"
          }
        }
      ]
    },
    {
      "cell_type": "code",
      "metadata": {
        "colab": {
          "base_uri": "https://localhost:8080/",
          "height": 0
        },
        "id": "ft8FJxfLWatO",
        "outputId": "2ab1551b-09f6-44f8-a6a1-a892b6cd735d"
      },
      "source": [
        "plt.scatter(Xmat[:, 9], y - predictions)"
      ],
      "execution_count": 73,
      "outputs": [
        {
          "output_type": "execute_result",
          "data": {
            "text/plain": [
              "<matplotlib.collections.PathCollection at 0x7f6ba9722250>"
            ]
          },
          "metadata": {},
          "execution_count": 73
        },
        {
          "output_type": "display_data",
          "data": {
            "image/png": "[encoded data removed]",
            "text/plain": [
              "<Figure size 432x288 with 1 Axes>"
            ]
          },
          "metadata": {
            "needs_background": "light"
          }
        }
      ]
    },
    {
      "cell_type": "code",
      "metadata": {
        "colab": {
          "base_uri": "https://localhost:8080/",
          "height": 0
        },
        "id": "fcq7hOpnXAD0",
        "outputId": "bcf87806-a518-473a-f54b-7e43bec13efe"
      },
      "source": [
        "sm.qqplot(Xmat[:, 9], line='s')\n",
        "plt.title(\"X distribution\")"
      ],
      "execution_count": 74,
      "outputs": [
        {
          "output_type": "execute_result",
          "data": {
            "text/plain": [
              "Text(0.5, 1.0, 'X distribution')"
            ]
          },
          "metadata": {},
          "execution_count": 74
        },
        {
          "output_type": "display_data",
          "data": {
            "image/png": "[encoded data removed]",
            "text/plain": [
              "<Figure size 432x288 with 1 Axes>"
            ]
          },
          "metadata": {
            "needs_background": "light"
          }
        }
      ]
    },
    {
      "cell_type": "code",
      "metadata": {
        "colab": {
          "base_uri": "https://localhost:8080/",
          "height": 0
        },
        "id": "8xe0QCV_Ykp8",
        "outputId": "3310b83b-8e0e-4272-ebd2-1957f929be0f"
      },
      "source": [
        "plt.scatter(np.log(df[df.columns[10]]),np.array(df[df.columns[1]]))"
      ],
      "execution_count": 75,
      "outputs": [
        {
          "output_type": "execute_result",
          "data": {
            "text/plain": [
              "<matplotlib.collections.PathCollection at 0x7f6ba0ee0090>"
            ]
          },
          "metadata": {},
          "execution_count": 75
        },
        {
          "output_type": "display_data",
          "data": {
            "image/png": "[encoded data removed]",
            "text/plain": [
              "<Figure size 432x288 with 1 Axes>"
            ]
          },
          "metadata": {
            "needs_background": "light"
          }
        }
      ]
    },
    {
      "cell_type": "code",
      "metadata": {
        "colab": {
          "base_uri": "https://localhost:8080/",
          "height": 0
        },
        "id": "pnh8uSfkWf8B",
        "outputId": "ec7f13cb-2301-43a3-aa3b-f16fa6cb3303"
      },
      "source": [
        "plt.scatter(Xmat[:, 10], y - predictions)"
      ],
      "execution_count": 76,
      "outputs": [
        {
          "output_type": "execute_result",
          "data": {
            "text/plain": [
              "<matplotlib.collections.PathCollection at 0x7f6ba0e59710>"
            ]
          },
          "metadata": {},
          "execution_count": 76
        },
        {
          "output_type": "display_data",
          "data": {
            "image/png": "[encoded data removed]",
            "text/plain": [
              "<Figure size 432x288 with 1 Axes>"
            ]
          },
          "metadata": {
            "needs_background": "light"
          }
        }
      ]
    },
    {
      "cell_type": "code",
      "metadata": {
        "colab": {
          "base_uri": "https://localhost:8080/",
          "height": 0
        },
        "id": "r8HtukUvXp8_",
        "outputId": "a95e1bfb-7936-4b74-c762-53de756886d5"
      },
      "source": [
        "sm.qqplot(Xmat[:, 10], line='s')\n",
        "plt.title(\"X distribution\")"
      ],
      "execution_count": 77,
      "outputs": [
        {
          "output_type": "execute_result",
          "data": {
            "text/plain": [
              "Text(0.5, 1.0, 'X distribution')"
            ]
          },
          "metadata": {},
          "execution_count": 77
        },
        {
          "output_type": "display_data",
          "data": {
            "image/png": "[encoded data removed]",
            "text/plain": [
              "<Figure size 432x288 with 1 Axes>"
            ]
          },
          "metadata": {
            "needs_background": "light"
          }
        }
      ]
    },
    {
      "cell_type": "code",
      "metadata": {
        "colab": {
          "base_uri": "https://localhost:8080/",
          "height": 0
        },
        "id": "1ejL-CYoWirs",
        "outputId": "b856f9e3-80d4-41d8-a538-f0ce74fe5baa"
      },
      "source": [
        "plt.scatter(Xmat[:, 11], y - predictions)"
      ],
      "execution_count": 78,
      "outputs": [
        {
          "output_type": "execute_result",
          "data": {
            "text/plain": [
              "<matplotlib.collections.PathCollection at 0x7f6ba0d96810>"
            ]
          },
          "metadata": {},
          "execution_count": 78
        },
        {
          "output_type": "display_data",
          "data": {
            "image/png": "[encoded data removed]",
            "text/plain": [
              "<Figure size 432x288 with 1 Axes>"
            ]
          },
          "metadata": {
            "needs_background": "light"
          }
        }
      ]
    },
    {
      "cell_type": "code",
      "metadata": {
        "colab": {
          "base_uri": "https://localhost:8080/",
          "height": 0
        },
        "id": "deRIK2xVXu3I",
        "outputId": "a2cde513-50f8-4b99-839b-92b52ff4a4ee"
      },
      "source": [
        "sm.qqplot(Xmat[:, 11], line='s')\n",
        "plt.title(\"X distribution\")"
      ],
      "execution_count": 79,
      "outputs": [
        {
          "output_type": "execute_result",
          "data": {
            "text/plain": [
              "Text(0.5, 1.0, 'X distribution')"
            ]
          },
          "metadata": {},
          "execution_count": 79
        },
        {
          "output_type": "display_data",
          "data": {
            "image/png": "[encoded data removed]",
            "text/plain": [
              "<Figure size 432x288 with 1 Axes>"
            ]
          },
          "metadata": {
            "needs_background": "light"
          }
        }
      ]
    },
    {
      "cell_type": "code",
      "metadata": {
        "colab": {
          "base_uri": "https://localhost:8080/",
          "height": 0
        },
        "id": "nSlLBZBAWlM9",
        "outputId": "00c56e60-fa8e-40da-c393-364175bec654"
      },
      "source": [
        "plt.scatter(Xmat[:, 12], y - predictions)"
      ],
      "execution_count": 80,
      "outputs": [
        {
          "output_type": "execute_result",
          "data": {
            "text/plain": [
              "<matplotlib.collections.PathCollection at 0x7f6ba0c93f10>"
            ]
          },
          "metadata": {},
          "execution_count": 80
        },
        {
          "output_type": "display_data",
          "data": {
            "image/png": "[encoded data removed]",
            "text/plain": [
              "<Figure size 432x288 with 1 Axes>"
            ]
          },
          "metadata": {
            "needs_background": "light"
          }
        }
      ]
    },
    {
      "cell_type": "code",
      "metadata": {
        "colab": {
          "base_uri": "https://localhost:8080/",
          "height": 0
        },
        "id": "ozoM6RRPWqD3",
        "outputId": "127acebf-13db-4719-e8fa-dedef3b1fecb"
      },
      "source": [
        "plt.scatter(Xmat[:, 13], y - predictions)"
      ],
      "execution_count": 81,
      "outputs": [
        {
          "output_type": "execute_result",
          "data": {
            "text/plain": [
              "<matplotlib.collections.PathCollection at 0x7f6ba0c5bb50>"
            ]
          },
          "metadata": {},
          "execution_count": 81
        },
        {
          "output_type": "display_data",
          "data": {
            "image/png": "[encoded data removed]",
            "text/plain": [
              "<Figure size 432x288 with 1 Axes>"
            ]
          },
          "metadata": {
            "needs_background": "light"
          }
        }
      ]
    },
    {
      "cell_type": "code",
      "metadata": {
        "colab": {
          "base_uri": "https://localhost:8080/",
          "height": 0
        },
        "id": "nvkU1h2bW2Uq",
        "outputId": "32f4723f-21af-4e47-d40e-cd13879585ee"
      },
      "source": [
        "sm.qqplot(Xmat[:, 13], line='s')\n",
        "plt.title(\"X distribution\")"
      ],
      "execution_count": 82,
      "outputs": [
        {
          "output_type": "execute_result",
          "data": {
            "text/plain": [
              "Text(0.5, 1.0, 'X distribution')"
            ]
          },
          "metadata": {},
          "execution_count": 82
        },
        {
          "output_type": "display_data",
          "data": {
            "image/png": "[encoded data removed]",
            "text/plain": [
              "<Figure size 432x288 with 1 Axes>"
            ]
          },
          "metadata": {
            "needs_background": "light"
          }
        }
      ]
    },
    {
      "cell_type": "code",
      "metadata": {
        "colab": {
          "base_uri": "https://localhost:8080/",
          "height": 0
        },
        "id": "hLgcqzWeWufB",
        "outputId": "677dacfc-9071-4d7b-aa78-bd3ee627f100"
      },
      "source": [
        "plt.scatter(Xmat[:, 14], y - predictions)"
      ],
      "execution_count": 83,
      "outputs": [
        {
          "output_type": "execute_result",
          "data": {
            "text/plain": [
              "<matplotlib.collections.PathCollection at 0x7f6ba0b5b250>"
            ]
          },
          "metadata": {},
          "execution_count": 83
        },
        {
          "output_type": "display_data",
          "data": {
            "image/png": "[encoded data removed]",
            "text/plain": [
              "<Figure size 432x288 with 1 Axes>"
            ]
          },
          "metadata": {
            "needs_background": "light"
          }
        }
      ]
    },
    {
      "cell_type": "code",
      "metadata": {
        "colab": {
          "base_uri": "https://localhost:8080/",
          "height": 0
        },
        "id": "aHrJOzvgXjuP",
        "outputId": "b3470ebd-7230-454b-ada5-097dc5fc5277"
      },
      "source": [
        "sm.qqplot(Xmat[:, 14], line='s')\n",
        "plt.title(\"X distribution\")"
      ],
      "execution_count": 84,
      "outputs": [
        {
          "output_type": "execute_result",
          "data": {
            "text/plain": [
              "Text(0.5, 1.0, 'X distribution')"
            ]
          },
          "metadata": {},
          "execution_count": 84
        },
        {
          "output_type": "display_data",
          "data": {
            "image/png": "[encoded data removed]",
            "text/plain": [
              "<Figure size 432x288 with 1 Axes>"
            ]
          },
          "metadata": {
            "needs_background": "light"
          }
        }
      ]
    },
    {
      "cell_type": "code",
      "metadata": {
        "id": "kvIfMCFpXJLL"
      },
      "source": [
        "list_name = [\"intercept\", \"JanTemp\", \"JulyTemp\", \"RelHum\", \"Rain\", \"Educ\", \"Dens\", \"NonWhite\", \"WhiteCollar\", \"Pop\", \"House\", \"Income\", \"HC\", \"NOx\", \"SO2\"]"
      ],
      "execution_count": 85,
      "outputs": []
    },
    {
      "cell_type": "code",
      "metadata": {
        "colab": {
          "base_uri": "https://localhost:8080/"
        },
        "id": "9fD7OwYfXd-r",
        "outputId": "c4e7efe7-b09a-4ab4-9dd9-b63324cfceb7"
      },
      "source": [
        "# 1, 6, 7, 9, 8, 11, 12, 13, 14 fail\n",
        "# 1, 6, 7, 9, 11, 12, 13, 14 fail\n",
        "# 9, 12, 13, 14 fail\n",
        "# 9, 12, 13 fail\n",
        "# 9, 12, 13, 14 strong candidate but fail\n",
        "# 1, 6, 7, 11 is week but fail\n",
        "# 6, 7, 9, 12, 13, 14 fail\n",
        "# 6, 7, 9, 11, 12, 13, 14 fail\n",
        "# 1, 6, 7, 9, 12, 13, 14 fail\n",
        "#  7, 9, 12, 13, 14\n",
        "a = [7, 9, 12, 13, 14]\n",
        "for i in a:\n",
        "  print(list_name[i])"
      ],
      "execution_count": 86,
      "outputs": [
        {
          "output_type": "stream",
          "name": "stdout",
          "text": [
            "NonWhite\n",
            "Pop\n",
            "HC\n",
            "NOx\n",
            "SO2\n"
          ]
        }
      ]
    },
    {
      "cell_type": "code",
      "metadata": {
        "colab": {
          "base_uri": "https://localhost:8080/",
          "height": 0
        },
        "id": "hyEk2CcZcS5B",
        "outputId": "c1a6fa9f-483b-49cd-acaf-9712daf88c56"
      },
      "source": [
        "import statsmodels.api as sm\n",
        "\n",
        "from scipy import stats as ss\n",
        "\n",
        "import numpy as np\n",
        "\n",
        "plot = sm.qqplot(df[list_name[6]], ss.norm, fit=True, line='45')\n",
        "\n",
        "plot = sm.qqplot(np.log(df[list_name[6]]), ss.norm, fit=True, line='45')"
      ],
      "execution_count": 87,
      "outputs": [
        {
          "output_type": "display_data",
          "data": {
            "image/png": "[encoded data removed]",
            "text/plain": [
              "<Figure size 432x288 with 1 Axes>"
            ]
          },
          "metadata": {
            "needs_background": "light"
          }
        },
        {
          "output_type": "display_data",
          "data": {
            "image/png": "[encoded data removed]",
            "text/plain": [
              "<Figure size 432x288 with 1 Axes>"
            ]
          },
          "metadata": {
            "needs_background": "light"
          }
        }
      ]
    }
  ]
}